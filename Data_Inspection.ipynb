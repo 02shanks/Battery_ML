{
 "cells": [
  {
   "cell_type": "code",
   "execution_count": 2,
   "id": "42d7c56b",
   "metadata": {},
   "outputs": [],
   "source": [
    "import os\n",
    "import numpy as np\n",
    "import pandas as pd\n",
    "import matplotlib.pyplot as plt \n",
    "from ipywidgets import interact"
   ]
  },
  {
   "cell_type": "code",
   "execution_count": 16,
   "id": "d6eccb43",
   "metadata": {},
   "outputs": [
    {
     "name": "stdout",
     "output_type": "stream",
     "text": [
      "C:\\Users\\BLOODYPROF\\Documents\\oorja.energy\\Modified_Clean_files\\test\n"
     ]
    }
   ],
   "source": [
    "cd Modified_Clean_files/test/"
   ]
  },
  {
   "cell_type": "code",
   "execution_count": 31,
   "id": "cba95f15",
   "metadata": {},
   "outputs": [],
   "source": [
    "def interactive_plt(x):\n",
    "    plt.plot(df[\"Test_Time (s)\"][x:x+1000],df[\"Cell_Temperature (C)\"][x:x+1000])\n",
    "\n",
    "    plt.xlabel('Test_Time (s)') \n",
    "    plt.ylabel('Cell_Temperature (C)') \n",
    "\n",
    "    plt.title('Cell_Temperature (C) vs Test_Time (s)') \n",
    "\n",
    "    plt.show()"
   ]
  },
  {
   "cell_type": "markdown",
   "id": "01882495",
   "metadata": {},
   "source": [
    "## Ploting Data"
   ]
  },
  {
   "cell_type": "code",
   "execution_count": 32,
   "id": "e09f2542",
   "metadata": {},
   "outputs": [
    {
     "data": {
      "application/vnd.jupyter.widget-view+json": {
       "model_id": "a282c485ea6e45a99bf8911ac6b8b2c7",
       "version_major": 2,
       "version_minor": 0
      },
      "text/plain": [
       "interactive(children=(IntSlider(value=17252, description='x', max=51756, min=-17252), Output()), _dom_classes=…"
      ]
     },
     "metadata": {},
     "output_type": "display_data"
    },
    {
     "data": {
      "application/vnd.jupyter.widget-view+json": {
       "model_id": "aa7e67906eca4174b3d366e815c78ff7",
       "version_major": 2,
       "version_minor": 0
      },
      "text/plain": [
       "interactive(children=(IntSlider(value=17252, description='x', max=51756, min=-17252), Output()), _dom_classes=…"
      ]
     },
     "metadata": {},
     "output_type": "display_data"
    },
    {
     "data": {
      "application/vnd.jupyter.widget-view+json": {
       "model_id": "2e606f7bf7104981a72dc988776f73f0",
       "version_major": 2,
       "version_minor": 0
      },
      "text/plain": [
       "interactive(children=(IntSlider(value=17252, description='x', max=51756, min=-17252), Output()), _dom_classes=…"
      ]
     },
     "metadata": {},
     "output_type": "display_data"
    },
    {
     "data": {
      "application/vnd.jupyter.widget-view+json": {
       "model_id": "2d73008a616b45af8abcdf2a956d2ebc",
       "version_major": 2,
       "version_minor": 0
      },
      "text/plain": [
       "interactive(children=(IntSlider(value=17252, description='x', max=51756, min=-17252), Output()), _dom_classes=…"
      ]
     },
     "metadata": {},
     "output_type": "display_data"
    },
    {
     "data": {
      "application/vnd.jupyter.widget-view+json": {
       "model_id": "42a6468980f04990863638e427bd8f75",
       "version_major": 2,
       "version_minor": 0
      },
      "text/plain": [
       "interactive(children=(IntSlider(value=17252, description='x', max=51756, min=-17252), Output()), _dom_classes=…"
      ]
     },
     "metadata": {},
     "output_type": "display_data"
    },
    {
     "data": {
      "application/vnd.jupyter.widget-view+json": {
       "model_id": "0fc3530406274189a87e13cb1427c8c1",
       "version_major": 2,
       "version_minor": 0
      },
      "text/plain": [
       "interactive(children=(IntSlider(value=17252, description='x', max=51756, min=-17252), Output()), _dom_classes=…"
      ]
     },
     "metadata": {},
     "output_type": "display_data"
    }
   ],
   "source": [
    "folder_path = r'C:\\\\Users\\\\BLOODYPROF\\\\Documents\\\\oorja.energy\\\\Modified_Clean_files\\\\test'\n",
    "fileNames = os.listdir(folder_path)\n",
    "\n",
    "for filname in fileNames:\n",
    "    df=pd.read_csv(filname)\n",
    "    interact(interactive_plt, x=17252)"
   ]
  },
  {
   "cell_type": "markdown",
   "id": "bd1fd24b",
   "metadata": {},
   "source": [
    "## Cleaning Discharge Cap"
   ]
  },
  {
   "cell_type": "code",
   "execution_count": 12,
   "id": "82dacbad",
   "metadata": {},
   "outputs": [
    {
     "data": {
      "image/png": "[encoded data removed]",
      "text/plain": [
       "<Figure size 432x288 with 1 Axes>"
      ]
     },
     "metadata": {
      "needs_background": "light"
     },
     "output_type": "display_data"
    },
    {
     "data": {
      "image/png": "[encoded data removed]",
      "text/plain": [
       "<Figure size 432x288 with 1 Axes>"
      ]
     },
     "metadata": {
      "needs_background": "light"
     },
     "output_type": "display_data"
    }
   ],
   "source": [
    "df = pd.read_csv(\"cleaned_UL-PUR_N10-NA7_18650_NCA_23C_0-100_0.5-0.5C_g_timeseries.csv\")\n",
    "plt.plot(df[\"Test_Time (s)\"][:100],df[\"Charge_Capacity (Ah)\"][:100])\n",
    "plt.show()\n",
    "plt.plot(df[\"Test_Time (s)\"][100:200],df[\"Charge_Capacity (Ah)\"][100:200])\n",
    "plt.xlabel('Time') \n",
    "plt.ylabel('Charge_Capacity (Ah)') \n",
    "plt.title('Charge_Capacity (Ah) vs Time') \n",
    "plt.show()"
   ]
  },
  {
   "cell_type": "code",
   "execution_count": null,
   "id": "96a42e9e",
   "metadata": {},
   "outputs": [],
   "source": []
  },
  {
   "cell_type": "code",
   "execution_count": 24,
   "id": "b6af7219",
   "metadata": {},
   "outputs": [
    {
     "name": "stderr",
     "output_type": "stream",
     "text": [
      "C:\\Users\\BLOODYPROF\\AppData\\Local\\Temp\\ipykernel_7016\\686541946.py:19: SettingWithCopyWarning: \n",
      "A value is trying to be set on a copy of a slice from a DataFrame\n",
      "\n",
      "See the caveats in the documentation: https://pandas.pydata.org/pandas-docs/stable/user_guide/indexing.html#returning-a-view-versus-a-copy\n",
      "  df[\"Charge_Capacity (Ah)\"].iloc[i]=0\n",
      "C:\\Users\\BLOODYPROF\\AppData\\Local\\Temp\\ipykernel_7016\\686541946.py:20: SettingWithCopyWarning: \n",
      "A value is trying to be set on a copy of a slice from a DataFrame\n",
      "\n",
      "See the caveats in the documentation: https://pandas.pydata.org/pandas-docs/stable/user_guide/indexing.html#returning-a-view-versus-a-copy\n",
      "  df[\"Charge_Capacity (Ah)\"].iloc[i+1]=0\n"
     ]
    },
    {
     "data": {
      "application/vnd.jupyter.widget-view+json": {
       "model_id": "f0e99c9f49064518a521ffb9c419b2a9",
       "version_major": 2,
       "version_minor": 0
      },
      "text/plain": [
       "interactive(children=(IntSlider(value=17252, description='x', max=51756, min=-17252), Output()), _dom_classes=…"
      ]
     },
     "metadata": {},
     "output_type": "display_data"
    },
    {
     "data": {
      "text/plain": [
       "<function __main__.interactive_plt(x)>"
      ]
     },
     "execution_count": 24,
     "metadata": {},
     "output_type": "execute_result"
    }
   ],
   "source": [
    "df=pd.read_csv(\"cleaned_UL-PUR_N10-NA7_18650_NCA_23C_0-100_0.5-0.5C_g_timeseries.csv\")\n",
    "\n",
    "def interactive_plt(x):\n",
    "    plt.plot(df[\"Test_Time (s)\"][x:x+2000],df[\"Charge_Capacity (Ah)\"][x:x+2000])\n",
    "\n",
    "    plt.xlabel('Time') \n",
    "    plt.ylabel('Current') \n",
    "\n",
    "    plt.title('Current vs Time') \n",
    "\n",
    "    plt.show()\n",
    "\n",
    "\n",
    "\n",
    "\n",
    "for i in range(len(df)-1): \n",
    "    if(((df[\"Charge_Capacity (Ah)\"].iloc[i+1])-(df[\"Charge_Capacity (Ah)\"].iloc[i]))>=0.5):\n",
    "#         print(\"//\")\n",
    "        df[\"Charge_Capacity (Ah)\"].iloc[i]=0\n",
    "        df[\"Charge_Capacity (Ah)\"].iloc[i+1]=0\n",
    "        \n",
    "interact(interactive_plt, x=17252)"
   ]
  },
  {
   "cell_type": "code",
   "execution_count": 25,
   "id": "3f821cfa",
   "metadata": {},
   "outputs": [
    {
     "data": {
      "text/plain": [
       "'C:\\\\Users\\\\BLOODYPROF\\\\Documents\\\\oorja.energy\\\\Cleaned_files\\\\test'"
      ]
     },
     "execution_count": 25,
     "metadata": {},
     "output_type": "execute_result"
    }
   ],
   "source": [
    "pwd"
   ]
  },
  {
   "cell_type": "code",
   "execution_count": 29,
   "id": "c1179354",
   "metadata": {},
   "outputs": [
    {
     "name": "stderr",
     "output_type": "stream",
     "text": [
      "C:\\Users\\BLOODYPROF\\AppData\\Local\\Temp\\ipykernel_7016\\1081963791.py:18: SettingWithCopyWarning: \n",
      "A value is trying to be set on a copy of a slice from a DataFrame\n",
      "\n",
      "See the caveats in the documentation: https://pandas.pydata.org/pandas-docs/stable/user_guide/indexing.html#returning-a-view-versus-a-copy\n",
      "  df[\"Charge_Capacity (Ah)\"].iloc[i]=0\n",
      "C:\\Users\\BLOODYPROF\\AppData\\Local\\Temp\\ipykernel_7016\\1081963791.py:19: SettingWithCopyWarning: \n",
      "A value is trying to be set on a copy of a slice from a DataFrame\n",
      "\n",
      "See the caveats in the documentation: https://pandas.pydata.org/pandas-docs/stable/user_guide/indexing.html#returning-a-view-versus-a-copy\n",
      "  df[\"Charge_Capacity (Ah)\"].iloc[i+1]=0\n"
     ]
    },
    {
     "data": {
      "application/vnd.jupyter.widget-view+json": {
       "model_id": "fc907bd156e64b3da5fd5229e0ac93dc",
       "version_major": 2,
       "version_minor": 0
      },
      "text/plain": [
       "interactive(children=(IntSlider(value=17252, description='x', max=51756, min=-17252), Output()), _dom_classes=…"
      ]
     },
     "metadata": {},
     "output_type": "display_data"
    },
    {
     "name": "stderr",
     "output_type": "stream",
     "text": [
      "C:\\Users\\BLOODYPROF\\AppData\\Local\\Temp\\ipykernel_7016\\1081963791.py:18: SettingWithCopyWarning: \n",
      "A value is trying to be set on a copy of a slice from a DataFrame\n",
      "\n",
      "See the caveats in the documentation: https://pandas.pydata.org/pandas-docs/stable/user_guide/indexing.html#returning-a-view-versus-a-copy\n",
      "  df[\"Charge_Capacity (Ah)\"].iloc[i]=0\n",
      "C:\\Users\\BLOODYPROF\\AppData\\Local\\Temp\\ipykernel_7016\\1081963791.py:19: SettingWithCopyWarning: \n",
      "A value is trying to be set on a copy of a slice from a DataFrame\n",
      "\n",
      "See the caveats in the documentation: https://pandas.pydata.org/pandas-docs/stable/user_guide/indexing.html#returning-a-view-versus-a-copy\n",
      "  df[\"Charge_Capacity (Ah)\"].iloc[i+1]=0\n"
     ]
    },
    {
     "data": {
      "application/vnd.jupyter.widget-view+json": {
       "model_id": "bbe29c09950644c6a0d31f5b692f1184",
       "version_major": 2,
       "version_minor": 0
      },
      "text/plain": [
       "interactive(children=(IntSlider(value=17252, description='x', max=51756, min=-17252), Output()), _dom_classes=…"
      ]
     },
     "metadata": {},
     "output_type": "display_data"
    },
    {
     "name": "stderr",
     "output_type": "stream",
     "text": [
      "C:\\Users\\BLOODYPROF\\AppData\\Local\\Temp\\ipykernel_7016\\1081963791.py:18: SettingWithCopyWarning: \n",
      "A value is trying to be set on a copy of a slice from a DataFrame\n",
      "\n",
      "See the caveats in the documentation: https://pandas.pydata.org/pandas-docs/stable/user_guide/indexing.html#returning-a-view-versus-a-copy\n",
      "  df[\"Charge_Capacity (Ah)\"].iloc[i]=0\n",
      "C:\\Users\\BLOODYPROF\\AppData\\Local\\Temp\\ipykernel_7016\\1081963791.py:19: SettingWithCopyWarning: \n",
      "A value is trying to be set on a copy of a slice from a DataFrame\n",
      "\n",
      "See the caveats in the documentation: https://pandas.pydata.org/pandas-docs/stable/user_guide/indexing.html#returning-a-view-versus-a-copy\n",
      "  df[\"Charge_Capacity (Ah)\"].iloc[i+1]=0\n"
     ]
    },
    {
     "data": {
      "application/vnd.jupyter.widget-view+json": {
       "model_id": "c3870ff785db48bcaebaa4176d66ae75",
       "version_major": 2,
       "version_minor": 0
      },
      "text/plain": [
       "interactive(children=(IntSlider(value=17252, description='x', max=51756, min=-17252), Output()), _dom_classes=…"
      ]
     },
     "metadata": {},
     "output_type": "display_data"
    },
    {
     "name": "stderr",
     "output_type": "stream",
     "text": [
      "C:\\Users\\BLOODYPROF\\AppData\\Local\\Temp\\ipykernel_7016\\1081963791.py:18: SettingWithCopyWarning: \n",
      "A value is trying to be set on a copy of a slice from a DataFrame\n",
      "\n",
      "See the caveats in the documentation: https://pandas.pydata.org/pandas-docs/stable/user_guide/indexing.html#returning-a-view-versus-a-copy\n",
      "  df[\"Charge_Capacity (Ah)\"].iloc[i]=0\n",
      "C:\\Users\\BLOODYPROF\\AppData\\Local\\Temp\\ipykernel_7016\\1081963791.py:19: SettingWithCopyWarning: \n",
      "A value is trying to be set on a copy of a slice from a DataFrame\n",
      "\n",
      "See the caveats in the documentation: https://pandas.pydata.org/pandas-docs/stable/user_guide/indexing.html#returning-a-view-versus-a-copy\n",
      "  df[\"Charge_Capacity (Ah)\"].iloc[i+1]=0\n"
     ]
    },
    {
     "data": {
      "application/vnd.jupyter.widget-view+json": {
       "model_id": "bd3941cce37c462ba0beb6dcf856da04",
       "version_major": 2,
       "version_minor": 0
      },
      "text/plain": [
       "interactive(children=(IntSlider(value=17252, description='x', max=51756, min=-17252), Output()), _dom_classes=…"
      ]
     },
     "metadata": {},
     "output_type": "display_data"
    },
    {
     "name": "stderr",
     "output_type": "stream",
     "text": [
      "C:\\Users\\BLOODYPROF\\AppData\\Local\\Temp\\ipykernel_7016\\1081963791.py:18: SettingWithCopyWarning: \n",
      "A value is trying to be set on a copy of a slice from a DataFrame\n",
      "\n",
      "See the caveats in the documentation: https://pandas.pydata.org/pandas-docs/stable/user_guide/indexing.html#returning-a-view-versus-a-copy\n",
      "  df[\"Charge_Capacity (Ah)\"].iloc[i]=0\n",
      "C:\\Users\\BLOODYPROF\\AppData\\Local\\Temp\\ipykernel_7016\\1081963791.py:19: SettingWithCopyWarning: \n",
      "A value is trying to be set on a copy of a slice from a DataFrame\n",
      "\n",
      "See the caveats in the documentation: https://pandas.pydata.org/pandas-docs/stable/user_guide/indexing.html#returning-a-view-versus-a-copy\n",
      "  df[\"Charge_Capacity (Ah)\"].iloc[i+1]=0\n"
     ]
    },
    {
     "data": {
      "application/vnd.jupyter.widget-view+json": {
       "model_id": "fbd0e424d34e46029f393c44aa24c0fa",
       "version_major": 2,
       "version_minor": 0
      },
      "text/plain": [
       "interactive(children=(IntSlider(value=17252, description='x', max=51756, min=-17252), Output()), _dom_classes=…"
      ]
     },
     "metadata": {},
     "output_type": "display_data"
    },
    {
     "name": "stderr",
     "output_type": "stream",
     "text": [
      "C:\\Users\\BLOODYPROF\\AppData\\Local\\Temp\\ipykernel_7016\\1081963791.py:18: SettingWithCopyWarning: \n",
      "A value is trying to be set on a copy of a slice from a DataFrame\n",
      "\n",
      "See the caveats in the documentation: https://pandas.pydata.org/pandas-docs/stable/user_guide/indexing.html#returning-a-view-versus-a-copy\n",
      "  df[\"Charge_Capacity (Ah)\"].iloc[i]=0\n",
      "C:\\Users\\BLOODYPROF\\AppData\\Local\\Temp\\ipykernel_7016\\1081963791.py:19: SettingWithCopyWarning: \n",
      "A value is trying to be set on a copy of a slice from a DataFrame\n",
      "\n",
      "See the caveats in the documentation: https://pandas.pydata.org/pandas-docs/stable/user_guide/indexing.html#returning-a-view-versus-a-copy\n",
      "  df[\"Charge_Capacity (Ah)\"].iloc[i+1]=0\n"
     ]
    },
    {
     "data": {
      "application/vnd.jupyter.widget-view+json": {
       "model_id": "5ba04349c40c488994739f53d559afa6",
       "version_major": 2,
       "version_minor": 0
      },
      "text/plain": [
       "interactive(children=(IntSlider(value=17252, description='x', max=51756, min=-17252), Output()), _dom_classes=…"
      ]
     },
     "metadata": {},
     "output_type": "display_data"
    }
   ],
   "source": [
    "folder_path = r'C:\\\\Users\\\\BLOODYPROF\\\\Documents\\\\oorja.energy\\\\Cleaned_files\\\\test'\n",
    "fileNames = os.listdir(folder_path)\n",
    "\n",
    "def interactive_plt(x):\n",
    "    plt.plot(df[\"Test_Time (s)\"][x:x+2000],df[\"Charge_Capacity (Ah)\"][x:x+2000])\n",
    "\n",
    "    plt.xlabel('Time') \n",
    "    plt.ylabel('Current') \n",
    "\n",
    "    plt.title('Current vs Time') \n",
    "\n",
    "    plt.show()\n",
    "\n",
    "for filname in fileNames:\n",
    "    df=pd.read_csv(filname)\n",
    "    for i in range(len(df[\"Charge_Capacity (Ah)\"])-1):\n",
    "        if(((df[\"Charge_Capacity (Ah)\"].iloc[i+1])-(df[\"Charge_Capacity (Ah)\"].iloc[i]))>=0.5):\n",
    "            df[\"Charge_Capacity (Ah)\"].iloc[i]=0\n",
    "            df[\"Charge_Capacity (Ah)\"].iloc[i+1]=0\n",
    "            \n",
    "    df.to_csv('modified'+filname)    \n",
    "    interact(interactive_plt, x=17252)\n",
    "            \n",
    "          \n",
    "    "
   ]
  },
  {
   "cell_type": "code",
   "execution_count": 21,
   "id": "f12b1067",
   "metadata": {},
   "outputs": [],
   "source": [
    "def interactive_plt(x):\n",
    "    plt.plot(df[\"Test_Time (s)\"][x:x+1000],df[\"Charge_Capacity (Ah)\"][x:x+1000])\n",
    "\n",
    "    plt.xlabel('Time') \n",
    "    plt.ylabel('Charge_Capacity (Ah)') \n",
    "\n",
    "    plt.title('Charge_Capacity (Ah) vs Time') \n",
    "\n",
    "    plt.show()"
   ]
  },
  {
   "cell_type": "code",
   "execution_count": 22,
   "id": "4d2ef043",
   "metadata": {},
   "outputs": [
    {
     "data": {
      "application/vnd.jupyter.widget-view+json": {
       "model_id": "4a15da8fb2b04213a42cb70d2e2102a9",
       "version_major": 2,
       "version_minor": 0
      },
      "text/plain": [
       "interactive(children=(IntSlider(value=17252, description='x', max=51756, min=-17252), Output()), _dom_classes=…"
      ]
     },
     "metadata": {},
     "output_type": "display_data"
    },
    {
     "data": {
      "application/vnd.jupyter.widget-view+json": {
       "model_id": "9ddac649a10d44968023c16a1b4cf121",
       "version_major": 2,
       "version_minor": 0
      },
      "text/plain": [
       "interactive(children=(IntSlider(value=17252, description='x', max=51756, min=-17252), Output()), _dom_classes=…"
      ]
     },
     "metadata": {},
     "output_type": "display_data"
    },
    {
     "data": {
      "application/vnd.jupyter.widget-view+json": {
       "model_id": "b1436edba5d04838a82e2f1265fb1c5f",
       "version_major": 2,
       "version_minor": 0
      },
      "text/plain": [
       "interactive(children=(IntSlider(value=17252, description='x', max=51756, min=-17252), Output()), _dom_classes=…"
      ]
     },
     "metadata": {},
     "output_type": "display_data"
    },
    {
     "data": {
      "application/vnd.jupyter.widget-view+json": {
       "model_id": "b09443c85f4b4b0f8434f36637a4e46d",
       "version_major": 2,
       "version_minor": 0
      },
      "text/plain": [
       "interactive(children=(IntSlider(value=17252, description='x', max=51756, min=-17252), Output()), _dom_classes=…"
      ]
     },
     "metadata": {},
     "output_type": "display_data"
    },
    {
     "data": {
      "application/vnd.jupyter.widget-view+json": {
       "model_id": "c768837d5c214db38995db48b085c8ba",
       "version_major": 2,
       "version_minor": 0
      },
      "text/plain": [
       "interactive(children=(IntSlider(value=17252, description='x', max=51756, min=-17252), Output()), _dom_classes=…"
      ]
     },
     "metadata": {},
     "output_type": "display_data"
    },
    {
     "data": {
      "application/vnd.jupyter.widget-view+json": {
       "model_id": "ed153d3d871c41deb115bd0c3b6171d2",
       "version_major": 2,
       "version_minor": 0
      },
      "text/plain": [
       "interactive(children=(IntSlider(value=17252, description='x', max=51756, min=-17252), Output()), _dom_classes=…"
      ]
     },
     "metadata": {},
     "output_type": "display_data"
    }
   ],
   "source": [
    "#Raw_Data\n",
    "\n",
    "folder_path = r'C:\\\\Users\\\\BLOODYPROF\\\\Documents\\\\oorja.energy\\\\Cleaned_files\\\\test'\n",
    "fileNames = os.listdir(folder_path)\n",
    "\n",
    "for filname in fileNames:\n",
    "    df=pd.read_csv(filname)\n",
    "    interact(interactive_plt, x=17252)"
   ]
  },
  {
   "cell_type": "code",
   "execution_count": 12,
   "id": "e12d6a7e",
   "metadata": {},
   "outputs": [
    {
     "data": {
      "application/vnd.jupyter.widget-view+json": {
       "model_id": "96577b5156084eb5a6892a25d7dee1a6",
       "version_major": 2,
       "version_minor": 0
      },
      "text/plain": [
       "interactive(children=(IntSlider(value=17252, description='x', max=51756, min=-17252), Output()), _dom_classes=…"
      ]
     },
     "metadata": {},
     "output_type": "display_data"
    },
    {
     "data": {
      "application/vnd.jupyter.widget-view+json": {
       "model_id": "cfcef7a00cfd4e26a6ff00aef859ed4f",
       "version_major": 2,
       "version_minor": 0
      },
      "text/plain": [
       "interactive(children=(IntSlider(value=17252, description='x', max=51756, min=-17252), Output()), _dom_classes=…"
      ]
     },
     "metadata": {},
     "output_type": "display_data"
    },
    {
     "data": {
      "application/vnd.jupyter.widget-view+json": {
       "model_id": "8d245454177545f9accd1e840d660127",
       "version_major": 2,
       "version_minor": 0
      },
      "text/plain": [
       "interactive(children=(IntSlider(value=17252, description='x', max=51756, min=-17252), Output()), _dom_classes=…"
      ]
     },
     "metadata": {},
     "output_type": "display_data"
    },
    {
     "data": {
      "application/vnd.jupyter.widget-view+json": {
       "model_id": "013552b093a541b0b720ac43e3918ad3",
       "version_major": 2,
       "version_minor": 0
      },
      "text/plain": [
       "interactive(children=(IntSlider(value=17252, description='x', max=51756, min=-17252), Output()), _dom_classes=…"
      ]
     },
     "metadata": {},
     "output_type": "display_data"
    },
    {
     "data": {
      "application/vnd.jupyter.widget-view+json": {
       "model_id": "d5ce9e78d0a648d29621863be7bb4ef0",
       "version_major": 2,
       "version_minor": 0
      },
      "text/plain": [
       "interactive(children=(IntSlider(value=17252, description='x', max=51756, min=-17252), Output()), _dom_classes=…"
      ]
     },
     "metadata": {},
     "output_type": "display_data"
    },
    {
     "data": {
      "application/vnd.jupyter.widget-view+json": {
       "model_id": "a8522eb313474a348eef7201ec5553e6",
       "version_major": 2,
       "version_minor": 0
      },
      "text/plain": [
       "interactive(children=(IntSlider(value=17252, description='x', max=51756, min=-17252), Output()), _dom_classes=…"
      ]
     },
     "metadata": {},
     "output_type": "display_data"
    },
    {
     "data": {
      "application/vnd.jupyter.widget-view+json": {
       "model_id": "ec7676c8d7314035947d48137fb43750",
       "version_major": 2,
       "version_minor": 0
      },
      "text/plain": [
       "interactive(children=(IntSlider(value=17252, description='x', max=51756, min=-17252), Output()), _dom_classes=…"
      ]
     },
     "metadata": {},
     "output_type": "display_data"
    },
    {
     "data": {
      "application/vnd.jupyter.widget-view+json": {
       "model_id": "981312a6cb1d4e47a0b3c631cf6684b2",
       "version_major": 2,
       "version_minor": 0
      },
      "text/plain": [
       "interactive(children=(IntSlider(value=17252, description='x', max=51756, min=-17252), Output()), _dom_classes=…"
      ]
     },
     "metadata": {},
     "output_type": "display_data"
    },
    {
     "data": {
      "application/vnd.jupyter.widget-view+json": {
       "model_id": "bd2829a157774ff38ffe4d43b695dd88",
       "version_major": 2,
       "version_minor": 0
      },
      "text/plain": [
       "interactive(children=(IntSlider(value=17252, description='x', max=51756, min=-17252), Output()), _dom_classes=…"
      ]
     },
     "metadata": {},
     "output_type": "display_data"
    },
    {
     "data": {
      "application/vnd.jupyter.widget-view+json": {
       "model_id": "d70212cdf5e6405f98dfd4327e5e94b6",
       "version_major": 2,
       "version_minor": 0
      },
      "text/plain": [
       "interactive(children=(IntSlider(value=17252, description='x', max=51756, min=-17252), Output()), _dom_classes=…"
      ]
     },
     "metadata": {},
     "output_type": "display_data"
    },
    {
     "data": {
      "application/vnd.jupyter.widget-view+json": {
       "model_id": "f0f09e0637904710ba230269f4a0e232",
       "version_major": 2,
       "version_minor": 0
      },
      "text/plain": [
       "interactive(children=(IntSlider(value=17252, description='x', max=51756, min=-17252), Output()), _dom_classes=…"
      ]
     },
     "metadata": {},
     "output_type": "display_data"
    },
    {
     "data": {
      "application/vnd.jupyter.widget-view+json": {
       "model_id": "1e61905494274d32829b7fb2642825a9",
       "version_major": 2,
       "version_minor": 0
      },
      "text/plain": [
       "interactive(children=(IntSlider(value=17252, description='x', max=51756, min=-17252), Output()), _dom_classes=…"
      ]
     },
     "metadata": {},
     "output_type": "display_data"
    }
   ],
   "source": [
    "#Modified_Data\n",
    "\n",
    "folder_path = r'C:\\\\Users\\\\BLOODYPROF\\\\Documents\\\\oorja.energy\\\\Modified_Clean_files\\\\test'\n",
    "fileNames = os.listdir(folder_path)\n",
    "\n",
    "for filname in fileNames:\n",
    "    df=pd.read_csv(filname)\n",
    "    interact(interactive_plt, x=17252)"
   ]
  },
  {
   "cell_type": "markdown",
   "id": "b00d452f",
   "metadata": {},
   "source": [
    "## Cleaning Charge_Energy (Wh)"
   ]
  },
  {
   "cell_type": "code",
   "execution_count": 6,
   "id": "d3f6496e",
   "metadata": {},
   "outputs": [],
   "source": [
    "import os\n",
    "import pandas as pd \n",
    "import numpy as np\n",
    "import matplotlib.pyplot as plt \n",
    "from scipy.signal import argrelextrema"
   ]
  },
  {
   "cell_type": "code",
   "execution_count": 6,
   "id": "1a2df487",
   "metadata": {},
   "outputs": [
    {
     "name": "stdout",
     "output_type": "stream",
     "text": [
      "C:\\Users\\BLOODYPROF\\Documents\\oorja.energy\\Cleaned_files\\test\n"
     ]
    }
   ],
   "source": [
    "cd Cleaned_files/test/"
   ]
  },
  {
   "cell_type": "code",
   "execution_count": 12,
   "id": "65f4101a",
   "metadata": {},
   "outputs": [],
   "source": [
    "def interactive_plt(x):\n",
    "    plt.plot(df[\"Test_Time (s)\"][x:x+1000],df[\"Charge_Energy (Wh)\"][x:x+1000])\n",
    "\n",
    "    plt.xlabel('Time') \n",
    "    plt.ylabel('Charge_Energy (Wh)') \n",
    "\n",
    "    plt.title('Charge_Energy (Wh) vs Time') \n",
    "\n",
    "    plt.show()"
   ]
  },
  {
   "cell_type": "code",
   "execution_count": 13,
   "id": "c441f6ab",
   "metadata": {},
   "outputs": [
    {
     "data": {
      "application/vnd.jupyter.widget-view+json": {
       "model_id": "e1627ba0e8344105bc095f5886b4f2b5",
       "version_major": 2,
       "version_minor": 0
      },
      "text/plain": [
       "interactive(children=(IntSlider(value=17252, description='x', max=51756, min=-17252), Output()), _dom_classes=…"
      ]
     },
     "metadata": {},
     "output_type": "display_data"
    },
    {
     "data": {
      "application/vnd.jupyter.widget-view+json": {
       "model_id": "419ab99753e54c45a3637c38a36b3747",
       "version_major": 2,
       "version_minor": 0
      },
      "text/plain": [
       "interactive(children=(IntSlider(value=17252, description='x', max=51756, min=-17252), Output()), _dom_classes=…"
      ]
     },
     "metadata": {},
     "output_type": "display_data"
    },
    {
     "data": {
      "application/vnd.jupyter.widget-view+json": {
       "model_id": "37816affbe844c3aa7e86c734ff6ac07",
       "version_major": 2,
       "version_minor": 0
      },
      "text/plain": [
       "interactive(children=(IntSlider(value=17252, description='x', max=51756, min=-17252), Output()), _dom_classes=…"
      ]
     },
     "metadata": {},
     "output_type": "display_data"
    },
    {
     "data": {
      "application/vnd.jupyter.widget-view+json": {
       "model_id": "13f7e3fed9684f3fa568a37f72f92c3d",
       "version_major": 2,
       "version_minor": 0
      },
      "text/plain": [
       "interactive(children=(IntSlider(value=17252, description='x', max=51756, min=-17252), Output()), _dom_classes=…"
      ]
     },
     "metadata": {},
     "output_type": "display_data"
    },
    {
     "data": {
      "application/vnd.jupyter.widget-view+json": {
       "model_id": "c3513ecdbd434d14b878838b009694e4",
       "version_major": 2,
       "version_minor": 0
      },
      "text/plain": [
       "interactive(children=(IntSlider(value=17252, description='x', max=51756, min=-17252), Output()), _dom_classes=…"
      ]
     },
     "metadata": {},
     "output_type": "display_data"
    },
    {
     "data": {
      "application/vnd.jupyter.widget-view+json": {
       "model_id": "af567032714641619100a76c3a853282",
       "version_major": 2,
       "version_minor": 0
      },
      "text/plain": [
       "interactive(children=(IntSlider(value=17252, description='x', max=51756, min=-17252), Output()), _dom_classes=…"
      ]
     },
     "metadata": {},
     "output_type": "display_data"
    }
   ],
   "source": [
    "#Raw Data\n",
    "\n",
    "folder_path = r'C:\\\\Users\\\\BLOODYPROF\\\\Documents\\\\oorja.energy\\\\Cleaned_files\\\\test'\n",
    "fileNames = os.listdir(folder_path)\n",
    "\n",
    "for filename in fileNames:\n",
    "    df=pd.read_csv(filename)\n",
    "    interact(interactive_plt, x=17252)"
   ]
  },
  {
   "cell_type": "code",
   "execution_count": 14,
   "id": "0fef451d",
   "metadata": {},
   "outputs": [
    {
     "data": {
      "image/png": "[encoded data removed]",
      "text/plain": [
       "<Figure size 432x288 with 1 Axes>"
      ]
     },
     "metadata": {
      "needs_background": "light"
     },
     "output_type": "display_data"
    },
    {
     "data": {
      "image/png": "[encoded data removed]",
      "text/plain": [
       "<Figure size 432x288 with 1 Axes>"
      ]
     },
     "metadata": {
      "needs_background": "light"
     },
     "output_type": "display_data"
    }
   ],
   "source": [
    "df = pd.read_csv(\"cleaned_UL-PUR_N10-NA7_18650_NCA_23C_0-100_0.5-0.5C_g_timeseries.csv\")\n",
    "plt.plot(df[\"Test_Time (s)\"][:100],df[\"Charge_Energy (Wh)\"][:100])\n",
    "plt.show()\n",
    "plt.plot(df[\"Test_Time (s)\"][100:200],df[\"Charge_Energy (Wh)\"][100:200])\n",
    "plt.xlabel('Time') \n",
    "plt.ylabel('Charge_Energy (Wh)') \n",
    "plt.title('Charge_Energy (Wh) vs Time') \n",
    "plt.show()"
   ]
  },
  {
   "cell_type": "code",
   "execution_count": 15,
   "id": "0c766833",
   "metadata": {},
   "outputs": [
    {
     "name": "stderr",
     "output_type": "stream",
     "text": [
      "C:\\Users\\BLOODYPROF\\AppData\\Local\\Temp\\ipykernel_13648\\2825314288.py:18: SettingWithCopyWarning: \n",
      "A value is trying to be set on a copy of a slice from a DataFrame\n",
      "\n",
      "See the caveats in the documentation: https://pandas.pydata.org/pandas-docs/stable/user_guide/indexing.html#returning-a-view-versus-a-copy\n",
      "  df[\"Charge_Energy (Wh)\"].iloc[i]=0\n",
      "C:\\Users\\BLOODYPROF\\AppData\\Local\\Temp\\ipykernel_13648\\2825314288.py:19: SettingWithCopyWarning: \n",
      "A value is trying to be set on a copy of a slice from a DataFrame\n",
      "\n",
      "See the caveats in the documentation: https://pandas.pydata.org/pandas-docs/stable/user_guide/indexing.html#returning-a-view-versus-a-copy\n",
      "  df[\"Charge_Energy (Wh)\"].iloc[i+1]=0\n"
     ]
    },
    {
     "data": {
      "application/vnd.jupyter.widget-view+json": {
       "model_id": "2a48ecd081bd4663befeca85f0addc5e",
       "version_major": 2,
       "version_minor": 0
      },
      "text/plain": [
       "interactive(children=(IntSlider(value=17252, description='x', max=51756, min=-17252), Output()), _dom_classes=…"
      ]
     },
     "metadata": {},
     "output_type": "display_data"
    },
    {
     "name": "stderr",
     "output_type": "stream",
     "text": [
      "C:\\Users\\BLOODYPROF\\AppData\\Local\\Temp\\ipykernel_13648\\2825314288.py:18: SettingWithCopyWarning: \n",
      "A value is trying to be set on a copy of a slice from a DataFrame\n",
      "\n",
      "See the caveats in the documentation: https://pandas.pydata.org/pandas-docs/stable/user_guide/indexing.html#returning-a-view-versus-a-copy\n",
      "  df[\"Charge_Energy (Wh)\"].iloc[i]=0\n",
      "C:\\Users\\BLOODYPROF\\AppData\\Local\\Temp\\ipykernel_13648\\2825314288.py:19: SettingWithCopyWarning: \n",
      "A value is trying to be set on a copy of a slice from a DataFrame\n",
      "\n",
      "See the caveats in the documentation: https://pandas.pydata.org/pandas-docs/stable/user_guide/indexing.html#returning-a-view-versus-a-copy\n",
      "  df[\"Charge_Energy (Wh)\"].iloc[i+1]=0\n"
     ]
    },
    {
     "data": {
      "application/vnd.jupyter.widget-view+json": {
       "model_id": "e0c9f199653b4738acd88c72587c835c",
       "version_major": 2,
       "version_minor": 0
      },
      "text/plain": [
       "interactive(children=(IntSlider(value=17252, description='x', max=51756, min=-17252), Output()), _dom_classes=…"
      ]
     },
     "metadata": {},
     "output_type": "display_data"
    },
    {
     "name": "stderr",
     "output_type": "stream",
     "text": [
      "C:\\Users\\BLOODYPROF\\AppData\\Local\\Temp\\ipykernel_13648\\2825314288.py:18: SettingWithCopyWarning: \n",
      "A value is trying to be set on a copy of a slice from a DataFrame\n",
      "\n",
      "See the caveats in the documentation: https://pandas.pydata.org/pandas-docs/stable/user_guide/indexing.html#returning-a-view-versus-a-copy\n",
      "  df[\"Charge_Energy (Wh)\"].iloc[i]=0\n",
      "C:\\Users\\BLOODYPROF\\AppData\\Local\\Temp\\ipykernel_13648\\2825314288.py:19: SettingWithCopyWarning: \n",
      "A value is trying to be set on a copy of a slice from a DataFrame\n",
      "\n",
      "See the caveats in the documentation: https://pandas.pydata.org/pandas-docs/stable/user_guide/indexing.html#returning-a-view-versus-a-copy\n",
      "  df[\"Charge_Energy (Wh)\"].iloc[i+1]=0\n"
     ]
    },
    {
     "data": {
      "application/vnd.jupyter.widget-view+json": {
       "model_id": "4822d4170c144cc0b618f17de771be48",
       "version_major": 2,
       "version_minor": 0
      },
      "text/plain": [
       "interactive(children=(IntSlider(value=17252, description='x', max=51756, min=-17252), Output()), _dom_classes=…"
      ]
     },
     "metadata": {},
     "output_type": "display_data"
    },
    {
     "name": "stderr",
     "output_type": "stream",
     "text": [
      "C:\\Users\\BLOODYPROF\\AppData\\Local\\Temp\\ipykernel_13648\\2825314288.py:18: SettingWithCopyWarning: \n",
      "A value is trying to be set on a copy of a slice from a DataFrame\n",
      "\n",
      "See the caveats in the documentation: https://pandas.pydata.org/pandas-docs/stable/user_guide/indexing.html#returning-a-view-versus-a-copy\n",
      "  df[\"Charge_Energy (Wh)\"].iloc[i]=0\n",
      "C:\\Users\\BLOODYPROF\\AppData\\Local\\Temp\\ipykernel_13648\\2825314288.py:19: SettingWithCopyWarning: \n",
      "A value is trying to be set on a copy of a slice from a DataFrame\n",
      "\n",
      "See the caveats in the documentation: https://pandas.pydata.org/pandas-docs/stable/user_guide/indexing.html#returning-a-view-versus-a-copy\n",
      "  df[\"Charge_Energy (Wh)\"].iloc[i+1]=0\n"
     ]
    },
    {
     "data": {
      "application/vnd.jupyter.widget-view+json": {
       "model_id": "24978fe75af249af9e5b8007124ccc80",
       "version_major": 2,
       "version_minor": 0
      },
      "text/plain": [
       "interactive(children=(IntSlider(value=17252, description='x', max=51756, min=-17252), Output()), _dom_classes=…"
      ]
     },
     "metadata": {},
     "output_type": "display_data"
    },
    {
     "name": "stderr",
     "output_type": "stream",
     "text": [
      "C:\\Users\\BLOODYPROF\\AppData\\Local\\Temp\\ipykernel_13648\\2825314288.py:18: SettingWithCopyWarning: \n",
      "A value is trying to be set on a copy of a slice from a DataFrame\n",
      "\n",
      "See the caveats in the documentation: https://pandas.pydata.org/pandas-docs/stable/user_guide/indexing.html#returning-a-view-versus-a-copy\n",
      "  df[\"Charge_Energy (Wh)\"].iloc[i]=0\n",
      "C:\\Users\\BLOODYPROF\\AppData\\Local\\Temp\\ipykernel_13648\\2825314288.py:19: SettingWithCopyWarning: \n",
      "A value is trying to be set on a copy of a slice from a DataFrame\n",
      "\n",
      "See the caveats in the documentation: https://pandas.pydata.org/pandas-docs/stable/user_guide/indexing.html#returning-a-view-versus-a-copy\n",
      "  df[\"Charge_Energy (Wh)\"].iloc[i+1]=0\n"
     ]
    },
    {
     "data": {
      "application/vnd.jupyter.widget-view+json": {
       "model_id": "808ba4d3ac1045bbb94ea66b96518bf6",
       "version_major": 2,
       "version_minor": 0
      },
      "text/plain": [
       "interactive(children=(IntSlider(value=17252, description='x', max=51756, min=-17252), Output()), _dom_classes=…"
      ]
     },
     "metadata": {},
     "output_type": "display_data"
    },
    {
     "name": "stderr",
     "output_type": "stream",
     "text": [
      "C:\\Users\\BLOODYPROF\\AppData\\Local\\Temp\\ipykernel_13648\\2825314288.py:18: SettingWithCopyWarning: \n",
      "A value is trying to be set on a copy of a slice from a DataFrame\n",
      "\n",
      "See the caveats in the documentation: https://pandas.pydata.org/pandas-docs/stable/user_guide/indexing.html#returning-a-view-versus-a-copy\n",
      "  df[\"Charge_Energy (Wh)\"].iloc[i]=0\n",
      "C:\\Users\\BLOODYPROF\\AppData\\Local\\Temp\\ipykernel_13648\\2825314288.py:19: SettingWithCopyWarning: \n",
      "A value is trying to be set on a copy of a slice from a DataFrame\n",
      "\n",
      "See the caveats in the documentation: https://pandas.pydata.org/pandas-docs/stable/user_guide/indexing.html#returning-a-view-versus-a-copy\n",
      "  df[\"Charge_Energy (Wh)\"].iloc[i+1]=0\n"
     ]
    },
    {
     "data": {
      "application/vnd.jupyter.widget-view+json": {
       "model_id": "841ec9c36af94253993f100f2a403bc6",
       "version_major": 2,
       "version_minor": 0
      },
      "text/plain": [
       "interactive(children=(IntSlider(value=17252, description='x', max=51756, min=-17252), Output()), _dom_classes=…"
      ]
     },
     "metadata": {},
     "output_type": "display_data"
    }
   ],
   "source": [
    "folder_path = r'C:\\\\Users\\\\BLOODYPROF\\\\Documents\\\\oorja.energy\\\\Cleaned_files\\\\test'\n",
    "fileNames = os.listdir(folder_path)\n",
    "\n",
    "def interactive_plt(x):\n",
    "    plt.plot(df[\"Test_Time (s)\"][x:x+2000],df[\"Charge_Energy (Wh)\"][x:x+2000])\n",
    "\n",
    "    plt.xlabel('Time') \n",
    "    plt.ylabel('Charge_Energy (Wh)') \n",
    "\n",
    "    plt.title('Charge_Energy (Wh) vs Time') \n",
    "\n",
    "    plt.show()\n",
    "\n",
    "for filname in fileNames:\n",
    "    df=pd.read_csv(filname)\n",
    "    for i in range(len(df[\"Charge_Energy (Wh)\"])-1):\n",
    "        if(((df[\"Charge_Energy (Wh)\"].iloc[i+1])-(df[\"Charge_Energy (Wh)\"].iloc[i]))>=5):\n",
    "            df[\"Charge_Energy (Wh)\"].iloc[i]=0\n",
    "            df[\"Charge_Energy (Wh)\"].iloc[i+1]=0\n",
    "            \n",
    "    df.to_csv('modified'+filname)    \n",
    "    interact(interactive_plt, x=17252)"
   ]
  },
  {
   "cell_type": "markdown",
   "id": "3199ed84",
   "metadata": {},
   "source": [
    "## Clean Charge Cap"
   ]
  },
  {
   "cell_type": "code",
   "execution_count": 21,
   "id": "dc8abeee",
   "metadata": {},
   "outputs": [],
   "source": [
    "def interactive_plt(x):\n",
    "    plt.plot(df[\"Test_Time (s)\"][x:x+1000],df[\"Charge_Capacity (Ah)\"][x:x+1000])\n",
    "\n",
    "    plt.xlabel('Time') \n",
    "    plt.ylabel('Charge_Capacity (Ah)') \n",
    "\n",
    "    plt.title('Charge_Capacity (Ah) vs Time') \n",
    "\n",
    "    plt.show()"
   ]
  },
  {
   "cell_type": "code",
   "execution_count": 22,
   "id": "26f54f82",
   "metadata": {},
   "outputs": [
    {
     "data": {
      "application/vnd.jupyter.widget-view+json": {
       "model_id": "1969456ed47e42d3bb36d0f0a801e6fc",
       "version_major": 2,
       "version_minor": 0
      },
      "text/plain": [
       "interactive(children=(IntSlider(value=17252, description='x', max=51756, min=-17252), Output()), _dom_classes=…"
      ]
     },
     "metadata": {},
     "output_type": "display_data"
    },
    {
     "data": {
      "application/vnd.jupyter.widget-view+json": {
       "model_id": "2ea79120a0974451b1d9be9d8fe473b6",
       "version_major": 2,
       "version_minor": 0
      },
      "text/plain": [
       "interactive(children=(IntSlider(value=17252, description='x', max=51756, min=-17252), Output()), _dom_classes=…"
      ]
     },
     "metadata": {},
     "output_type": "display_data"
    },
    {
     "data": {
      "application/vnd.jupyter.widget-view+json": {
       "model_id": "875335a3489747a19b196e378e557b6e",
       "version_major": 2,
       "version_minor": 0
      },
      "text/plain": [
       "interactive(children=(IntSlider(value=17252, description='x', max=51756, min=-17252), Output()), _dom_classes=…"
      ]
     },
     "metadata": {},
     "output_type": "display_data"
    },
    {
     "data": {
      "application/vnd.jupyter.widget-view+json": {
       "model_id": "1d7292ce5d494b9a8d3e67d988b24e87",
       "version_major": 2,
       "version_minor": 0
      },
      "text/plain": [
       "interactive(children=(IntSlider(value=17252, description='x', max=51756, min=-17252), Output()), _dom_classes=…"
      ]
     },
     "metadata": {},
     "output_type": "display_data"
    },
    {
     "data": {
      "application/vnd.jupyter.widget-view+json": {
       "model_id": "c138dd979a894dfc8d4af3cedc1c68c8",
       "version_major": 2,
       "version_minor": 0
      },
      "text/plain": [
       "interactive(children=(IntSlider(value=17252, description='x', max=51756, min=-17252), Output()), _dom_classes=…"
      ]
     },
     "metadata": {},
     "output_type": "display_data"
    },
    {
     "data": {
      "application/vnd.jupyter.widget-view+json": {
       "model_id": "7f15b81103b0439682fc2389d08a020a",
       "version_major": 2,
       "version_minor": 0
      },
      "text/plain": [
       "interactive(children=(IntSlider(value=17252, description='x', max=51756, min=-17252), Output()), _dom_classes=…"
      ]
     },
     "metadata": {},
     "output_type": "display_data"
    }
   ],
   "source": [
    "folder_path = r'C:\\\\Users\\\\BLOODYPROF\\\\Documents\\\\oorja.energy\\\\Cleaned_files\\\\test'\n",
    "fileNames = os.listdir(folder_path)\n",
    "\n",
    "for filename in fileNames:\n",
    "    df=pd.read_csv(filename)\n",
    "    interact(interactive_plt, x=17252)"
   ]
  },
  {
   "cell_type": "code",
   "execution_count": 23,
   "id": "b78c7b32",
   "metadata": {},
   "outputs": [
    {
     "data": {
      "image/png": "[encoded data removed]",
      "text/plain": [
       "<Figure size 432x288 with 1 Axes>"
      ]
     },
     "metadata": {
      "needs_background": "light"
     },
     "output_type": "display_data"
    },
    {
     "data": {
      "image/png": "[encoded data removed]",
      "text/plain": [
       "<Figure size 432x288 with 1 Axes>"
      ]
     },
     "metadata": {
      "needs_background": "light"
     },
     "output_type": "display_data"
    }
   ],
   "source": [
    "df = pd.read_csv(\"cleaned_UL-PUR_N10-NA7_18650_NCA_23C_0-100_0.5-0.5C_g_timeseries.csv\")\n",
    "plt.plot(df[\"Test_Time (s)\"][:100],df[\"Charge_Capacity (Ah)\"][:100])\n",
    "plt.show()\n",
    "plt.plot(df[\"Test_Time (s)\"][100:200],df[\"Charge_Capacity (Ah)\"][100:200])\n",
    "plt.xlabel('Time') \n",
    "plt.ylabel('Charge_Capacity (Ah)') \n",
    "plt.title('Charge_Capacity (Ah) vs Time') \n",
    "plt.show()"
   ]
  },
  {
   "cell_type": "code",
   "execution_count": 26,
   "id": "58deb878",
   "metadata": {},
   "outputs": [
    {
     "name": "stderr",
     "output_type": "stream",
     "text": [
      "C:\\Users\\BLOODYPROF\\AppData\\Local\\Temp\\ipykernel_13648\\3844200301.py:18: SettingWithCopyWarning: \n",
      "A value is trying to be set on a copy of a slice from a DataFrame\n",
      "\n",
      "See the caveats in the documentation: https://pandas.pydata.org/pandas-docs/stable/user_guide/indexing.html#returning-a-view-versus-a-copy\n",
      "  df[\"Charge_Capacity (Ah)\"].iloc[i]=0\n",
      "C:\\Users\\BLOODYPROF\\AppData\\Local\\Temp\\ipykernel_13648\\3844200301.py:19: SettingWithCopyWarning: \n",
      "A value is trying to be set on a copy of a slice from a DataFrame\n",
      "\n",
      "See the caveats in the documentation: https://pandas.pydata.org/pandas-docs/stable/user_guide/indexing.html#returning-a-view-versus-a-copy\n",
      "  df[\"Charge_Capacity (Ah)\"].iloc[i+1]=0\n"
     ]
    },
    {
     "data": {
      "application/vnd.jupyter.widget-view+json": {
       "model_id": "56ae9fc7c7944715872755596a1c0371",
       "version_major": 2,
       "version_minor": 0
      },
      "text/plain": [
       "interactive(children=(IntSlider(value=17252, description='x', max=51756, min=-17252), Output()), _dom_classes=…"
      ]
     },
     "metadata": {},
     "output_type": "display_data"
    },
    {
     "name": "stderr",
     "output_type": "stream",
     "text": [
      "C:\\Users\\BLOODYPROF\\AppData\\Local\\Temp\\ipykernel_13648\\3844200301.py:18: SettingWithCopyWarning: \n",
      "A value is trying to be set on a copy of a slice from a DataFrame\n",
      "\n",
      "See the caveats in the documentation: https://pandas.pydata.org/pandas-docs/stable/user_guide/indexing.html#returning-a-view-versus-a-copy\n",
      "  df[\"Charge_Capacity (Ah)\"].iloc[i]=0\n",
      "C:\\Users\\BLOODYPROF\\AppData\\Local\\Temp\\ipykernel_13648\\3844200301.py:19: SettingWithCopyWarning: \n",
      "A value is trying to be set on a copy of a slice from a DataFrame\n",
      "\n",
      "See the caveats in the documentation: https://pandas.pydata.org/pandas-docs/stable/user_guide/indexing.html#returning-a-view-versus-a-copy\n",
      "  df[\"Charge_Capacity (Ah)\"].iloc[i+1]=0\n"
     ]
    },
    {
     "data": {
      "application/vnd.jupyter.widget-view+json": {
       "model_id": "2c6467cd93b1483cb93b236a171d6b59",
       "version_major": 2,
       "version_minor": 0
      },
      "text/plain": [
       "interactive(children=(IntSlider(value=17252, description='x', max=51756, min=-17252), Output()), _dom_classes=…"
      ]
     },
     "metadata": {},
     "output_type": "display_data"
    },
    {
     "name": "stderr",
     "output_type": "stream",
     "text": [
      "C:\\Users\\BLOODYPROF\\AppData\\Local\\Temp\\ipykernel_13648\\3844200301.py:18: SettingWithCopyWarning: \n",
      "A value is trying to be set on a copy of a slice from a DataFrame\n",
      "\n",
      "See the caveats in the documentation: https://pandas.pydata.org/pandas-docs/stable/user_guide/indexing.html#returning-a-view-versus-a-copy\n",
      "  df[\"Charge_Capacity (Ah)\"].iloc[i]=0\n",
      "C:\\Users\\BLOODYPROF\\AppData\\Local\\Temp\\ipykernel_13648\\3844200301.py:19: SettingWithCopyWarning: \n",
      "A value is trying to be set on a copy of a slice from a DataFrame\n",
      "\n",
      "See the caveats in the documentation: https://pandas.pydata.org/pandas-docs/stable/user_guide/indexing.html#returning-a-view-versus-a-copy\n",
      "  df[\"Charge_Capacity (Ah)\"].iloc[i+1]=0\n"
     ]
    },
    {
     "data": {
      "application/vnd.jupyter.widget-view+json": {
       "model_id": "d55511193f204a96b3dd2de05b6d094c",
       "version_major": 2,
       "version_minor": 0
      },
      "text/plain": [
       "interactive(children=(IntSlider(value=17252, description='x', max=51756, min=-17252), Output()), _dom_classes=…"
      ]
     },
     "metadata": {},
     "output_type": "display_data"
    },
    {
     "name": "stderr",
     "output_type": "stream",
     "text": [
      "C:\\Users\\BLOODYPROF\\AppData\\Local\\Temp\\ipykernel_13648\\3844200301.py:18: SettingWithCopyWarning: \n",
      "A value is trying to be set on a copy of a slice from a DataFrame\n",
      "\n",
      "See the caveats in the documentation: https://pandas.pydata.org/pandas-docs/stable/user_guide/indexing.html#returning-a-view-versus-a-copy\n",
      "  df[\"Charge_Capacity (Ah)\"].iloc[i]=0\n",
      "C:\\Users\\BLOODYPROF\\AppData\\Local\\Temp\\ipykernel_13648\\3844200301.py:19: SettingWithCopyWarning: \n",
      "A value is trying to be set on a copy of a slice from a DataFrame\n",
      "\n",
      "See the caveats in the documentation: https://pandas.pydata.org/pandas-docs/stable/user_guide/indexing.html#returning-a-view-versus-a-copy\n",
      "  df[\"Charge_Capacity (Ah)\"].iloc[i+1]=0\n"
     ]
    },
    {
     "data": {
      "application/vnd.jupyter.widget-view+json": {
       "model_id": "898485d6365b4ca7b6996541706b8ad5",
       "version_major": 2,
       "version_minor": 0
      },
      "text/plain": [
       "interactive(children=(IntSlider(value=17252, description='x', max=51756, min=-17252), Output()), _dom_classes=…"
      ]
     },
     "metadata": {},
     "output_type": "display_data"
    },
    {
     "name": "stderr",
     "output_type": "stream",
     "text": [
      "C:\\Users\\BLOODYPROF\\AppData\\Local\\Temp\\ipykernel_13648\\3844200301.py:18: SettingWithCopyWarning: \n",
      "A value is trying to be set on a copy of a slice from a DataFrame\n",
      "\n",
      "See the caveats in the documentation: https://pandas.pydata.org/pandas-docs/stable/user_guide/indexing.html#returning-a-view-versus-a-copy\n",
      "  df[\"Charge_Capacity (Ah)\"].iloc[i]=0\n",
      "C:\\Users\\BLOODYPROF\\AppData\\Local\\Temp\\ipykernel_13648\\3844200301.py:19: SettingWithCopyWarning: \n",
      "A value is trying to be set on a copy of a slice from a DataFrame\n",
      "\n",
      "See the caveats in the documentation: https://pandas.pydata.org/pandas-docs/stable/user_guide/indexing.html#returning-a-view-versus-a-copy\n",
      "  df[\"Charge_Capacity (Ah)\"].iloc[i+1]=0\n"
     ]
    },
    {
     "data": {
      "application/vnd.jupyter.widget-view+json": {
       "model_id": "777d75b429dc41fb8ab3e1db038d7520",
       "version_major": 2,
       "version_minor": 0
      },
      "text/plain": [
       "interactive(children=(IntSlider(value=17252, description='x', max=51756, min=-17252), Output()), _dom_classes=…"
      ]
     },
     "metadata": {},
     "output_type": "display_data"
    },
    {
     "name": "stderr",
     "output_type": "stream",
     "text": [
      "C:\\Users\\BLOODYPROF\\AppData\\Local\\Temp\\ipykernel_13648\\3844200301.py:18: SettingWithCopyWarning: \n",
      "A value is trying to be set on a copy of a slice from a DataFrame\n",
      "\n",
      "See the caveats in the documentation: https://pandas.pydata.org/pandas-docs/stable/user_guide/indexing.html#returning-a-view-versus-a-copy\n",
      "  df[\"Charge_Capacity (Ah)\"].iloc[i]=0\n",
      "C:\\Users\\BLOODYPROF\\AppData\\Local\\Temp\\ipykernel_13648\\3844200301.py:19: SettingWithCopyWarning: \n",
      "A value is trying to be set on a copy of a slice from a DataFrame\n",
      "\n",
      "See the caveats in the documentation: https://pandas.pydata.org/pandas-docs/stable/user_guide/indexing.html#returning-a-view-versus-a-copy\n",
      "  df[\"Charge_Capacity (Ah)\"].iloc[i+1]=0\n"
     ]
    },
    {
     "data": {
      "application/vnd.jupyter.widget-view+json": {
       "model_id": "c074bb55fa404290a95ab881abe5760c",
       "version_major": 2,
       "version_minor": 0
      },
      "text/plain": [
       "interactive(children=(IntSlider(value=17252, description='x', max=51756, min=-17252), Output()), _dom_classes=…"
      ]
     },
     "metadata": {},
     "output_type": "display_data"
    },
    {
     "data": {
      "application/vnd.jupyter.widget-view+json": {
       "model_id": "f2dd473272b546eb9d1e08c028103818",
       "version_major": 2,
       "version_minor": 0
      },
      "text/plain": [
       "interactive(children=(IntSlider(value=17252, description='x', max=51756, min=-17252), Output()), _dom_classes=…"
      ]
     },
     "metadata": {},
     "output_type": "display_data"
    },
    {
     "data": {
      "application/vnd.jupyter.widget-view+json": {
       "model_id": "d87f9277d2894df2addb7076a177f9fd",
       "version_major": 2,
       "version_minor": 0
      },
      "text/plain": [
       "interactive(children=(IntSlider(value=17252, description='x', max=51756, min=-17252), Output()), _dom_classes=…"
      ]
     },
     "metadata": {},
     "output_type": "display_data"
    },
    {
     "data": {
      "application/vnd.jupyter.widget-view+json": {
       "model_id": "951a62ddc1c24140821daab5947b0b9d",
       "version_major": 2,
       "version_minor": 0
      },
      "text/plain": [
       "interactive(children=(IntSlider(value=17252, description='x', max=51756, min=-17252), Output()), _dom_classes=…"
      ]
     },
     "metadata": {},
     "output_type": "display_data"
    },
    {
     "data": {
      "application/vnd.jupyter.widget-view+json": {
       "model_id": "2993155232e34cd3851ddbc86cdabe6c",
       "version_major": 2,
       "version_minor": 0
      },
      "text/plain": [
       "interactive(children=(IntSlider(value=17252, description='x', max=51756, min=-17252), Output()), _dom_classes=…"
      ]
     },
     "metadata": {},
     "output_type": "display_data"
    },
    {
     "data": {
      "application/vnd.jupyter.widget-view+json": {
       "model_id": "b4c78eef6df24bb99af47f37a149df95",
       "version_major": 2,
       "version_minor": 0
      },
      "text/plain": [
       "interactive(children=(IntSlider(value=17252, description='x', max=51756, min=-17252), Output()), _dom_classes=…"
      ]
     },
     "metadata": {},
     "output_type": "display_data"
    },
    {
     "data": {
      "application/vnd.jupyter.widget-view+json": {
       "model_id": "23acef1c94d0468bbb8ef2ebd2030a7d",
       "version_major": 2,
       "version_minor": 0
      },
      "text/plain": [
       "interactive(children=(IntSlider(value=17252, description='x', max=51756, min=-17252), Output()), _dom_classes=…"
      ]
     },
     "metadata": {},
     "output_type": "display_data"
    },
    {
     "data": {
      "application/vnd.jupyter.widget-view+json": {
       "model_id": "fee5399046014ffb8995b80a85cb459e",
       "version_major": 2,
       "version_minor": 0
      },
      "text/plain": [
       "interactive(children=(IntSlider(value=17252, description='x', max=51756, min=-17252), Output()), _dom_classes=…"
      ]
     },
     "metadata": {},
     "output_type": "display_data"
    },
    {
     "data": {
      "application/vnd.jupyter.widget-view+json": {
       "model_id": "79d2d24c78344c6f83c376052062459c",
       "version_major": 2,
       "version_minor": 0
      },
      "text/plain": [
       "interactive(children=(IntSlider(value=17252, description='x', max=51756, min=-17252), Output()), _dom_classes=…"
      ]
     },
     "metadata": {},
     "output_type": "display_data"
    },
    {
     "data": {
      "application/vnd.jupyter.widget-view+json": {
       "model_id": "b8c5d2c9cf994f5bb91a09be74fcca66",
       "version_major": 2,
       "version_minor": 0
      },
      "text/plain": [
       "interactive(children=(IntSlider(value=17252, description='x', max=51756, min=-17252), Output()), _dom_classes=…"
      ]
     },
     "metadata": {},
     "output_type": "display_data"
    },
    {
     "data": {
      "application/vnd.jupyter.widget-view+json": {
       "model_id": "e183f922241646558500bbbc3595a804",
       "version_major": 2,
       "version_minor": 0
      },
      "text/plain": [
       "interactive(children=(IntSlider(value=17252, description='x', max=51756, min=-17252), Output()), _dom_classes=…"
      ]
     },
     "metadata": {},
     "output_type": "display_data"
    },
    {
     "data": {
      "application/vnd.jupyter.widget-view+json": {
       "model_id": "6273bc00205443458f7fa67afbdbde9d",
       "version_major": 2,
       "version_minor": 0
      },
      "text/plain": [
       "interactive(children=(IntSlider(value=17252, description='x', max=51756, min=-17252), Output()), _dom_classes=…"
      ]
     },
     "metadata": {},
     "output_type": "display_data"
    },
    {
     "data": {
      "application/vnd.jupyter.widget-view+json": {
       "model_id": "56a32b298c9b480b9630895ec3e60010",
       "version_major": 2,
       "version_minor": 0
      },
      "text/plain": [
       "interactive(children=(IntSlider(value=17252, description='x', max=51756, min=-17252), Output()), _dom_classes=…"
      ]
     },
     "metadata": {},
     "output_type": "display_data"
    }
   ],
   "source": [
    "folder_path = r'C:\\\\Users\\\\BLOODYPROF\\\\Documents\\\\oorja.energy\\\\Cleaned_files\\\\test'\n",
    "fileNames = os.listdir(folder_path)\n",
    "\n",
    "def interactive_plt(x):\n",
    "    plt.plot(df[\"Test_Time (s)\"][x:x+2000],df[\"Charge_Capacity (Ah)\"][x:x+2000])\n",
    "\n",
    "    plt.xlabel('Time') \n",
    "    plt.ylabel('Charge_Capacity (Ah)') \n",
    "\n",
    "    plt.title('Charge_Capacity (Ah) vs Time') \n",
    "\n",
    "    plt.show()\n",
    "\n",
    "for filname in fileNames:\n",
    "    df=pd.read_csv(filname)\n",
    "    for i in range(len(df[\"Charge_Capacity (Ah)\"])-1):\n",
    "        if(((df[\"Charge_Capacity (Ah)\"].iloc[i+1])-(df[\"Charge_Capacity (Ah)\"].iloc[i]))>=1.2):\n",
    "            df[\"Charge_Capacity (Ah)\"].iloc[i]=0\n",
    "            df[\"Charge_Capacity (Ah)\"].iloc[i+1]=0\n",
    "            \n",
    "    df.to_csv('modified'+filname)    \n",
    "    interact(interactive_plt, x=17252)"
   ]
  },
  {
   "cell_type": "markdown",
   "id": "1eb73322",
   "metadata": {},
   "source": [
    "## Clean Voltage"
   ]
  },
  {
   "cell_type": "code",
   "execution_count": 1,
   "id": "073e034d",
   "metadata": {},
   "outputs": [
    {
     "name": "stdout",
     "output_type": "stream",
     "text": [
      "C:\\Users\\BLOODYPROF\\Documents\\oorja.energy\\Cleaned_files\\test\n"
     ]
    }
   ],
   "source": [
    "cd Cleaned_files\\\\test "
   ]
  },
  {
   "cell_type": "code",
   "execution_count": 7,
   "id": "7a3d24d8",
   "metadata": {},
   "outputs": [],
   "source": [
    "def interactive_plt(x):\n",
    "    plt.plot(df[\"Test_Time (s)\"][x:x+500],df[\"Voltage (V)\"][x:x+500])\n",
    "\n",
    "    plt.xlabel('Time') \n",
    "    plt.ylabel('Voltage (V)') \n",
    "\n",
    "    plt.title('Voltage (V) vs Time') \n",
    "\n",
    "    plt.show()"
   ]
  },
  {
   "cell_type": "code",
   "execution_count": 8,
   "id": "ca88061f",
   "metadata": {},
   "outputs": [
    {
     "data": {
      "application/vnd.jupyter.widget-view+json": {
       "model_id": "b7df0df15c384afc9cbc3150063179ae",
       "version_major": 2,
       "version_minor": 0
      },
      "text/plain": [
       "interactive(children=(IntSlider(value=17252, description='x', max=51756, min=-17252), Output()), _dom_classes=…"
      ]
     },
     "metadata": {},
     "output_type": "display_data"
    },
    {
     "data": {
      "application/vnd.jupyter.widget-view+json": {
       "model_id": "eb0815c56de140ef9095a4c79f5a5b50",
       "version_major": 2,
       "version_minor": 0
      },
      "text/plain": [
       "interactive(children=(IntSlider(value=17252, description='x', max=51756, min=-17252), Output()), _dom_classes=…"
      ]
     },
     "metadata": {},
     "output_type": "display_data"
    },
    {
     "data": {
      "application/vnd.jupyter.widget-view+json": {
       "model_id": "a33b377be1764b95a9161e9e535c2a4f",
       "version_major": 2,
       "version_minor": 0
      },
      "text/plain": [
       "interactive(children=(IntSlider(value=17252, description='x', max=51756, min=-17252), Output()), _dom_classes=…"
      ]
     },
     "metadata": {},
     "output_type": "display_data"
    },
    {
     "data": {
      "application/vnd.jupyter.widget-view+json": {
       "model_id": "0c3da1cdf73e422c8f6068c364e2f6ba",
       "version_major": 2,
       "version_minor": 0
      },
      "text/plain": [
       "interactive(children=(IntSlider(value=17252, description='x', max=51756, min=-17252), Output()), _dom_classes=…"
      ]
     },
     "metadata": {},
     "output_type": "display_data"
    },
    {
     "data": {
      "application/vnd.jupyter.widget-view+json": {
       "model_id": "0cca050e967f4f0a80e9b1624821bb2e",
       "version_major": 2,
       "version_minor": 0
      },
      "text/plain": [
       "interactive(children=(IntSlider(value=17252, description='x', max=51756, min=-17252), Output()), _dom_classes=…"
      ]
     },
     "metadata": {},
     "output_type": "display_data"
    },
    {
     "data": {
      "application/vnd.jupyter.widget-view+json": {
       "model_id": "9dd0393e78194a0cb53fcacaf6e9769f",
       "version_major": 2,
       "version_minor": 0
      },
      "text/plain": [
       "interactive(children=(IntSlider(value=17252, description='x', max=51756, min=-17252), Output()), _dom_classes=…"
      ]
     },
     "metadata": {},
     "output_type": "display_data"
    }
   ],
   "source": [
    "folder_path = r'C:\\\\Users\\\\BLOODYPROF\\\\Documents\\\\oorja.energy\\\\Cleaned_files\\\\test'\n",
    "fileNames = os.listdir(folder_path)\n",
    "\n",
    "for filename in fileNames:\n",
    "    df=pd.read_csv(filename)\n",
    "    interact(interactive_plt, x=17252)"
   ]
  },
  {
   "cell_type": "code",
   "execution_count": 29,
   "id": "c5186b3d",
   "metadata": {},
   "outputs": [
    {
     "data": {
      "image/png": "[encoded data removed]",
      "text/plain": [
       "<Figure size 432x288 with 1 Axes>"
      ]
     },
     "metadata": {
      "needs_background": "light"
     },
     "output_type": "display_data"
    },
    {
     "data": {
      "image/png": "[encoded data removed]",
      "text/plain": [
       "<Figure size 432x288 with 1 Axes>"
      ]
     },
     "metadata": {
      "needs_background": "light"
     },
     "output_type": "display_data"
    }
   ],
   "source": [
    "df = pd.read_csv(\"cleaned_UL-PUR_N10-NA7_18650_NCA_23C_0-100_0.5-0.5C_g_timeseries.csv\")\n",
    "plt.plot(df[\"Test_Time (s)\"][33000:42000],df[\"Voltage (V)\"][33000:42000])\n",
    "plt.show()\n",
    "plt.plot(df[\"Test_Time (s)\"][33000:36000],df[\"Voltage (V)\"][33000:36000])\n",
    "plt.xlabel('Time') \n",
    "plt.ylabel('Voltage (V)') \n",
    "plt.title('Voltage (V) vs Time') \n",
    "plt.show()"
   ]
  },
  {
   "cell_type": "code",
   "execution_count": 10,
   "id": "7c960e62",
   "metadata": {},
   "outputs": [
    {
     "data": {
      "application/vnd.jupyter.widget-view+json": {
       "model_id": "05e8fe99e74a4c9198f1a1c0af66387c",
       "version_major": 2,
       "version_minor": 0
      },
      "text/plain": [
       "interactive(children=(IntSlider(value=17252, description='x', max=51756, min=-17252), Output()), _dom_classes=…"
      ]
     },
     "metadata": {},
     "output_type": "display_data"
    },
    {
     "data": {
      "application/vnd.jupyter.widget-view+json": {
       "model_id": "318f00d8a7e249b79cfc1e0852459d7b",
       "version_major": 2,
       "version_minor": 0
      },
      "text/plain": [
       "interactive(children=(IntSlider(value=17252, description='x', max=51756, min=-17252), Output()), _dom_classes=…"
      ]
     },
     "metadata": {},
     "output_type": "display_data"
    },
    {
     "data": {
      "application/vnd.jupyter.widget-view+json": {
       "model_id": "988456ec459e4f9497dfb653ba781247",
       "version_major": 2,
       "version_minor": 0
      },
      "text/plain": [
       "interactive(children=(IntSlider(value=17252, description='x', max=51756, min=-17252), Output()), _dom_classes=…"
      ]
     },
     "metadata": {},
     "output_type": "display_data"
    },
    {
     "data": {
      "application/vnd.jupyter.widget-view+json": {
       "model_id": "fb8e27b6d29b43a9b1eb639855de1316",
       "version_major": 2,
       "version_minor": 0
      },
      "text/plain": [
       "interactive(children=(IntSlider(value=17252, description='x', max=51756, min=-17252), Output()), _dom_classes=…"
      ]
     },
     "metadata": {},
     "output_type": "display_data"
    },
    {
     "name": "stderr",
     "output_type": "stream",
     "text": [
      "C:\\Users\\BLOODYPROF\\AppData\\Local\\Temp\\ipykernel_20276\\2460026822.py:20: SettingWithCopyWarning: \n",
      "A value is trying to be set on a copy of a slice from a DataFrame\n",
      "\n",
      "See the caveats in the documentation: https://pandas.pydata.org/pandas-docs/stable/user_guide/indexing.html#returning-a-view-versus-a-copy\n",
      "  df[\"Voltage (V)\"].iloc[i+1]=df[\"Voltage (V)\"].iloc[i]\n"
     ]
    },
    {
     "data": {
      "application/vnd.jupyter.widget-view+json": {
       "model_id": "826c058ec2184864a4d3141cf6af1551",
       "version_major": 2,
       "version_minor": 0
      },
      "text/plain": [
       "interactive(children=(IntSlider(value=17252, description='x', max=51756, min=-17252), Output()), _dom_classes=…"
      ]
     },
     "metadata": {},
     "output_type": "display_data"
    },
    {
     "name": "stderr",
     "output_type": "stream",
     "text": [
      "C:\\Users\\BLOODYPROF\\AppData\\Local\\Temp\\ipykernel_20276\\2460026822.py:20: SettingWithCopyWarning: \n",
      "A value is trying to be set on a copy of a slice from a DataFrame\n",
      "\n",
      "See the caveats in the documentation: https://pandas.pydata.org/pandas-docs/stable/user_guide/indexing.html#returning-a-view-versus-a-copy\n",
      "  df[\"Voltage (V)\"].iloc[i+1]=df[\"Voltage (V)\"].iloc[i]\n"
     ]
    },
    {
     "data": {
      "application/vnd.jupyter.widget-view+json": {
       "model_id": "749027aa93634bad8e4900e35e2217df",
       "version_major": 2,
       "version_minor": 0
      },
      "text/plain": [
       "interactive(children=(IntSlider(value=17252, description='x', max=51756, min=-17252), Output()), _dom_classes=…"
      ]
     },
     "metadata": {},
     "output_type": "display_data"
    }
   ],
   "source": [
    "folder_path = r'C:\\\\Users\\\\BLOODYPROF\\\\Documents\\\\oorja.energy\\\\Cleaned_files\\\\test'\n",
    "fileNames = os.listdir(folder_path)\n",
    "\n",
    "def interactive_plt(x):\n",
    "    plt.plot(df[\"Test_Time (s)\"][x:x+1000],df[\"Voltage (V)\"][x:x+1000])\n",
    "\n",
    "    plt.xlabel('Time') \n",
    "    plt.ylabel('Voltage (V)') \n",
    "\n",
    "    plt.title('Voltage (V) vs Time') \n",
    "\n",
    "    plt.show()\n",
    "    \n",
    "for filname in fileNames:\n",
    "    df=pd.read_csv(filname)\n",
    "    for i in range(len(df[\"Voltage (V)\"])-1):\n",
    "        if(((df[\"Voltage (V)\"].iloc[i+1])-(df[\"Voltage (V)\"].iloc[i]))<=-0.2):\n",
    "#             print(\"///////\")\n",
    "#             df[\"Voltage (V)\"].iloc[i]=0\n",
    "            df[\"Voltage (V)\"].iloc[i+1]=df[\"Voltage (V)\"].iloc[i]\n",
    "            \n",
    "    df.to_csv('modified'+filname)    \n",
    "    interact(interactive_plt, x=17252)\n",
    "    "
   ]
  },
  {
   "cell_type": "markdown",
   "id": "cf170b59",
   "metadata": {},
   "source": [
    "## Final Clean Data"
   ]
  },
  {
   "cell_type": "code",
   "execution_count": 2,
   "id": "96216ece",
   "metadata": {},
   "outputs": [
    {
     "name": "stdout",
     "output_type": "stream",
     "text": [
      "C:\\Users\\BLOODYPROF\\Documents\\oorja.energy\\Cleaned_files\\test\n"
     ]
    }
   ],
   "source": [
    "cd Cleaned_files/test/"
   ]
  },
  {
   "cell_type": "code",
   "execution_count": 4,
   "id": "c30c1ebc",
   "metadata": {},
   "outputs": [
    {
     "name": "stderr",
     "output_type": "stream",
     "text": [
      "C:\\Users\\BLOODYPROF\\AppData\\Local\\Temp\\ipykernel_30284\\1428760287.py:11: SettingWithCopyWarning: \n",
      "A value is trying to be set on a copy of a slice from a DataFrame\n",
      "\n",
      "See the caveats in the documentation: https://pandas.pydata.org/pandas-docs/stable/user_guide/indexing.html#returning-a-view-versus-a-copy\n",
      "  df[\"Charge_Capacity (Ah)\"].iloc[i]=0\n",
      "C:\\Users\\BLOODYPROF\\AppData\\Local\\Temp\\ipykernel_30284\\1428760287.py:12: SettingWithCopyWarning: \n",
      "A value is trying to be set on a copy of a slice from a DataFrame\n",
      "\n",
      "See the caveats in the documentation: https://pandas.pydata.org/pandas-docs/stable/user_guide/indexing.html#returning-a-view-versus-a-copy\n",
      "  df[\"Charge_Capacity (Ah)\"].iloc[i+1]=0\n",
      "C:\\Users\\BLOODYPROF\\AppData\\Local\\Temp\\ipykernel_30284\\1428760287.py:19: SettingWithCopyWarning: \n",
      "A value is trying to be set on a copy of a slice from a DataFrame\n",
      "\n",
      "See the caveats in the documentation: https://pandas.pydata.org/pandas-docs/stable/user_guide/indexing.html#returning-a-view-versus-a-copy\n",
      "  df[\"Charge_Energy (Wh)\"].iloc[i]=0\n",
      "C:\\Users\\BLOODYPROF\\AppData\\Local\\Temp\\ipykernel_30284\\1428760287.py:20: SettingWithCopyWarning: \n",
      "A value is trying to be set on a copy of a slice from a DataFrame\n",
      "\n",
      "See the caveats in the documentation: https://pandas.pydata.org/pandas-docs/stable/user_guide/indexing.html#returning-a-view-versus-a-copy\n",
      "  df[\"Charge_Energy (Wh)\"].iloc[i+1]=0\n",
      "C:\\Users\\BLOODYPROF\\AppData\\Local\\Temp\\ipykernel_30284\\1428760287.py:11: SettingWithCopyWarning: \n",
      "A value is trying to be set on a copy of a slice from a DataFrame\n",
      "\n",
      "See the caveats in the documentation: https://pandas.pydata.org/pandas-docs/stable/user_guide/indexing.html#returning-a-view-versus-a-copy\n",
      "  df[\"Charge_Capacity (Ah)\"].iloc[i]=0\n",
      "C:\\Users\\BLOODYPROF\\AppData\\Local\\Temp\\ipykernel_30284\\1428760287.py:12: SettingWithCopyWarning: \n",
      "A value is trying to be set on a copy of a slice from a DataFrame\n",
      "\n",
      "See the caveats in the documentation: https://pandas.pydata.org/pandas-docs/stable/user_guide/indexing.html#returning-a-view-versus-a-copy\n",
      "  df[\"Charge_Capacity (Ah)\"].iloc[i+1]=0\n",
      "C:\\Users\\BLOODYPROF\\AppData\\Local\\Temp\\ipykernel_30284\\1428760287.py:19: SettingWithCopyWarning: \n",
      "A value is trying to be set on a copy of a slice from a DataFrame\n",
      "\n",
      "See the caveats in the documentation: https://pandas.pydata.org/pandas-docs/stable/user_guide/indexing.html#returning-a-view-versus-a-copy\n",
      "  df[\"Charge_Energy (Wh)\"].iloc[i]=0\n",
      "C:\\Users\\BLOODYPROF\\AppData\\Local\\Temp\\ipykernel_30284\\1428760287.py:20: SettingWithCopyWarning: \n",
      "A value is trying to be set on a copy of a slice from a DataFrame\n",
      "\n",
      "See the caveats in the documentation: https://pandas.pydata.org/pandas-docs/stable/user_guide/indexing.html#returning-a-view-versus-a-copy\n",
      "  df[\"Charge_Energy (Wh)\"].iloc[i+1]=0\n",
      "C:\\Users\\BLOODYPROF\\AppData\\Local\\Temp\\ipykernel_30284\\1428760287.py:11: SettingWithCopyWarning: \n",
      "A value is trying to be set on a copy of a slice from a DataFrame\n",
      "\n",
      "See the caveats in the documentation: https://pandas.pydata.org/pandas-docs/stable/user_guide/indexing.html#returning-a-view-versus-a-copy\n",
      "  df[\"Charge_Capacity (Ah)\"].iloc[i]=0\n",
      "C:\\Users\\BLOODYPROF\\AppData\\Local\\Temp\\ipykernel_30284\\1428760287.py:12: SettingWithCopyWarning: \n",
      "A value is trying to be set on a copy of a slice from a DataFrame\n",
      "\n",
      "See the caveats in the documentation: https://pandas.pydata.org/pandas-docs/stable/user_guide/indexing.html#returning-a-view-versus-a-copy\n",
      "  df[\"Charge_Capacity (Ah)\"].iloc[i+1]=0\n",
      "C:\\Users\\BLOODYPROF\\AppData\\Local\\Temp\\ipykernel_30284\\1428760287.py:19: SettingWithCopyWarning: \n",
      "A value is trying to be set on a copy of a slice from a DataFrame\n",
      "\n",
      "See the caveats in the documentation: https://pandas.pydata.org/pandas-docs/stable/user_guide/indexing.html#returning-a-view-versus-a-copy\n",
      "  df[\"Charge_Energy (Wh)\"].iloc[i]=0\n",
      "C:\\Users\\BLOODYPROF\\AppData\\Local\\Temp\\ipykernel_30284\\1428760287.py:20: SettingWithCopyWarning: \n",
      "A value is trying to be set on a copy of a slice from a DataFrame\n",
      "\n",
      "See the caveats in the documentation: https://pandas.pydata.org/pandas-docs/stable/user_guide/indexing.html#returning-a-view-versus-a-copy\n",
      "  df[\"Charge_Energy (Wh)\"].iloc[i+1]=0\n",
      "C:\\Users\\BLOODYPROF\\AppData\\Local\\Temp\\ipykernel_30284\\1428760287.py:11: SettingWithCopyWarning: \n",
      "A value is trying to be set on a copy of a slice from a DataFrame\n",
      "\n",
      "See the caveats in the documentation: https://pandas.pydata.org/pandas-docs/stable/user_guide/indexing.html#returning-a-view-versus-a-copy\n",
      "  df[\"Charge_Capacity (Ah)\"].iloc[i]=0\n",
      "C:\\Users\\BLOODYPROF\\AppData\\Local\\Temp\\ipykernel_30284\\1428760287.py:12: SettingWithCopyWarning: \n",
      "A value is trying to be set on a copy of a slice from a DataFrame\n",
      "\n",
      "See the caveats in the documentation: https://pandas.pydata.org/pandas-docs/stable/user_guide/indexing.html#returning-a-view-versus-a-copy\n",
      "  df[\"Charge_Capacity (Ah)\"].iloc[i+1]=0\n",
      "C:\\Users\\BLOODYPROF\\AppData\\Local\\Temp\\ipykernel_30284\\1428760287.py:19: SettingWithCopyWarning: \n",
      "A value is trying to be set on a copy of a slice from a DataFrame\n",
      "\n",
      "See the caveats in the documentation: https://pandas.pydata.org/pandas-docs/stable/user_guide/indexing.html#returning-a-view-versus-a-copy\n",
      "  df[\"Charge_Energy (Wh)\"].iloc[i]=0\n",
      "C:\\Users\\BLOODYPROF\\AppData\\Local\\Temp\\ipykernel_30284\\1428760287.py:20: SettingWithCopyWarning: \n",
      "A value is trying to be set on a copy of a slice from a DataFrame\n",
      "\n",
      "See the caveats in the documentation: https://pandas.pydata.org/pandas-docs/stable/user_guide/indexing.html#returning-a-view-versus-a-copy\n",
      "  df[\"Charge_Energy (Wh)\"].iloc[i+1]=0\n",
      "C:\\Users\\BLOODYPROF\\AppData\\Local\\Temp\\ipykernel_30284\\1428760287.py:11: SettingWithCopyWarning: \n",
      "A value is trying to be set on a copy of a slice from a DataFrame\n",
      "\n",
      "See the caveats in the documentation: https://pandas.pydata.org/pandas-docs/stable/user_guide/indexing.html#returning-a-view-versus-a-copy\n",
      "  df[\"Charge_Capacity (Ah)\"].iloc[i]=0\n",
      "C:\\Users\\BLOODYPROF\\AppData\\Local\\Temp\\ipykernel_30284\\1428760287.py:12: SettingWithCopyWarning: \n",
      "A value is trying to be set on a copy of a slice from a DataFrame\n",
      "\n",
      "See the caveats in the documentation: https://pandas.pydata.org/pandas-docs/stable/user_guide/indexing.html#returning-a-view-versus-a-copy\n",
      "  df[\"Charge_Capacity (Ah)\"].iloc[i+1]=0\n",
      "C:\\Users\\BLOODYPROF\\AppData\\Local\\Temp\\ipykernel_30284\\1428760287.py:19: SettingWithCopyWarning: \n",
      "A value is trying to be set on a copy of a slice from a DataFrame\n",
      "\n",
      "See the caveats in the documentation: https://pandas.pydata.org/pandas-docs/stable/user_guide/indexing.html#returning-a-view-versus-a-copy\n",
      "  df[\"Charge_Energy (Wh)\"].iloc[i]=0\n",
      "C:\\Users\\BLOODYPROF\\AppData\\Local\\Temp\\ipykernel_30284\\1428760287.py:20: SettingWithCopyWarning: \n",
      "A value is trying to be set on a copy of a slice from a DataFrame\n",
      "\n",
      "See the caveats in the documentation: https://pandas.pydata.org/pandas-docs/stable/user_guide/indexing.html#returning-a-view-versus-a-copy\n",
      "  df[\"Charge_Energy (Wh)\"].iloc[i+1]=0\n",
      "C:\\Users\\BLOODYPROF\\AppData\\Local\\Temp\\ipykernel_30284\\1428760287.py:8: SettingWithCopyWarning: \n",
      "A value is trying to be set on a copy of a slice from a DataFrame\n",
      "\n",
      "See the caveats in the documentation: https://pandas.pydata.org/pandas-docs/stable/user_guide/indexing.html#returning-a-view-versus-a-copy\n",
      "  df[\"Voltage (V)\"].iloc[i+1]=df[\"Voltage (V)\"].iloc[i]\n",
      "C:\\Users\\BLOODYPROF\\AppData\\Local\\Temp\\ipykernel_30284\\1428760287.py:11: SettingWithCopyWarning: \n",
      "A value is trying to be set on a copy of a slice from a DataFrame\n",
      "\n",
      "See the caveats in the documentation: https://pandas.pydata.org/pandas-docs/stable/user_guide/indexing.html#returning-a-view-versus-a-copy\n",
      "  df[\"Charge_Capacity (Ah)\"].iloc[i]=0\n",
      "C:\\Users\\BLOODYPROF\\AppData\\Local\\Temp\\ipykernel_30284\\1428760287.py:12: SettingWithCopyWarning: \n",
      "A value is trying to be set on a copy of a slice from a DataFrame\n",
      "\n",
      "See the caveats in the documentation: https://pandas.pydata.org/pandas-docs/stable/user_guide/indexing.html#returning-a-view-versus-a-copy\n",
      "  df[\"Charge_Capacity (Ah)\"].iloc[i+1]=0\n",
      "C:\\Users\\BLOODYPROF\\AppData\\Local\\Temp\\ipykernel_30284\\1428760287.py:19: SettingWithCopyWarning: \n",
      "A value is trying to be set on a copy of a slice from a DataFrame\n",
      "\n",
      "See the caveats in the documentation: https://pandas.pydata.org/pandas-docs/stable/user_guide/indexing.html#returning-a-view-versus-a-copy\n",
      "  df[\"Charge_Energy (Wh)\"].iloc[i]=0\n",
      "C:\\Users\\BLOODYPROF\\AppData\\Local\\Temp\\ipykernel_30284\\1428760287.py:20: SettingWithCopyWarning: \n",
      "A value is trying to be set on a copy of a slice from a DataFrame\n",
      "\n",
      "See the caveats in the documentation: https://pandas.pydata.org/pandas-docs/stable/user_guide/indexing.html#returning-a-view-versus-a-copy\n",
      "  df[\"Charge_Energy (Wh)\"].iloc[i+1]=0\n"
     ]
    },
    {
     "name": "stderr",
     "output_type": "stream",
     "text": [
      "C:\\Users\\BLOODYPROF\\AppData\\Local\\Temp\\ipykernel_30284\\1428760287.py:8: SettingWithCopyWarning: \n",
      "A value is trying to be set on a copy of a slice from a DataFrame\n",
      "\n",
      "See the caveats in the documentation: https://pandas.pydata.org/pandas-docs/stable/user_guide/indexing.html#returning-a-view-versus-a-copy\n",
      "  df[\"Voltage (V)\"].iloc[i+1]=df[\"Voltage (V)\"].iloc[i]\n"
     ]
    }
   ],
   "source": [
    "folder_path = r'C:\\\\Users\\\\BLOODYPROF\\\\Documents\\\\oorja.energy\\\\Cleaned_files\\\\test'\n",
    "fileNames = os.listdir(folder_path)\n",
    "\n",
    "for filname in fileNames:\n",
    "    df=pd.read_csv(filname)\n",
    "    for i in range(len(df[\"Voltage (V)\"])-1):\n",
    "        if(((df[\"Voltage (V)\"].iloc[i+1])-(df[\"Voltage (V)\"].iloc[i]))<=-0.2):\n",
    "            df[\"Voltage (V)\"].iloc[i+1]=df[\"Voltage (V)\"].iloc[i]\n",
    "            \n",
    "        if(((df[\"Charge_Capacity (Ah)\"].iloc[i+1])-(df[\"Charge_Capacity (Ah)\"].iloc[i]))>=1.2):\n",
    "            df[\"Charge_Capacity (Ah)\"].iloc[i]=0\n",
    "            df[\"Charge_Capacity (Ah)\"].iloc[i+1]=0\n",
    "        \n",
    "        if(((df[\"Discharge_Capacity (Ah)\"].iloc[i+1])-(df[\"Discharge_Capacity (Ah)\"].iloc[i]))>=0.5):\n",
    "            df[\"Disharge_Capacity (Ah)\"].iloc[i]=0\n",
    "            df[\"Discharge_Capacity (Ah)\"].iloc[i+1]=0\n",
    "        \n",
    "        if(((df[\"Charge_Energy (Wh)\"].iloc[i+1])-(df[\"Charge_Energy (Wh)\"].iloc[i]))>=5):\n",
    "            df[\"Charge_Energy (Wh)\"].iloc[i]=0\n",
    "            df[\"Charge_Energy (Wh)\"].iloc[i+1]=0 \n",
    "            \n",
    "            \n",
    "    df.to_csv('modified_'+filname, index=False)    \n",
    "    "
   ]
  },
  {
   "cell_type": "markdown",
   "id": "ad8c0e21",
   "metadata": {},
   "source": [
    "## Cleaning Discharge Cap Data"
   ]
  },
  {
   "cell_type": "code",
   "execution_count": 3,
   "id": "5842dc92",
   "metadata": {},
   "outputs": [
    {
     "data": {
      "text/plain": [
       "Index(['Date_Time', 'Test_Time (s)', 'Cycle_Index', 'Current (A)',\n",
       "       'Voltage (V)', 'Charge_Capacity (Ah)', 'Discharge_Capacity (Ah)',\n",
       "       'Charge_Energy (Wh)', 'Discharge_Energy (Wh)',\n",
       "       'Environment_Temperature (C)', 'Cell_Temperature (C)'],\n",
       "      dtype='object')"
      ]
     },
     "execution_count": 3,
     "metadata": {},
     "output_type": "execute_result"
    }
   ],
   "source": [
    "df = pd.read_csv(\"modified_cleaned_UL-PUR_N10-EX9_18650_NCA_23C_0-100_0.5-0.5C_i_timeseries.csv\")\n",
    "# df['Discharge_Capacity (Ah)'].iloc[100:120]\n",
    "df.columns"
   ]
  },
  {
   "cell_type": "code",
   "execution_count": 4,
   "id": "867be7fc",
   "metadata": {},
   "outputs": [
    {
     "data": {
      "application/vnd.jupyter.widget-view+json": {
       "model_id": "b341c0340c4144e2acfa4ffb61867684",
       "version_major": 2,
       "version_minor": 0
      },
      "text/plain": [
       "interactive(children=(IntSlider(value=17252, description='x', max=51756, min=-17252), Output()), _dom_classes=…"
      ]
     },
     "metadata": {},
     "output_type": "display_data"
    },
    {
     "data": {
      "text/plain": [
       "<function __main__.interactive_plt(x)>"
      ]
     },
     "execution_count": 4,
     "metadata": {},
     "output_type": "execute_result"
    }
   ],
   "source": [
    "def interactive_plt(x):\n",
    "    plt.plot(df[\"Test_Time (s)\"][x:x+2000],df[\"Discharge_Capacity (Ah)\"][x:x+2000])\n",
    "\n",
    "    plt.xlabel('Test_Time (s)') \n",
    "    plt.ylabel('Discharge_Capacity (Ah)') \n",
    "\n",
    "    plt.title('Discharge_Capacity (Ah) vs Test_Time (s)') \n",
    "\n",
    "    plt.show()\n",
    "\n",
    "interact(interactive_plt, x=17252)"
   ]
  },
  {
   "cell_type": "code",
   "execution_count": 4,
   "id": "a8078785",
   "metadata": {},
   "outputs": [
    {
     "name": "stderr",
     "output_type": "stream",
     "text": [
      "C:\\Users\\BLOODYPROF\\AppData\\Local\\Temp\\ipykernel_38336\\2650219771.py:7: SettingWithCopyWarning: \n",
      "A value is trying to be set on a copy of a slice from a DataFrame\n",
      "\n",
      "See the caveats in the documentation: https://pandas.pydata.org/pandas-docs/stable/user_guide/indexing.html#returning-a-view-versus-a-copy\n",
      "  df['Discharge_Capacity (Ah)'][i]=(df['Discharge_Capacity (Ah)'][i]+dischrg_max)/2.0\n"
     ]
    }
   ],
   "source": [
    "dischrg_max=-1\n",
    "for i in range(20,len(df['Discharge_Capacity (Ah)'])-2000):\n",
    "    if(df['Discharge_Capacity (Ah)'][i]>dischrg_max):\n",
    "        dischrg_max=df['Discharge_Capacity (Ah)'][i]\n",
    "        \n",
    "    if(df['Discharge_Capacity (Ah)'][i]!=0 and df['Discharge_Capacity (Ah)'][i+20]<df['Discharge_Capacity (Ah)'][i] and df['Discharge_Capacity (Ah)'][i-20]<df['Discharge_Capacity (Ah)'][i] and (dischrg_max-df['Discharge_Capacity (Ah)'][i]>0.5)):\n",
    "        df['Discharge_Capacity (Ah)'][i]=(df['Discharge_Capacity (Ah)'][i]+dischrg_max)/2.0\n"
   ]
  },
  {
   "cell_type": "code",
   "execution_count": 11,
   "id": "1aaab134",
   "metadata": {},
   "outputs": [],
   "source": [
    "dic= {\n",
    "            \"Cycle_Index\": \"first\",\n",
    "            \"Discharge_Capacity\": \"max\",\n",
    "            \"Charge_Capacity\": \"max\",\n",
    "            \"Discharge_Energy\": \"max\",\n",
    "            \"Charge_Energy\": \"max\",\n",
    "        }"
   ]
  },
  {
   "cell_type": "code",
   "execution_count": 2,
   "id": "5897efdf",
   "metadata": {},
   "outputs": [
    {
     "name": "stdout",
     "output_type": "stream",
     "text": [
      "c:\\Users\\BLOODYPROF\\Documents\\oorja.energy\\Data\\raw_data\\test\n"
     ]
    }
   ],
   "source": [
    "cd Data/raw_data/test/"
   ]
  },
  {
   "cell_type": "code",
   "execution_count": 17,
   "id": "a32a2901",
   "metadata": {},
   "outputs": [
    {
     "data": {
      "image/png": "[encoded data removed]",
      "text/plain": [
       "<Figure size 432x288 with 1 Axes>"
      ]
     },
     "metadata": {
      "needs_background": "light"
     },
     "output_type": "display_data"
    }
   ],
   "source": [
    "folder_path = r'C:/Users/BLOODYPROF/Documents/oorja.energy/Data/raw_data/test/'\n",
    "fileNames = os.listdir(folder_path)\n",
    "\n",
    "i=1\n",
    "for filname in fileNames:\n",
    "    df=pd.read_csv(filname)\n",
    "    df2 = df.groupby(\"Cycle_Index\").agg(dic)\n",
    " \n",
    "    plt.plot( df2['Cycle_Index'], df2['Discharge_Capacity'], label=i)\n",
    "    plt.xlabel('Cycle_Index') \n",
    "    plt.ylabel('Discharge_Capacity (Ah)') \n",
    "    plt.legend()\n",
    "    plt.title('Discharge_Capacity (Ah) vs Cycle_Index')\n",
    "    i+=1\n",
    "plt.ylim([0.8, 1.1])\n",
    "plt.show()\n"
   ]
  },
  {
   "cell_type": "code",
   "execution_count": 16,
   "id": "5b8d42fc",
   "metadata": {},
   "outputs": [
    {
     "data": {
      "image/png": "[encoded data removed]",
      "text/plain": [
       "<Figure size 432x288 with 1 Axes>"
      ]
     },
     "metadata": {
      "needs_background": "light"
     },
     "output_type": "display_data"
    }
   ],
   "source": []
  },
  {
   "cell_type": "code",
   "execution_count": 4,
   "id": "fb89a258",
   "metadata": {},
   "outputs": [
    {
     "data": {
      "image/png": "[encoded data removed]",
      "text/plain": [
       "<Figure size 432x288 with 1 Axes>"
      ]
     },
     "metadata": {
      "needs_background": "light"
     },
     "output_type": "display_data"
    }
   ],
   "source": [
    "folder_path = r'C:/Users/BLOODYPROF/Documents/oorja.energy/Data/Modified_Clean_files/test/'\n",
    "fileNames = os.listdir(folder_path)\n",
    "\n",
    "i=1\n",
    "for filname in fileNames:\n",
    "    df=pd.read_csv(filname)\n",
    "    df2 = df.groupby(\"Cycle_Index\").agg(dic)\n",
    " \n",
    "    plt.plot( df2['Cycle_Index'], df2['Discharge_Capacity (Ah)'], label=i)\n",
    "    plt.xlabel('Cycle_Index') \n",
    "    plt.ylabel('Discharge_Capacity (Ah)') \n",
    "    plt.legend()\n",
    "    plt.title('Discharge_Capacity (Ah) vs Cycle_Index')\n",
    "    i+=1\n",
    "# plt.ylim([0.8, 1])\n",
    "plt.show()"
   ]
  },
  {
   "cell_type": "code",
   "execution_count": 8,
   "id": "a3515f74",
   "metadata": {},
   "outputs": [
    {
     "name": "stdout",
     "output_type": "stream",
     "text": [
      "c:\\Users\\BLOODYPROF\\Documents\\oorja.energy\n"
     ]
    }
   ],
   "source": [
    "cd .."
   ]
  },
  {
   "cell_type": "code",
   "execution_count": 6,
   "id": "5789cfec",
   "metadata": {},
   "outputs": [
    {
     "data": {
      "image/png": "[encoded data removed]",
      "text/plain": [
       "<Figure size 432x288 with 1 Axes>"
      ]
     },
     "metadata": {
      "needs_background": "light"
     },
     "output_type": "display_data"
    }
   ],
   "source": [
    "# df=pd.read_csv('cleaned_UL-PUR_N10-EX9_18650_NCA_23C_0-100_0.5-0.5C_i_timeseries.csv')\n",
    "df2 = df.groupby(\"Cycle_Index\").agg(dic)\n",
    "plt.plot( df2['Cycle_Index'], df2['Discharge_Capacity (Ah)'])\n",
    "plt.xlabel('Cycle_Index') \n",
    "plt.ylabel('Discharge_Capacity (Ah)') \n",
    "# plt.legend()\n",
    "plt.title('Discharge_Capacity (Ah) vs Cycle_Index')\n",
    "# plt.ylim([0.8, 1])\n",
    "plt.show()"
   ]
  },
  {
   "cell_type": "code",
   "execution_count": 7,
   "id": "d8ed87cb",
   "metadata": {},
   "outputs": [
    {
     "data": {
      "image/png": "[encoded data removed]",
      "text/plain": [
       "<Figure size 432x288 with 1 Axes>"
      ]
     },
     "metadata": {
      "needs_background": "light"
     },
     "output_type": "display_data"
    }
   ],
   "source": [
    "df=pd.read_csv('modified_cleaned_UL-PUR_N10-EX9_18650_NCA_23C_0-100_0.5-0.5C_i_timeseries.csv')\n",
    "df2 = df.groupby(\"Cycle_Index\").agg(dic)\n",
    "plt.plot( df2['Cycle_Index'], df2['Discharge_Capacity (Ah)'])\n",
    "plt.xlabel('Cycle_Index') \n",
    "plt.ylabel('Discharge_Capacity (Ah)') \n",
    "# plt.legend()\n",
    "plt.title('Discharge_Capacity (Ah) vs Cycle_Index')\n",
    "# plt.ylim([0.8, 1])\n",
    "plt.show()"
   ]
  },
  {
   "cell_type": "code",
   "execution_count": 8,
   "id": "77c451d1",
   "metadata": {},
   "outputs": [],
   "source": [
    "cycle_drop = -1\n",
    "for i in range(2,len(df2['Discharge_Capacity (Ah)'])):\n",
    "    diff = (df2['Discharge_Capacity (Ah)'][i])-(df2['Discharge_Capacity (Ah)'][i-1])\n",
    "    if(abs(diff)>=0.02):\n",
    "        cycle_drop = i\n",
    "        break"
   ]
  },
  {
   "cell_type": "code",
   "execution_count": 9,
   "id": "5ecc0106",
   "metadata": {},
   "outputs": [
    {
     "data": {
      "text/plain": [
       "46"
      ]
     },
     "execution_count": 9,
     "metadata": {},
     "output_type": "execute_result"
    }
   ],
   "source": [
    "cycle_drop"
   ]
  },
  {
   "cell_type": "code",
   "execution_count": 10,
   "id": "490e52d7",
   "metadata": {},
   "outputs": [
    {
     "data": {
      "image/png": "[encoded data removed]",
      "text/plain": [
       "<Figure size 432x288 with 1 Axes>"
      ]
     },
     "metadata": {
      "needs_background": "light"
     },
     "output_type": "display_data"
    }
   ],
   "source": [
    "df2.drop(df2.index[-1],inplace = True)\n",
    "df2.drop(df2.index[0:cycle_drop],inplace = True)\n",
    "\n",
    "\n",
    "# df2[\"Cycle_Index\"]=df[\"Cycle_Index\"]-cycle_drop\n",
    "plt.plot( df2['Cycle_Index'], df2['Discharge_Capacity (Ah)'])\n",
    "plt.xlabel('Cycle_Index') \n",
    "plt.ylabel('Discharge_Capacity (Ah)') \n",
    "# plt.legend()\n",
    "plt.title('Discharge_Capacity (Ah) vs Cycle_Index')\n",
    "# plt.ylim([0.8, 1])\n",
    "plt.show()"
   ]
  },
  {
   "cell_type": "code",
   "execution_count": 11,
   "id": "70e72431",
   "metadata": {},
   "outputs": [
    {
     "data": {
      "image/png": "[encoded data removed]",
      "text/plain": [
       "<Figure size 432x288 with 1 Axes>"
      ]
     },
     "metadata": {
      "needs_background": "light"
     },
     "output_type": "display_data"
    }
   ],
   "source": [
    "df2[\"Cycle_Index\"]=df2[\"Cycle_Index\"]-cycle_drop\n",
    "plt.plot( df2['Cycle_Index'], df2['Discharge_Capacity (Ah)'])\n",
    "plt.xlabel('Cycle_Index') \n",
    "plt.ylabel('Discharge_Capacity (Ah)') \n",
    "plt.title('Discharge_Capacity (Ah) vs Cycle_Index')\n",
    "plt.show()"
   ]
  },
  {
   "cell_type": "markdown",
   "id": "ad37cca1",
   "metadata": {},
   "source": [
    "## Plot throughput"
   ]
  },
  {
   "cell_type": "code",
   "execution_count": 3,
   "id": "7e193f6f",
   "metadata": {},
   "outputs": [],
   "source": [
    "df = pd.read_json('PredictedDegradationDF-2022-30-08_17.51.21.361344.json')\n",
    "throughput = df.values.tolist()\n",
    "capacity = np.arange(0.98,0.77,-0.03).tolist()"
   ]
  },
  {
   "cell_type": "code",
   "execution_count": 7,
   "id": "7e431a96",
   "metadata": {},
   "outputs": [],
   "source": [
    "legendList = []\n",
    "for i in range(len(throughput)):\n",
    "    plt.plot(throughput[i], capacity)\n",
    "    legendList.append(\"file\" + str(i+1))\n",
    "\n",
    "plt.title('Throughput predicted')\n",
    "plt.xlabel('throughput')\n",
    "plt.ylabel('Capacity')\n",
    "plt.legend(legendList)\n",
    "# plt.show(block=False)"
   ]
  },
  {
   "cell_type": "code",
   "execution_count": 5,
   "id": "98cc70e0",
   "metadata": {},
   "outputs": [],
   "source": [
    "dic= {\n",
    "            \"Cycle_Index\": \"first\",\n",
    "            \"Discharge_Capacity\": \"max\",\n",
    "            \n",
    "        }\n",
    "\n"
   ]
  },
  {
   "cell_type": "code",
   "execution_count": 18,
   "id": "758c21bf",
   "metadata": {},
   "outputs": [
    {
     "data": {
      "image/png": "[encoded data removed]",
      "text/plain": [
       "<Figure size 360x360 with 1 Axes>"
      ]
     },
     "metadata": {
      "needs_background": "light"
     },
     "output_type": "display_data"
    },
    {
     "data": {
      "image/png": "[encoded data removed]",
      "text/plain": [
       "<Figure size 360x360 with 1 Axes>"
      ]
     },
     "metadata": {
      "needs_background": "light"
     },
     "output_type": "display_data"
    },
    {
     "data": {
      "image/png": "[encoded data removed]",
      "text/plain": [
       "<Figure size 360x360 with 1 Axes>"
      ]
     },
     "metadata": {
      "needs_background": "light"
     },
     "output_type": "display_data"
    },
    {
     "data": {
      "image/png": "[encoded data removed]",
      "text/plain": [
       "<Figure size 360x360 with 1 Axes>"
      ]
     },
     "metadata": {
      "needs_background": "light"
     },
     "output_type": "display_data"
    },
    {
     "data": {
      "image/png": "[encoded data removed]",
      "text/plain": [
       "<Figure size 360x360 with 1 Axes>"
      ]
     },
     "metadata": {
      "needs_background": "light"
     },
     "output_type": "display_data"
    },
    {
     "data": {
      "image/png": "[encoded data removed]",
      "text/plain": [
       "<Figure size 360x360 with 1 Axes>"
      ]
     },
     "metadata": {
      "needs_background": "light"
     },
     "output_type": "display_data"
    },
    {
     "data": {
      "image/png": "[encoded data removed]",
      "text/plain": [
       "<Figure size 360x360 with 1 Axes>"
      ]
     },
     "metadata": {
      "needs_background": "light"
     },
     "output_type": "display_data"
    }
   ],
   "source": [
    "folder_path = r'C:\\\\Users\\\\BLOODYPROF\\\\Documents\\\\oorja.energy\\\\Data\\\\raw_data\\\\test'\n",
    "fileNames = os.listdir(folder_path)\n",
    "\n",
    "i=0\n",
    "for filname in fileNames:\n",
    "    df=pd.read_csv(filname)\n",
    "    df2 = df.groupby(\"Cycle_Index\").agg(dic)\n",
    "    df2[\"Discharge_Throughput\"] = df2.Discharge_Capacity.cumsum()\n",
    "    max= np.max(df2[\"Discharge_Capacity\"].iloc[20:])\n",
    "    df2[\"Discharge_Capacity\"] = df2[\"Discharge_Capacity\"]/max\n",
    "    plt.figure(figsize=(5,5))\n",
    "    plt.plot( df2['Discharge_Throughput'], df2['Discharge_Capacity'], color = 'red')\n",
    "    plt.plot(throughput[i], capacity, color = 'blue')\n",
    "    legendList.append(\"file\" + str(i+1))\n",
    "    plt.xlabel('Discharge_Throughput') \n",
    "    plt.ylabel('Discharge_Capacity (Ah)') \n",
    "    plt.legend(legendList)\n",
    "    plt.title('Discharge_Throughput vs Discharge_Capacity (Ah)')\n",
    "    plt.ylim([0.8, 1])\n",
    "    plt.xlim([200, 1400])\n",
    "    plt.show() \n",
    "    i=i+1\n",
    "    \n"
   ]
  }
 ],
 "metadata": {
  "kernelspec": {
   "display_name": "Python 3 (ipykernel)",
   "language": "python",
   "name": "python3"
  },
  "language_info": {
   "codemirror_mode": {
    "name": "ipython",
    "version": 3
   },
   "file_extension": ".py",
   "mimetype": "text/x-python",
   "name": "python",
   "nbconvert_exporter": "python",
   "pygments_lexer": "ipython3",
   "version": "3.10.4"
  },
  "vscode": {
   "interpreter": {
    "hash": "f0041f93a488064df38cabb1e81bbfe5c24ed1cefee7216126153c8918b86701"
   }
  }
 },
 "nbformat": 4,
 "nbformat_minor": 5
}
