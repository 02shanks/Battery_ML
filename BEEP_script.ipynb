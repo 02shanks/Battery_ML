{
 "cells": [
  {
   "cell_type": "code",
   "execution_count": null,
   "id": "a68b04ef",
   "metadata": {},
   "outputs": [],
   "source": [
    "# df = pd.read_csv(\"Cleaned_SNL_18650_LFP_15C_0-100_0.5-1C_a_timeseries.csv\")\n",
    "# df['Cycle_Index'] = pd.to_numeric(df['Cycle_Index'])\n",
    "\n",
    "# err_idx=[] #For errornous indicies : Cycle number didn't got reset\n",
    "# miss_idx=[] #Missed Index\n",
    "# for i in range(1,len(df)-1):\n",
    "#     if (df['Current (A)'][i]==0 and df['Current (A)'][i+1]>0 and df['Current (A)'][i-1]<0 and (df['Cycle_Index'][i+1]==df['Cycle_Index'][i-1])):\n",
    "#         err_idx.append(i)\n",
    "#     if(df['Cycle_Index'][i+1]-df['Cycle_Index'][i]>1):\n",
    "#         miss_idx.append(i)\n",
    "        \n",
    "# for i in miss_idx:\n",
    "#     df.loc[df.index >= i,'Cycle_Index'] = df.loc[df.index >= i,'Cycle_Index'] - 1\n",
    "# for i in err_idx:\n",
    "#     df.loc[df.index >= i,'Cycle_Index'] = df.loc[df.index >= i,'Cycle_Index'] + 1\n",
    "\n",
    "# t=df.groupby('Cycle_Index').first()['Charge_Capacity (Ah)']\n",
    "# nonzeroind =np.where(t>0.5)\n",
    "\n",
    "# for i in (nonzeroind[0]):\n",
    "#     relative_to_first(df, 'Charge_Capacity (Ah)', i)\n",
    "#     relative_to_first(df, 'Discharge_Capacity (Ah)', i)\n",
    "#     relative_to_first(df, 'Charge_Energy (Wh)', i)\n",
    "#     relative_to_first(df, 'Discharge_Energy (Wh)', i)\n"
   ]
  },
  {
   "cell_type": "code",
   "execution_count": null,
   "id": "49185e46",
   "metadata": {},
   "outputs": [],
   "source": [
    "# idx_ls=[]\n",
    "# s = df.groupby('Cycle_Index')['Charge_Capacity (Ah)'].max()\n",
    "# thresh = s.mean()*(0.8)\n",
    "# s.drop(s.index[-1])\n",
    "# for i in range(len(s)):\n",
    "#     if (s.iloc[i]<thresh):\n",
    "#         idx_ls.append(i)\n"
   ]
  },
  {
   "cell_type": "code",
   "execution_count": 23,
   "id": "4cee72ae",
   "metadata": {},
   "outputs": [],
   "source": [
    "# batteryarchive_datapath = auto_load(\"cleaned_UL-PUR_N10-EX9_18650_NCA_23C_0-100_0.5-0.5C_i_timeseries.csv\")\n",
    "# print(batteryarchive_datapath.raw_data)\n",
    "# batteryarchive_structure=batteryarchive_datapath.autostructure()\n",
    "#batteryarchive_datapath.to_json_file(add_suffix(\"modified_cleaned_UL-PUR_N10-NA7_18650_NCA_23C_0-100_0.5-0.5C_g_timeseries.csv\", suffix=\"structured\"))\n",
    "\n",
    "\n",
    "# print(batteryarchive_datapath.is_structured)\n",
    "# print(batteryarchive_datapath.structured_data)\n",
    "# print(batteryarchive_datapath.structured_summary)\n",
    "# print(batteryarchive_datapath.diagnostic_data)\n",
    "# print(batteryarchive_datapath.diagnostic_summary)\n",
    "\n",
    "\n",
    "\n",
    "# print(batteryarchive_datapath.get_cycle_life())\n",
    "# print(batteryarchive_datapath.cycles_to_capacities(cycle_min=50, cycle_max=200, cycle_interval=50))\n",
    "# print(batteryarchive_datapath.capacities_to_cycles())"
   ]
  },
  {
   "cell_type": "code",
   "execution_count": 24,
   "id": "1b827835",
   "metadata": {},
   "outputs": [],
   "source": [
    "print(batteryarchive_datapath.structured_summary)"
   ]
  },
  {
   "cell_type": "markdown",
   "id": "65ba880a",
   "metadata": {},
   "source": [
    "## Read JSON Input"
   ]
  },
  {
   "cell_type": "code",
   "execution_count": 5,
   "id": "9fbfd453",
   "metadata": {},
   "outputs": [],
   "source": [
    "dictionary = {\n",
    "    \"v_range\": [0.5, 0.9],\n",
    "    \"nominal_capacity\": 1.1,\n",
    "    \"full_fast_charge\": 0.9,\n",
    "    \"resolution\": 200\n",
    "}\n",
    " \n",
    "with open(\"sample.json\", \"w\") as outfile:\n",
    "    json.dump(dictionary, outfile)\n",
    "\n",
    "with open('sample.json', 'r') as openfile:\n",
    "    para = json.load(openfile)\n"
   ]
  },
  {
   "cell_type": "code",
   "execution_count": 7,
   "id": "426dc78f",
   "metadata": {},
   "outputs": [
    {
     "data": {
      "text/plain": [
       "{'v_range': [0.5, 0.9],\n",
       " 'nominal_capacity': 1.1,\n",
       " 'full_fast_charge': 0.9,\n",
       " 'resolution': 200}"
      ]
     },
     "execution_count": 7,
     "metadata": {},
     "output_type": "execute_result"
    }
   ],
   "source": [
    "para"
   ]
  },
  {
   "cell_type": "code",
   "execution_count": 6,
   "id": "c6229a00",
   "metadata": {},
   "outputs": [
    {
     "name": "stdout",
     "output_type": "stream",
     "text": [
      "Archive\n",
      "before date format\n",
      "after date format\n",
      "{'raw': 'C:\\\\Users\\\\BLOODYPROF\\\\Documents\\\\oorja.energy\\\\cleaned_UL-PUR_N10-EX9_18650_NCA_23C_0-100_0.5-0.5C_i_timeseries.csv', 'metadata': None}\n",
      "2022-10-21 17:43:45 INFO     Beginning structuring along charge axis 'charge_capacity' and discharge axis 'voltage'.\n"
     ]
    },
    {
     "name": "stderr",
     "output_type": "stream",
     "text": [
      "Interpolating discharge (0.5 - 0.9)V (200 points): 100%|██████████████████████████████████████████| 205/205 [00:14<00:00, 13.77it/s]\n"
     ]
    },
    {
     "name": "stdout",
     "output_type": "stream",
     "text": [
      "end of interpolate\n"
     ]
    },
    {
     "name": "stderr",
     "output_type": "stream",
     "text": [
      "Interpolating charge (0.5 - 0.9)V (200 points): 100%|█████████████████████████████████████████████| 205/205 [00:15<00:00, 12.89it/s]\n"
     ]
    },
    {
     "name": "stdout",
     "output_type": "stream",
     "text": [
      "end of interpolate\n",
      "True\n"
     ]
    }
   ],
   "source": [
    "batteryarchive_datapath = auto_load(\"cleaned_UL-PUR_N10-EX9_18650_NCA_23C_0-100_0.5-0.5C_i_timeseries.csv\")\n",
    "batteryarchive_datapath.json_structure('sample.json')\n",
    "print(batteryarchive_datapath.is_structured)"
   ]
  },
  {
   "cell_type": "code",
   "execution_count": null,
   "id": "117cee5e",
   "metadata": {},
   "outputs": [],
   "source": [
    "# f=DeltaQFastCharge(batteryarchive_datapath)\n",
    "# t=TrajectoryFastCharge(batteryarchive_datapath)\n",
    "\n",
    "# f.datapath.paths\n",
    "# f.create_features()\n",
    "# t.create_features()\n",
    "\n",
    "# f.features"
   ]
  },
  {
   "cell_type": "markdown",
   "id": "5143cf64",
   "metadata": {},
   "source": [
    "## Model"
   ]
  },
  {
   "cell_type": "code",
   "execution_count": 13,
   "id": "13df4d7b",
   "metadata": {},
   "outputs": [],
   "source": [
    "import os\n",
    "import json\n",
    "import pandas as pd\n",
    "import numpy as np\n",
    "import matplotlib.pyplot as plt\n",
    "from beep.structure.battery_archive import BatteryArchiveDatapath\n",
    "from beep.structure import auto_load\n",
    "from beep.model import BEEPLinearModelExperiment\n",
    "from beep.features.core import DeltaQFastCharge, TrajectoryFastCharge\n",
    "from beep.features.base import BEEPFeatureMatrix, BEEPFeaturizer\n",
    "from beep.python_feature import featurize"
   ]
  },
  {
   "cell_type": "code",
   "execution_count": 14,
   "id": "5243b33a",
   "metadata": {},
   "outputs": [
    {
     "data": {
      "text/plain": [
       "'C:\\\\Users\\\\BLOODYPROF\\\\Documents\\\\oorja.energy'"
      ]
     },
     "execution_count": 14,
     "metadata": {},
     "output_type": "execute_result"
    }
   ],
   "source": [
    "os.chdir(\"C:\\\\Users\\\\BLOODYPROF\\\\Documents\\\\oorja.energy\")\n",
    "os.getcwd()"
   ]
  },
  {
   "cell_type": "code",
   "execution_count": 15,
   "id": "5c8a746d",
   "metadata": {},
   "outputs": [],
   "source": [
    "def relative_to_first(data_frame, column_name, i):\n",
    "    col_data = data_frame[data_frame['cycle_index ']==i+1][column_name]\n",
    "    print(col_data.iloc[0])\n",
    "    data_frame.loc[data_frame['cycle_index ']==i+1,column_name] = col_data - col_data.iloc[0]\n",
    "    \n",
    "def add_suffix(full_path, suffix):\n",
    "    basename = os.path.basename(full_path) # get the base name in specified path\n",
    "    stripped_basename, ext = os.path.splitext(basename) # used to split the path name into a pair root and ext. \n",
    "    new_basename = stripped_basename + suffix + ext\n",
    "    print(new_basename)\n",
    "    return new_basename"
   ]
  },
  {
   "cell_type": "code",
   "execution_count": 22,
   "id": "2b23f541",
   "metadata": {},
   "outputs": [
    {
     "name": "stdout",
     "output_type": "stream",
     "text": [
      "C:\\Users\\BLOODYPROF\\Documents\\oorja.energy\\Data\\Modified_Clean_files\\test\n",
      "Archive\n",
      "before date format\n",
      "after date format\n",
      "{'raw': 'C:\\\\Users\\\\BLOODYPROF\\\\Documents\\\\oorja.energy\\\\Data\\\\Modified_Clean_files\\\\test\\\\modified_cleaned_UL-PUR_N10-NA7_18650_NCA_23C_0-100_0.5-0.5C_g_timeseries.csvcleaned.csv', 'metadata': None}\n",
      "2022-11-02 00:55:38 INFO     Autostructuring determined parameters of v_range=None, resolution=1000, nominal_capacity=1.1, full_fast_charge=0.8, diagnostic_available=False\n",
      "2022-11-02 00:55:38 INFO     Beginning structuring along charge axis 'charge_capacity' and discharge axis 'voltage'.\n"
     ]
    },
    {
     "name": "stderr",
     "output_type": "stream",
     "text": [
      "Interpolating discharge (2.8 - 3.5)V (1000 points): 100%|████████████████████████████| 175/175 [00:18<00:00,  9.41it/s]\n"
     ]
    },
    {
     "name": "stdout",
     "output_type": "stream",
     "text": [
      "end of interpolate\n"
     ]
    },
    {
     "name": "stderr",
     "output_type": "stream",
     "text": [
      "Interpolating charge (2.8 - 3.5)V (1000 points): 100%|███████████████████████████████| 175/175 [00:14<00:00, 12.14it/s]\n"
     ]
    },
    {
     "name": "stdout",
     "output_type": "stream",
     "text": [
      "end of interpolate\n",
      "modified_cleaned_UL-PUR_N10-NA7_18650_NCA_23C_0-100_0.5-0.5C_g_timeseries_structured.csv\n",
      "Archive\n",
      "before date format\n",
      "after date format\n",
      "{'raw': 'C:\\\\Users\\\\BLOODYPROF\\\\Documents\\\\oorja.energy\\\\Data\\\\Modified_Clean_files\\\\test\\\\modified_cleaned_UL-PUR_N15-OV3_18650_NCA_23C_0-100_0.5-0.5C_c_timeseries.csvcleaned.csv', 'metadata': None}\n",
      "2022-11-02 00:56:34 INFO     Autostructuring determined parameters of v_range=None, resolution=1000, nominal_capacity=1.1, full_fast_charge=0.8, diagnostic_available=False\n",
      "2022-11-02 00:56:34 INFO     Beginning structuring along charge axis 'charge_capacity' and discharge axis 'voltage'.\n"
     ]
    },
    {
     "name": "stderr",
     "output_type": "stream",
     "text": [
      "Interpolating discharge (2.8 - 3.5)V (1000 points): 100%|████████████████████████████| 202/202 [00:16<00:00, 11.98it/s]\n"
     ]
    },
    {
     "name": "stdout",
     "output_type": "stream",
     "text": [
      "end of interpolate\n"
     ]
    },
    {
     "name": "stderr",
     "output_type": "stream",
     "text": [
      "Interpolating charge (2.8 - 3.5)V (1000 points): 100%|███████████████████████████████| 202/202 [00:16<00:00, 12.36it/s]\n"
     ]
    },
    {
     "name": "stdout",
     "output_type": "stream",
     "text": [
      "end of interpolate\n",
      "modified_cleaned_UL-PUR_N15-OV3_18650_NCA_23C_0-100_0.5-0.5C_c_timeseries_structured.csv\n",
      "Archive\n",
      "before date format\n",
      "after date format\n",
      "{'raw': 'C:\\\\Users\\\\BLOODYPROF\\\\Documents\\\\oorja.energy\\\\Data\\\\Modified_Clean_files\\\\test\\\\modified_cleaned_UL-PUR_N20-EX2_18650_NCA_23C_0-100_0.5-0.5C_b_timeseries.csvcleaned.csv', 'metadata': None}\n",
      "2022-11-02 00:57:55 INFO     Autostructuring determined parameters of v_range=None, resolution=1000, nominal_capacity=1.1, full_fast_charge=0.8, diagnostic_available=False\n",
      "2022-11-02 00:57:55 INFO     Beginning structuring along charge axis 'charge_capacity' and discharge axis 'voltage'.\n"
     ]
    },
    {
     "name": "stderr",
     "output_type": "stream",
     "text": [
      "Interpolating discharge (2.8 - 3.5)V (1000 points): 100%|████████████████████████████| 320/320 [00:26<00:00, 12.18it/s]\n"
     ]
    },
    {
     "name": "stdout",
     "output_type": "stream",
     "text": [
      "end of interpolate\n"
     ]
    },
    {
     "name": "stderr",
     "output_type": "stream",
     "text": [
      "Interpolating charge (2.8 - 3.5)V (1000 points): 100%|███████████████████████████████| 320/320 [00:22<00:00, 14.03it/s]\n"
     ]
    },
    {
     "name": "stdout",
     "output_type": "stream",
     "text": [
      "end of interpolate\n",
      "modified_cleaned_UL-PUR_N20-EX2_18650_NCA_23C_0-100_0.5-0.5C_b_timeseries_structured.csv\n",
      "Archive\n",
      "before date format\n",
      "after date format\n",
      "{'raw': 'C:\\\\Users\\\\BLOODYPROF\\\\Documents\\\\oorja.energy\\\\Data\\\\Modified_Clean_files\\\\test\\\\modified_cleaned_UL-PUR_R10-NA11_18650_NCA_23C_2.5-96.5_0.5-0.5C_k_timeseries.csvcleaned.csv', 'metadata': None}\n",
      "2022-11-02 00:59:27 INFO     Autostructuring determined parameters of v_range=None, resolution=1000, nominal_capacity=1.1, full_fast_charge=0.8, diagnostic_available=False\n",
      "2022-11-02 00:59:27 INFO     Beginning structuring along charge axis 'charge_capacity' and discharge axis 'voltage'.\n"
     ]
    },
    {
     "name": "stderr",
     "output_type": "stream",
     "text": [
      "Interpolating discharge (2.8 - 3.5)V (1000 points): 100%|████████████████████████████| 455/455 [00:38<00:00, 11.77it/s]\n"
     ]
    },
    {
     "name": "stdout",
     "output_type": "stream",
     "text": [
      "end of interpolate\n"
     ]
    },
    {
     "name": "stderr",
     "output_type": "stream",
     "text": [
      "Interpolating charge (2.8 - 3.5)V (1000 points): 100%|███████████████████████████████| 455/455 [00:34<00:00, 13.24it/s]\n"
     ]
    },
    {
     "name": "stdout",
     "output_type": "stream",
     "text": [
      "end of interpolate\n",
      "modified_cleaned_UL-PUR_R10-NA11_18650_NCA_23C_2.5-96.5_0.5-0.5C_k_timeseries_structured.csv\n",
      "Archive\n",
      "before date format\n",
      "after date format\n",
      "{'raw': 'C:\\\\Users\\\\BLOODYPROF\\\\Documents\\\\oorja.energy\\\\Data\\\\Modified_Clean_files\\\\test\\\\modified_cleaned_UL-PUR_R15-OV3_18650_NCA_23C_2.5-96.5_0.5-0.5C_c_timeseries.csvcleaned.csv', 'metadata': None}\n",
      "2022-11-02 01:02:02 INFO     Autostructuring determined parameters of v_range=None, resolution=1000, nominal_capacity=1.1, full_fast_charge=0.8, diagnostic_available=False\n",
      "2022-11-02 01:02:02 INFO     Beginning structuring along charge axis 'charge_capacity' and discharge axis 'voltage'.\n"
     ]
    },
    {
     "name": "stderr",
     "output_type": "stream",
     "text": [
      "Interpolating discharge (2.8 - 3.5)V (1000 points): 100%|████████████████████████████| 652/652 [01:01<00:00, 10.64it/s]\n"
     ]
    },
    {
     "name": "stdout",
     "output_type": "stream",
     "text": [
      "end of interpolate\n"
     ]
    },
    {
     "name": "stderr",
     "output_type": "stream",
     "text": [
      "Interpolating charge (2.8 - 3.5)V (1000 points): 100%|███████████████████████████████| 652/652 [00:59<00:00, 10.96it/s]\n"
     ]
    },
    {
     "name": "stdout",
     "output_type": "stream",
     "text": [
      "end of interpolate\n",
      "modified_cleaned_UL-PUR_R15-OV3_18650_NCA_23C_2.5-96.5_0.5-0.5C_c_timeseries_structured.csv\n",
      "Archive\n",
      "before date format\n",
      "after date format\n",
      "{'raw': 'C:\\\\Users\\\\BLOODYPROF\\\\Documents\\\\oorja.energy\\\\Data\\\\Modified_Clean_files\\\\test\\\\modified_cleaned_UL-PUR_R20-NA8_18650_NCA_23C_2.5-96.5_0.5-0.5C_h_timeseries.csvcleaned.csv', 'metadata': None}\n",
      "2022-11-02 01:05:26 INFO     Autostructuring determined parameters of v_range=None, resolution=1000, nominal_capacity=1.1, full_fast_charge=0.8, diagnostic_available=False\n",
      "2022-11-02 01:05:26 INFO     Beginning structuring along charge axis 'charge_capacity' and discharge axis 'voltage'.\n"
     ]
    },
    {
     "name": "stderr",
     "output_type": "stream",
     "text": [
      "Interpolating discharge (2.8 - 3.5)V (1000 points): 100%|████████████████████████████| 641/641 [00:57<00:00, 11.20it/s]\n"
     ]
    },
    {
     "name": "stdout",
     "output_type": "stream",
     "text": [
      "end of interpolate\n"
     ]
    },
    {
     "name": "stderr",
     "output_type": "stream",
     "text": [
      "Interpolating charge (2.8 - 3.5)V (1000 points): 100%|███████████████████████████████| 641/641 [00:55<00:00, 11.53it/s]\n"
     ]
    },
    {
     "name": "stdout",
     "output_type": "stream",
     "text": [
      "end of interpolate\n",
      "modified_cleaned_UL-PUR_R20-NA8_18650_NCA_23C_2.5-96.5_0.5-0.5C_h_timeseries_structured.csv\n"
     ]
    },
    {
     "data": {
      "text/plain": [
       "'C:\\\\Users\\\\BLOODYPROF\\\\Documents\\\\oorja.energy'"
      ]
     },
     "execution_count": 22,
     "metadata": {},
     "output_type": "execute_result"
    }
   ],
   "source": [
    "folder_path = r'C:\\\\Users\\\\BLOODYPROF\\\\Documents\\\\oorja.energy\\\\Data\\\\Modified_Clean_files\\\\test'\n",
    "output_dir=r'C:\\\\Users\\\\BLOODYPROF\\\\Documents\\\\oorja.energy\\\\Structure_demo'\n",
    "print(os.getcwd())\n",
    "fileNames = os.listdir(folder_path)\n",
    "\n",
    "for filename in fileNames:\n",
    "    \n",
    "    os.chdir(folder_path)\n",
    "    \n",
    "    df = pd.read_csv(filename)\n",
    "    df['Cycle_Index'] = pd.to_numeric(df['Cycle_Index'])\n",
    "    \n",
    "    err_idx=[] #For errornous indicies : Cycle number didn't got reset\n",
    "    miss_idx=[] #Missed Index\n",
    "    \n",
    "    for i in range(1,len(df)-1):\n",
    "        if (df['Current (A)'][i]==0 and df['Current (A)'][i+1]>0 and df['Current (A)'][i-1]<0 and (df['Cycle_Index'][i+1]==df['Cycle_Index'][i-1])):\n",
    "            err_idx.append(i)\n",
    "        if(df['Cycle_Index'][i+1]-df['Cycle_Index'][i]>1):\n",
    "            miss_idx.append(i)\n",
    "\n",
    "    for i in miss_idx:\n",
    "        df.loc[df.index >= i,'Cycle_Index'] = df.loc[df.index >= i,'Cycle_Index'] - 1\n",
    "    for i in err_idx:\n",
    "        df.loc[df.index >= i,'Cycle_Index'] = df.loc[df.index >= i,'Cycle_Index'] + 1\n",
    "\n",
    "    t=df.groupby('Cycle_Index').first()['Charge_Capacity (Ah)']\n",
    "    nonzeroind =np.where(t>0.5)\n",
    "\n",
    "    for i in (nonzeroind[0]):\n",
    "        relative_to_first(df, 'Charge_Capacity (Ah)', i)\n",
    "        relative_to_first(df, 'Discharge_Capacity (Ah)', i)\n",
    "        relative_to_first(df, 'Charge_Energy (Wh)', i)\n",
    "        relative_to_first(df, 'Discharge_Energy (Wh)', i)\n",
    "    \n",
    "    df.to_csv(filename + 'cleaned.csv')\n",
    "        \n",
    "    batteryarchive_datapath = auto_load(filename + 'cleaned.csv')\n",
    "\n",
    "    \n",
    "    batteryarchive_structure=batteryarchive_datapath.autostructure()\n",
    "    os.chdir(output_dir)\n",
    "    batteryarchive_datapath.to_json_file(add_suffix(filename, suffix=\"_structured\"))\n",
    "    \n",
    "\n",
    "os.chdir(\"C:\\\\Users\\\\BLOODYPROF\\\\Documents\\\\oorja.energy\")\n",
    "os.getcwd()"
   ]
  },
  {
   "cell_type": "code",
   "execution_count": 33,
   "id": "a17ff88f",
   "metadata": {},
   "outputs": [
    {
     "name": "stdout",
     "output_type": "stream",
     "text": [
      "C:\\Users\\BLOODYPROF\\Documents\\oorja.energy\n",
      "C:\\Users\\BLOODYPROF\\Documents\\oorja.energy\\Structure_demo\n",
      "<class 'list'> ['modified_cleaned_UL-PUR_N10-NA7_18650_NCA_23C_0-100_0.5-0.5C_g_timeseries_structured.csv', 'modified_cleaned_UL-PUR_N15-OV3_18650_NCA_23C_0-100_0.5-0.5C_c_timeseries_structured.csv', 'modified_cleaned_UL-PUR_N20-EX2_18650_NCA_23C_0-100_0.5-0.5C_b_timeseries_structured.csv', 'modified_cleaned_UL-PUR_R10-NA11_18650_NCA_23C_2.5-96.5_0.5-0.5C_k_timeseries_structured.csv', 'modified_cleaned_UL-PUR_R15-OV3_18650_NCA_23C_2.5-96.5_0.5-0.5C_c_timeseries_structured.csv', 'modified_cleaned_UL-PUR_R20-NA8_18650_NCA_23C_2.5-96.5_0.5-0.5C_h_timeseries_structured.csv']\n",
      "2022-10-21 01:10:07 INFO     Applying 1 featurizers to each of 6 files\n",
      "2022-10-21 01:10:07 DEBUG    Hashing file 'C:\\Users\\BLOODYPROF\\Documents\\oorja.energy\\Structure_demo\\modified_cleaned_UL-PUR_N10-NA7_18650_NCA_23C_0-100_0.5-0.5C_g_timeseries_structured.csv' to MD5\n",
      "2022-10-21 01:10:07 DEBUG    File 1 of 6: Loading processed run 'C:\\Users\\BLOODYPROF\\Documents\\oorja.energy\\Structure_demo\\modified_cleaned_UL-PUR_N10-NA7_18650_NCA_23C_0-100_0.5-0.5C_g_timeseries_structured.csv'.\n",
      "2022-10-21 01:10:10 DEBUG    File 1 of 6: Loaded processed run 'C:\\Users\\BLOODYPROF\\Documents\\oorja.energy\\Structure_demo\\modified_cleaned_UL-PUR_N10-NA7_18650_NCA_23C_0-100_0.5-0.5C_g_timeseries_structured.csv' into memory.\n",
      "2022-10-21 01:10:10 INFO     File 1 of 6: Featurizer TrajectoryFastCharge valid with params {'thresh_max_cap': 0.98, 'thresh_min_cap': 0.78, 'interval_cap': 0.03} for 'C:\\Users\\BLOODYPROF\\Documents\\oorja.energy\\Structure_demo\\modified_cleaned_UL-PUR_N10-NA7_18650_NCA_23C_0-100_0.5-0.5C_g_timeseries_structured.csv'\n",
      "2022-10-21 01:10:10 INFO     File 1 of 6: Featurizer TrajectoryFastCharge applied with params {'thresh_max_cap': 0.98, 'thresh_min_cap': 0.78, 'interval_cap': 0.03} for 'C:\\Users\\BLOODYPROF\\Documents\\oorja.energy\\Structure_demo\\modified_cleaned_UL-PUR_N10-NA7_18650_NCA_23C_0-100_0.5-0.5C_g_timeseries_structured.csv'\n",
      "2022-10-21 01:10:10 DEBUG    Hashing file 'C:\\Users\\BLOODYPROF\\Documents\\oorja.energy\\Structure_demo\\modified_cleaned_UL-PUR_N15-OV3_18650_NCA_23C_0-100_0.5-0.5C_c_timeseries_structured.csv' to MD5\n",
      "2022-10-21 01:10:10 DEBUG    File 2 of 6: Loading processed run 'C:\\Users\\BLOODYPROF\\Documents\\oorja.energy\\Structure_demo\\modified_cleaned_UL-PUR_N15-OV3_18650_NCA_23C_0-100_0.5-0.5C_c_timeseries_structured.csv'.\n",
      "2022-10-21 01:10:12 DEBUG    File 2 of 6: Loaded processed run 'C:\\Users\\BLOODYPROF\\Documents\\oorja.energy\\Structure_demo\\modified_cleaned_UL-PUR_N15-OV3_18650_NCA_23C_0-100_0.5-0.5C_c_timeseries_structured.csv' into memory.\n",
      "2022-10-21 01:10:12 INFO     File 2 of 6: Featurizer TrajectoryFastCharge valid with params {'thresh_max_cap': 0.98, 'thresh_min_cap': 0.78, 'interval_cap': 0.03} for 'C:\\Users\\BLOODYPROF\\Documents\\oorja.energy\\Structure_demo\\modified_cleaned_UL-PUR_N15-OV3_18650_NCA_23C_0-100_0.5-0.5C_c_timeseries_structured.csv'\n",
      "2022-10-21 01:10:12 INFO     File 2 of 6: Featurizer TrajectoryFastCharge applied with params {'thresh_max_cap': 0.98, 'thresh_min_cap': 0.78, 'interval_cap': 0.03} for 'C:\\Users\\BLOODYPROF\\Documents\\oorja.energy\\Structure_demo\\modified_cleaned_UL-PUR_N15-OV3_18650_NCA_23C_0-100_0.5-0.5C_c_timeseries_structured.csv'\n",
      "2022-10-21 01:10:12 DEBUG    Hashing file 'C:\\Users\\BLOODYPROF\\Documents\\oorja.energy\\Structure_demo\\modified_cleaned_UL-PUR_N20-EX2_18650_NCA_23C_0-100_0.5-0.5C_b_timeseries_structured.csv' to MD5\n",
      "2022-10-21 01:10:13 DEBUG    File 3 of 6: Loading processed run 'C:\\Users\\BLOODYPROF\\Documents\\oorja.energy\\Structure_demo\\modified_cleaned_UL-PUR_N20-EX2_18650_NCA_23C_0-100_0.5-0.5C_b_timeseries_structured.csv'.\n",
      "2022-10-21 01:10:17 DEBUG    File 3 of 6: Loaded processed run 'C:\\Users\\BLOODYPROF\\Documents\\oorja.energy\\Structure_demo\\modified_cleaned_UL-PUR_N20-EX2_18650_NCA_23C_0-100_0.5-0.5C_b_timeseries_structured.csv' into memory.\n",
      "2022-10-21 01:10:17 INFO     File 3 of 6: Featurizer TrajectoryFastCharge valid with params {'thresh_max_cap': 0.98, 'thresh_min_cap': 0.78, 'interval_cap': 0.03} for 'C:\\Users\\BLOODYPROF\\Documents\\oorja.energy\\Structure_demo\\modified_cleaned_UL-PUR_N20-EX2_18650_NCA_23C_0-100_0.5-0.5C_b_timeseries_structured.csv'\n",
      "2022-10-21 01:10:17 INFO     File 3 of 6: Featurizer TrajectoryFastCharge applied with params {'thresh_max_cap': 0.98, 'thresh_min_cap': 0.78, 'interval_cap': 0.03} for 'C:\\Users\\BLOODYPROF\\Documents\\oorja.energy\\Structure_demo\\modified_cleaned_UL-PUR_N20-EX2_18650_NCA_23C_0-100_0.5-0.5C_b_timeseries_structured.csv'\n",
      "2022-10-21 01:10:17 DEBUG    Hashing file 'C:\\Users\\BLOODYPROF\\Documents\\oorja.energy\\Structure_demo\\modified_cleaned_UL-PUR_R10-NA11_18650_NCA_23C_2.5-96.5_0.5-0.5C_k_timeseries_structured.csv' to MD5\n",
      "2022-10-21 01:10:18 DEBUG    File 4 of 6: Loading processed run 'C:\\Users\\BLOODYPROF\\Documents\\oorja.energy\\Structure_demo\\modified_cleaned_UL-PUR_R10-NA11_18650_NCA_23C_2.5-96.5_0.5-0.5C_k_timeseries_structured.csv'.\n",
      "2022-10-21 01:10:23 DEBUG    File 4 of 6: Loaded processed run 'C:\\Users\\BLOODYPROF\\Documents\\oorja.energy\\Structure_demo\\modified_cleaned_UL-PUR_R10-NA11_18650_NCA_23C_2.5-96.5_0.5-0.5C_k_timeseries_structured.csv' into memory.\n",
      "2022-10-21 01:10:23 INFO     File 4 of 6: Featurizer TrajectoryFastCharge valid with params {'thresh_max_cap': 0.98, 'thresh_min_cap': 0.78, 'interval_cap': 0.03} for 'C:\\Users\\BLOODYPROF\\Documents\\oorja.energy\\Structure_demo\\modified_cleaned_UL-PUR_R10-NA11_18650_NCA_23C_2.5-96.5_0.5-0.5C_k_timeseries_structured.csv'\n",
      "2022-10-21 01:10:23 INFO     File 4 of 6: Featurizer TrajectoryFastCharge applied with params {'thresh_max_cap': 0.98, 'thresh_min_cap': 0.78, 'interval_cap': 0.03} for 'C:\\Users\\BLOODYPROF\\Documents\\oorja.energy\\Structure_demo\\modified_cleaned_UL-PUR_R10-NA11_18650_NCA_23C_2.5-96.5_0.5-0.5C_k_timeseries_structured.csv'\n",
      "2022-10-21 01:10:23 DEBUG    Hashing file 'C:\\Users\\BLOODYPROF\\Documents\\oorja.energy\\Structure_demo\\modified_cleaned_UL-PUR_R15-OV3_18650_NCA_23C_2.5-96.5_0.5-0.5C_c_timeseries_structured.csv' to MD5\n",
      "2022-10-21 01:10:24 DEBUG    File 5 of 6: Loading processed run 'C:\\Users\\BLOODYPROF\\Documents\\oorja.energy\\Structure_demo\\modified_cleaned_UL-PUR_R15-OV3_18650_NCA_23C_2.5-96.5_0.5-0.5C_c_timeseries_structured.csv'.\n",
      "2022-10-21 01:10:32 DEBUG    File 5 of 6: Loaded processed run 'C:\\Users\\BLOODYPROF\\Documents\\oorja.energy\\Structure_demo\\modified_cleaned_UL-PUR_R15-OV3_18650_NCA_23C_2.5-96.5_0.5-0.5C_c_timeseries_structured.csv' into memory.\n",
      "2022-10-21 01:10:32 INFO     File 5 of 6: Featurizer TrajectoryFastCharge valid with params {'thresh_max_cap': 0.98, 'thresh_min_cap': 0.78, 'interval_cap': 0.03} for 'C:\\Users\\BLOODYPROF\\Documents\\oorja.energy\\Structure_demo\\modified_cleaned_UL-PUR_R15-OV3_18650_NCA_23C_2.5-96.5_0.5-0.5C_c_timeseries_structured.csv'\n",
      "2022-10-21 01:10:32 INFO     File 5 of 6: Featurizer TrajectoryFastCharge applied with params {'thresh_max_cap': 0.98, 'thresh_min_cap': 0.78, 'interval_cap': 0.03} for 'C:\\Users\\BLOODYPROF\\Documents\\oorja.energy\\Structure_demo\\modified_cleaned_UL-PUR_R15-OV3_18650_NCA_23C_2.5-96.5_0.5-0.5C_c_timeseries_structured.csv'\n",
      "2022-10-21 01:10:32 DEBUG    Hashing file 'C:\\Users\\BLOODYPROF\\Documents\\oorja.energy\\Structure_demo\\modified_cleaned_UL-PUR_R20-NA8_18650_NCA_23C_2.5-96.5_0.5-0.5C_h_timeseries_structured.csv' to MD5\n",
      "2022-10-21 01:10:33 DEBUG    File 6 of 6: Loading processed run 'C:\\Users\\BLOODYPROF\\Documents\\oorja.energy\\Structure_demo\\modified_cleaned_UL-PUR_R20-NA8_18650_NCA_23C_2.5-96.5_0.5-0.5C_h_timeseries_structured.csv'.\n",
      "2022-10-21 01:10:41 DEBUG    File 6 of 6: Loaded processed run 'C:\\Users\\BLOODYPROF\\Documents\\oorja.energy\\Structure_demo\\modified_cleaned_UL-PUR_R20-NA8_18650_NCA_23C_2.5-96.5_0.5-0.5C_h_timeseries_structured.csv' into memory.\n",
      "2022-10-21 01:10:41 INFO     File 6 of 6: Featurizer TrajectoryFastCharge valid with params {'thresh_max_cap': 0.98, 'thresh_min_cap': 0.78, 'interval_cap': 0.03} for 'C:\\Users\\BLOODYPROF\\Documents\\oorja.energy\\Structure_demo\\modified_cleaned_UL-PUR_R20-NA8_18650_NCA_23C_2.5-96.5_0.5-0.5C_h_timeseries_structured.csv'\n",
      "2022-10-21 01:10:41 INFO     File 6 of 6: Featurizer TrajectoryFastCharge applied with params {'thresh_max_cap': 0.98, 'thresh_min_cap': 0.78, 'interval_cap': 0.03} for 'C:\\Users\\BLOODYPROF\\Documents\\oorja.energy\\Structure_demo\\modified_cleaned_UL-PUR_R20-NA8_18650_NCA_23C_2.5-96.5_0.5-0.5C_h_timeseries_structured.csv'\n"
     ]
    },
    {
     "name": "stdout",
     "output_type": "stream",
     "text": [
      "beepfeaturizers___________ [<beep.features.core.TrajectoryFastCharge object at 0x00000204ABDA0A30>, <beep.features.core.TrajectoryFastCharge object at 0x00000204AE8DB430>, <beep.features.core.TrajectoryFastCharge object at 0x00000204AC1AFFD0>, <beep.features.core.TrajectoryFastCharge object at 0x00000204AE8DAFE0>, <beep.features.core.TrajectoryFastCharge object at 0x00000204AE8DB640>, <beep.features.core.TrajectoryFastCharge object at 0x00000204AC1AD4E0>]\n",
      "2022-10-21 01:10:41 INFO     Feature matrix of size (6, 7) successfully created and saved to C:\\Users\\BLOODYPROF\\Documents\\oorja.energy\\Structure_demo\\TM_demo.json.gz\n",
      "2022-10-21 01:10:41 INFO     Featurization report:\n",
      "2022-10-21 01:10:41 INFO     \tAll 1 featurizers succeeded: 6/6\n",
      "2022-10-21 01:10:41 INFO     \t\t- C:\\Users\\BLOODYPROF\\Documents\\oorja.energy\\Structure_demo\\modified_cleaned_UL-PUR_N10-NA7_18650_NCA_23C_0-100_0.5-0.5C_g_timeseries_structured.csv\n",
      "2022-10-21 01:10:41 INFO     \t\t- C:\\Users\\BLOODYPROF\\Documents\\oorja.energy\\Structure_demo\\modified_cleaned_UL-PUR_N15-OV3_18650_NCA_23C_0-100_0.5-0.5C_c_timeseries_structured.csv\n",
      "2022-10-21 01:10:41 INFO     \t\t- C:\\Users\\BLOODYPROF\\Documents\\oorja.energy\\Structure_demo\\modified_cleaned_UL-PUR_N20-EX2_18650_NCA_23C_0-100_0.5-0.5C_b_timeseries_structured.csv\n",
      "2022-10-21 01:10:41 INFO     \t\t- C:\\Users\\BLOODYPROF\\Documents\\oorja.energy\\Structure_demo\\modified_cleaned_UL-PUR_R10-NA11_18650_NCA_23C_2.5-96.5_0.5-0.5C_k_timeseries_structured.csv\n",
      "2022-10-21 01:10:41 INFO     \t\t- C:\\Users\\BLOODYPROF\\Documents\\oorja.energy\\Structure_demo\\modified_cleaned_UL-PUR_R15-OV3_18650_NCA_23C_2.5-96.5_0.5-0.5C_c_timeseries_structured.csv\n",
      "2022-10-21 01:10:41 INFO     \t\t- C:\\Users\\BLOODYPROF\\Documents\\oorja.energy\\Structure_demo\\modified_cleaned_UL-PUR_R20-NA8_18650_NCA_23C_2.5-96.5_0.5-0.5C_h_timeseries_structured.csv\n",
      "2022-10-21 01:10:41 INFO     \tNo featurizers succeeded or file failed: 0/6\n",
      "2022-10-21 01:10:41 INFO     \tFeaturization matrix created: True\n"
     ]
    }
   ],
   "source": [
    "folder_path = r'C:\\\\Users\\BLOODYPROF\\\\Documents\\\\oorja.energy\\\\Structure_demo'\n",
    "output_dir=r'C:\\\\Users\\\\BLOODYPROF\\\\Documents\\\\oorja.energy\\\\feature_demo'\n",
    "output_filename_feature= 'FM_demo.json.gz\n",
    "output_filename_target= 'TM_demo.json.gz'\n",
    "\n",
    "print(os.getcwd())\n",
    "os.chdir(folder_path)\n",
    "print(os.getcwd())\n",
    "fileNames = os.listdir(folder_path)\n",
    "print(type(fileNames), fileNames)\n",
    "\n",
    "f_m=featurize(files=fileNames, output_filename=output_filename_feature ,featurize_with=[\"DeltaQFastCharge\"])\n",
    "t_m=featurize(files=fileNames, output_filename=output_filename_target ,featurize_with=[\"TrajectoryFastCharge\"])\n",
    "\n",
    "os.chdir(\"C:\\\\Users\\\\BLOODYPROF\\\\Documents\\\\oorja.energy\")"
   ]
  },
  {
   "cell_type": "code",
   "execution_count": 35,
   "id": "32d437cd",
   "metadata": {},
   "outputs": [],
   "source": [
    "targets=[\"capacity_0.98::TrajectoryFastCharge\",\n",
    "         \"capacity_0.95::TrajectoryFastCharge\",\n",
    "         \"capacity_0.92::TrajectoryFastCharge\",\n",
    "        \"capacity_0.89::TrajectoryFastCharge\",\n",
    "        \"capacity_0.86::TrajectoryFastCharge\",\n",
    "        \"capacity_0.83::TrajectoryFastCharge\",\n",
    "        \"capacity_0.8::TrajectoryFastCharge\"]"
   ]
  },
  {
   "cell_type": "code",
   "execution_count": 36,
   "id": "b0a8d30b",
   "metadata": {},
   "outputs": [
    {
     "name": "stdout",
     "output_type": "stream",
     "text": [
      "<class 'beep.features.base.BEEPFeatureMatrix'>\n",
      "6 ##### 6\n",
      "2022-10-21 01:16:34 WARNING  Number of samples (6) less than number of features (11); may cause overfitting.\n"
     ]
    }
   ],
   "source": [
    "train = BEEPLinearModelExperiment(feature_matrix=f_m, target_matrix=t_m, targets=targets, model_name=\"elasticnet\")"
   ]
  },
  {
   "cell_type": "code",
   "execution_count": 37,
   "id": "7d4d7236",
   "metadata": {},
   "outputs": [
    {
     "data": {
      "text/html": [
       "<div>\n",
       "<style scoped>\n",
       "    .dataframe tbody tr th:only-of-type {\n",
       "        vertical-align: middle;\n",
       "    }\n",
       "\n",
       "    .dataframe tbody tr th {\n",
       "        vertical-align: top;\n",
       "    }\n",
       "\n",
       "    .dataframe thead th {\n",
       "        text-align: right;\n",
       "    }\n",
       "</style>\n",
       "<table border=\"1\" class=\"dataframe\">\n",
       "  <thead>\n",
       "    <tr style=\"text-align: right;\">\n",
       "      <th></th>\n",
       "      <th>abs_first_discharge_capacity_difference_cycles_2:100::DeltaQFastCharge</th>\n",
       "      <th>abs_kurtosis_discharge_capacity_difference_cycles_2:100::DeltaQFastCharge</th>\n",
       "      <th>abs_mean_discharge_capacity_difference_cycles_2:100::DeltaQFastCharge</th>\n",
       "      <th>abs_min_discharge_capacity_difference_cycles_2:100::DeltaQFastCharge</th>\n",
       "      <th>abs_skew_discharge_capacity_difference_cycles_2:100::DeltaQFastCharge</th>\n",
       "      <th>abs_variance_discharge_capacity_difference_cycles_2:100::DeltaQFastCharge</th>\n",
       "      <th>charge_time_cycles_1:5::DeltaQFastCharge</th>\n",
       "      <th>discharge_capacity_cycle_2::DeltaQFastCharge</th>\n",
       "      <th>integrated_time_temperature_cycles_1:100::DeltaQFastCharge</th>\n",
       "      <th>intercept_discharge_capacity_cycle_number_91:100::DeltaQFastCharge</th>\n",
       "      <th>slope_discharge_capacity_cycle_number_91:100::DeltaQFastCharge</th>\n",
       "    </tr>\n",
       "    <tr>\n",
       "      <th>filename</th>\n",
       "      <th></th>\n",
       "      <th></th>\n",
       "      <th></th>\n",
       "      <th></th>\n",
       "      <th></th>\n",
       "      <th></th>\n",
       "      <th></th>\n",
       "      <th></th>\n",
       "      <th></th>\n",
       "      <th></th>\n",
       "      <th></th>\n",
       "    </tr>\n",
       "  </thead>\n",
       "  <tbody>\n",
       "    <tr>\n",
       "      <th>C:\\Users\\BLOODYPROF\\Documents\\oorja.energy\\Structure_demo\\modified_cleaned_UL-PUR_N10-NA7_18650_NCA_23C_0-100_0.5-0.5C_g_timeseries_structured.csv</th>\n",
       "      <td>-0.745296</td>\n",
       "      <td>0.434447</td>\n",
       "      <td>-0.688222</td>\n",
       "      <td>-0.089443</td>\n",
       "      <td>-0.461777</td>\n",
       "      <td>-1.569644</td>\n",
       "      <td>2001.250000</td>\n",
       "      <td>3.023</td>\n",
       "      <td>795950.297929</td>\n",
       "      <td>2.945655</td>\n",
       "      <td>-0.001188</td>\n",
       "    </tr>\n",
       "    <tr>\n",
       "      <th>C:\\Users\\BLOODYPROF\\Documents\\oorja.energy\\Structure_demo\\modified_cleaned_UL-PUR_N15-OV3_18650_NCA_23C_0-100_0.5-0.5C_c_timeseries_structured.csv</th>\n",
       "      <td>-1.136697</td>\n",
       "      <td>1.018353</td>\n",
       "      <td>-0.569122</td>\n",
       "      <td>-0.414269</td>\n",
       "      <td>0.489387</td>\n",
       "      <td>-2.238515</td>\n",
       "      <td>2018.280029</td>\n",
       "      <td>3.290</td>\n",
       "      <td>924990.095511</td>\n",
       "      <td>3.314727</td>\n",
       "      <td>-0.001127</td>\n",
       "    </tr>\n",
       "    <tr>\n",
       "      <th>C:\\Users\\BLOODYPROF\\Documents\\oorja.energy\\Structure_demo\\modified_cleaned_UL-PUR_N20-EX2_18650_NCA_23C_0-100_0.5-0.5C_b_timeseries_structured.csv</th>\n",
       "      <td>-1.005718</td>\n",
       "      <td>0.455703</td>\n",
       "      <td>-0.519957</td>\n",
       "      <td>-0.312287</td>\n",
       "      <td>0.049721</td>\n",
       "      <td>-2.510629</td>\n",
       "      <td>2067.512207</td>\n",
       "      <td>3.355</td>\n",
       "      <td>967372.965783</td>\n",
       "      <td>3.288873</td>\n",
       "      <td>-0.000606</td>\n",
       "    </tr>\n",
       "    <tr>\n",
       "      <th>C:\\Users\\BLOODYPROF\\Documents\\oorja.energy\\Structure_demo\\modified_cleaned_UL-PUR_R10-NA11_18650_NCA_23C_2.5-96.5_0.5-0.5C_k_timeseries_structured.csv</th>\n",
       "      <td>-1.005718</td>\n",
       "      <td>0.455703</td>\n",
       "      <td>-1.157560</td>\n",
       "      <td>-0.374692</td>\n",
       "      <td>0.049721</td>\n",
       "      <td>-2.294693</td>\n",
       "      <td>2049.468018</td>\n",
       "      <td>2.522</td>\n",
       "      <td>681209.809066</td>\n",
       "      <td>2.975673</td>\n",
       "      <td>-0.005273</td>\n",
       "    </tr>\n",
       "    <tr>\n",
       "      <th>C:\\Users\\BLOODYPROF\\Documents\\oorja.energy\\Structure_demo\\modified_cleaned_UL-PUR_R15-OV3_18650_NCA_23C_2.5-96.5_0.5-0.5C_c_timeseries_structured.csv</th>\n",
       "      <td>-1.005718</td>\n",
       "      <td>0.455703</td>\n",
       "      <td>-0.996205</td>\n",
       "      <td>-0.608961</td>\n",
       "      <td>0.049721</td>\n",
       "      <td>-1.865601</td>\n",
       "      <td>2866.445801</td>\n",
       "      <td>2.696</td>\n",
       "      <td>830198.011221</td>\n",
       "      <td>2.227855</td>\n",
       "      <td>0.002679</td>\n",
       "    </tr>\n",
       "    <tr>\n",
       "      <th>C:\\Users\\BLOODYPROF\\Documents\\oorja.energy\\Structure_demo\\modified_cleaned_UL-PUR_R20-NA8_18650_NCA_23C_2.5-96.5_0.5-0.5C_h_timeseries_structured.csv</th>\n",
       "      <td>-1.005718</td>\n",
       "      <td>0.455703</td>\n",
       "      <td>-0.955646</td>\n",
       "      <td>-0.234843</td>\n",
       "      <td>0.049721</td>\n",
       "      <td>-1.992841</td>\n",
       "      <td>1997.085938</td>\n",
       "      <td>2.584</td>\n",
       "      <td>676412.463081</td>\n",
       "      <td>2.542782</td>\n",
       "      <td>-0.000648</td>\n",
       "    </tr>\n",
       "  </tbody>\n",
       "</table>\n",
       "</div>"
      ],
      "text/plain": [
       "                                                    abs_first_discharge_capacity_difference_cycles_2:100::DeltaQFastCharge  \\\n",
       "filename                                                                                                                     \n",
       "C:\\Users\\BLOODYPROF\\Documents\\oorja.energy\\Stru...                                          -0.745296                        \n",
       "C:\\Users\\BLOODYPROF\\Documents\\oorja.energy\\Stru...                                          -1.136697                        \n",
       "C:\\Users\\BLOODYPROF\\Documents\\oorja.energy\\Stru...                                          -1.005718                        \n",
       "C:\\Users\\BLOODYPROF\\Documents\\oorja.energy\\Stru...                                          -1.005718                        \n",
       "C:\\Users\\BLOODYPROF\\Documents\\oorja.energy\\Stru...                                          -1.005718                        \n",
       "C:\\Users\\BLOODYPROF\\Documents\\oorja.energy\\Stru...                                          -1.005718                        \n",
       "\n",
       "                                                    abs_kurtosis_discharge_capacity_difference_cycles_2:100::DeltaQFastCharge  \\\n",
       "filename                                                                                                                        \n",
       "C:\\Users\\BLOODYPROF\\Documents\\oorja.energy\\Stru...                                           0.434447                           \n",
       "C:\\Users\\BLOODYPROF\\Documents\\oorja.energy\\Stru...                                           1.018353                           \n",
       "C:\\Users\\BLOODYPROF\\Documents\\oorja.energy\\Stru...                                           0.455703                           \n",
       "C:\\Users\\BLOODYPROF\\Documents\\oorja.energy\\Stru...                                           0.455703                           \n",
       "C:\\Users\\BLOODYPROF\\Documents\\oorja.energy\\Stru...                                           0.455703                           \n",
       "C:\\Users\\BLOODYPROF\\Documents\\oorja.energy\\Stru...                                           0.455703                           \n",
       "\n",
       "                                                    abs_mean_discharge_capacity_difference_cycles_2:100::DeltaQFastCharge  \\\n",
       "filename                                                                                                                    \n",
       "C:\\Users\\BLOODYPROF\\Documents\\oorja.energy\\Stru...                                          -0.688222                       \n",
       "C:\\Users\\BLOODYPROF\\Documents\\oorja.energy\\Stru...                                          -0.569122                       \n",
       "C:\\Users\\BLOODYPROF\\Documents\\oorja.energy\\Stru...                                          -0.519957                       \n",
       "C:\\Users\\BLOODYPROF\\Documents\\oorja.energy\\Stru...                                          -1.157560                       \n",
       "C:\\Users\\BLOODYPROF\\Documents\\oorja.energy\\Stru...                                          -0.996205                       \n",
       "C:\\Users\\BLOODYPROF\\Documents\\oorja.energy\\Stru...                                          -0.955646                       \n",
       "\n",
       "                                                    abs_min_discharge_capacity_difference_cycles_2:100::DeltaQFastCharge  \\\n",
       "filename                                                                                                                   \n",
       "C:\\Users\\BLOODYPROF\\Documents\\oorja.energy\\Stru...                                          -0.089443                      \n",
       "C:\\Users\\BLOODYPROF\\Documents\\oorja.energy\\Stru...                                          -0.414269                      \n",
       "C:\\Users\\BLOODYPROF\\Documents\\oorja.energy\\Stru...                                          -0.312287                      \n",
       "C:\\Users\\BLOODYPROF\\Documents\\oorja.energy\\Stru...                                          -0.374692                      \n",
       "C:\\Users\\BLOODYPROF\\Documents\\oorja.energy\\Stru...                                          -0.608961                      \n",
       "C:\\Users\\BLOODYPROF\\Documents\\oorja.energy\\Stru...                                          -0.234843                      \n",
       "\n",
       "                                                    abs_skew_discharge_capacity_difference_cycles_2:100::DeltaQFastCharge  \\\n",
       "filename                                                                                                                    \n",
       "C:\\Users\\BLOODYPROF\\Documents\\oorja.energy\\Stru...                                          -0.461777                       \n",
       "C:\\Users\\BLOODYPROF\\Documents\\oorja.energy\\Stru...                                           0.489387                       \n",
       "C:\\Users\\BLOODYPROF\\Documents\\oorja.energy\\Stru...                                           0.049721                       \n",
       "C:\\Users\\BLOODYPROF\\Documents\\oorja.energy\\Stru...                                           0.049721                       \n",
       "C:\\Users\\BLOODYPROF\\Documents\\oorja.energy\\Stru...                                           0.049721                       \n",
       "C:\\Users\\BLOODYPROF\\Documents\\oorja.energy\\Stru...                                           0.049721                       \n",
       "\n",
       "                                                    abs_variance_discharge_capacity_difference_cycles_2:100::DeltaQFastCharge  \\\n",
       "filename                                                                                                                        \n",
       "C:\\Users\\BLOODYPROF\\Documents\\oorja.energy\\Stru...                                          -1.569644                           \n",
       "C:\\Users\\BLOODYPROF\\Documents\\oorja.energy\\Stru...                                          -2.238515                           \n",
       "C:\\Users\\BLOODYPROF\\Documents\\oorja.energy\\Stru...                                          -2.510629                           \n",
       "C:\\Users\\BLOODYPROF\\Documents\\oorja.energy\\Stru...                                          -2.294693                           \n",
       "C:\\Users\\BLOODYPROF\\Documents\\oorja.energy\\Stru...                                          -1.865601                           \n",
       "C:\\Users\\BLOODYPROF\\Documents\\oorja.energy\\Stru...                                          -1.992841                           \n",
       "\n",
       "                                                    charge_time_cycles_1:5::DeltaQFastCharge  \\\n",
       "filename                                                                                       \n",
       "C:\\Users\\BLOODYPROF\\Documents\\oorja.energy\\Stru...                               2001.250000   \n",
       "C:\\Users\\BLOODYPROF\\Documents\\oorja.energy\\Stru...                               2018.280029   \n",
       "C:\\Users\\BLOODYPROF\\Documents\\oorja.energy\\Stru...                               2067.512207   \n",
       "C:\\Users\\BLOODYPROF\\Documents\\oorja.energy\\Stru...                               2049.468018   \n",
       "C:\\Users\\BLOODYPROF\\Documents\\oorja.energy\\Stru...                               2866.445801   \n",
       "C:\\Users\\BLOODYPROF\\Documents\\oorja.energy\\Stru...                               1997.085938   \n",
       "\n",
       "                                                    discharge_capacity_cycle_2::DeltaQFastCharge  \\\n",
       "filename                                                                                           \n",
       "C:\\Users\\BLOODYPROF\\Documents\\oorja.energy\\Stru...                                         3.023   \n",
       "C:\\Users\\BLOODYPROF\\Documents\\oorja.energy\\Stru...                                         3.290   \n",
       "C:\\Users\\BLOODYPROF\\Documents\\oorja.energy\\Stru...                                         3.355   \n",
       "C:\\Users\\BLOODYPROF\\Documents\\oorja.energy\\Stru...                                         2.522   \n",
       "C:\\Users\\BLOODYPROF\\Documents\\oorja.energy\\Stru...                                         2.696   \n",
       "C:\\Users\\BLOODYPROF\\Documents\\oorja.energy\\Stru...                                         2.584   \n",
       "\n",
       "                                                    integrated_time_temperature_cycles_1:100::DeltaQFastCharge  \\\n",
       "filename                                                                                                         \n",
       "C:\\Users\\BLOODYPROF\\Documents\\oorja.energy\\Stru...                                      795950.297929            \n",
       "C:\\Users\\BLOODYPROF\\Documents\\oorja.energy\\Stru...                                      924990.095511            \n",
       "C:\\Users\\BLOODYPROF\\Documents\\oorja.energy\\Stru...                                      967372.965783            \n",
       "C:\\Users\\BLOODYPROF\\Documents\\oorja.energy\\Stru...                                      681209.809066            \n",
       "C:\\Users\\BLOODYPROF\\Documents\\oorja.energy\\Stru...                                      830198.011221            \n",
       "C:\\Users\\BLOODYPROF\\Documents\\oorja.energy\\Stru...                                      676412.463081            \n",
       "\n",
       "                                                    intercept_discharge_capacity_cycle_number_91:100::DeltaQFastCharge  \\\n",
       "filename                                                                                                                 \n",
       "C:\\Users\\BLOODYPROF\\Documents\\oorja.energy\\Stru...                                           2.945655                    \n",
       "C:\\Users\\BLOODYPROF\\Documents\\oorja.energy\\Stru...                                           3.314727                    \n",
       "C:\\Users\\BLOODYPROF\\Documents\\oorja.energy\\Stru...                                           3.288873                    \n",
       "C:\\Users\\BLOODYPROF\\Documents\\oorja.energy\\Stru...                                           2.975673                    \n",
       "C:\\Users\\BLOODYPROF\\Documents\\oorja.energy\\Stru...                                           2.227855                    \n",
       "C:\\Users\\BLOODYPROF\\Documents\\oorja.energy\\Stru...                                           2.542782                    \n",
       "\n",
       "                                                    slope_discharge_capacity_cycle_number_91:100::DeltaQFastCharge  \n",
       "filename                                                                                                            \n",
       "C:\\Users\\BLOODYPROF\\Documents\\oorja.energy\\Stru...                                          -0.001188               \n",
       "C:\\Users\\BLOODYPROF\\Documents\\oorja.energy\\Stru...                                          -0.001127               \n",
       "C:\\Users\\BLOODYPROF\\Documents\\oorja.energy\\Stru...                                          -0.000606               \n",
       "C:\\Users\\BLOODYPROF\\Documents\\oorja.energy\\Stru...                                          -0.005273               \n",
       "C:\\Users\\BLOODYPROF\\Documents\\oorja.energy\\Stru...                                           0.002679               \n",
       "C:\\Users\\BLOODYPROF\\Documents\\oorja.energy\\Stru...                                          -0.000648               "
      ]
     },
     "execution_count": 37,
     "metadata": {},
     "output_type": "execute_result"
    }
   ],
   "source": [
    "train.X"
   ]
  },
  {
   "cell_type": "code",
   "execution_count": 38,
   "id": "957591c6",
   "metadata": {},
   "outputs": [
    {
     "data": {
      "text/html": [
       "<div>\n",
       "<style scoped>\n",
       "    .dataframe tbody tr th:only-of-type {\n",
       "        vertical-align: middle;\n",
       "    }\n",
       "\n",
       "    .dataframe tbody tr th {\n",
       "        vertical-align: top;\n",
       "    }\n",
       "\n",
       "    .dataframe thead th {\n",
       "        text-align: right;\n",
       "    }\n",
       "</style>\n",
       "<table border=\"1\" class=\"dataframe\">\n",
       "  <thead>\n",
       "    <tr style=\"text-align: right;\">\n",
       "      <th></th>\n",
       "      <th>capacity_0.98::TrajectoryFastCharge</th>\n",
       "      <th>capacity_0.95::TrajectoryFastCharge</th>\n",
       "      <th>capacity_0.92::TrajectoryFastCharge</th>\n",
       "      <th>capacity_0.89::TrajectoryFastCharge</th>\n",
       "      <th>capacity_0.86::TrajectoryFastCharge</th>\n",
       "      <th>capacity_0.83::TrajectoryFastCharge</th>\n",
       "      <th>capacity_0.8::TrajectoryFastCharge</th>\n",
       "    </tr>\n",
       "    <tr>\n",
       "      <th>filename</th>\n",
       "      <th></th>\n",
       "      <th></th>\n",
       "      <th></th>\n",
       "      <th></th>\n",
       "      <th></th>\n",
       "      <th></th>\n",
       "      <th></th>\n",
       "    </tr>\n",
       "  </thead>\n",
       "  <tbody>\n",
       "    <tr>\n",
       "      <th>C:\\Users\\BLOODYPROF\\Documents\\oorja.energy\\Structure_demo\\modified_cleaned_UL-PUR_N10-NA7_18650_NCA_23C_0-100_0.5-0.5C_g_timeseries_structured.csv</th>\n",
       "      <td>20</td>\n",
       "      <td>20</td>\n",
       "      <td>20</td>\n",
       "      <td>175</td>\n",
       "      <td>175</td>\n",
       "      <td>175</td>\n",
       "      <td>175</td>\n",
       "    </tr>\n",
       "    <tr>\n",
       "      <th>C:\\Users\\BLOODYPROF\\Documents\\oorja.energy\\Structure_demo\\modified_cleaned_UL-PUR_N15-OV3_18650_NCA_23C_0-100_0.5-0.5C_c_timeseries_structured.csv</th>\n",
       "      <td>2</td>\n",
       "      <td>2</td>\n",
       "      <td>2</td>\n",
       "      <td>2</td>\n",
       "      <td>13</td>\n",
       "      <td>113</td>\n",
       "      <td>202</td>\n",
       "    </tr>\n",
       "    <tr>\n",
       "      <th>C:\\Users\\BLOODYPROF\\Documents\\oorja.energy\\Structure_demo\\modified_cleaned_UL-PUR_N20-EX2_18650_NCA_23C_0-100_0.5-0.5C_b_timeseries_structured.csv</th>\n",
       "      <td>68</td>\n",
       "      <td>135</td>\n",
       "      <td>209</td>\n",
       "      <td>272</td>\n",
       "      <td>320</td>\n",
       "      <td>320</td>\n",
       "      <td>320</td>\n",
       "    </tr>\n",
       "    <tr>\n",
       "      <th>C:\\Users\\BLOODYPROF\\Documents\\oorja.energy\\Structure_demo\\modified_cleaned_UL-PUR_R10-NA11_18650_NCA_23C_2.5-96.5_0.5-0.5C_k_timeseries_structured.csv</th>\n",
       "      <td>455</td>\n",
       "      <td>455</td>\n",
       "      <td>455</td>\n",
       "      <td>455</td>\n",
       "      <td>455</td>\n",
       "      <td>455</td>\n",
       "      <td>455</td>\n",
       "    </tr>\n",
       "    <tr>\n",
       "      <th>C:\\Users\\BLOODYPROF\\Documents\\oorja.energy\\Structure_demo\\modified_cleaned_UL-PUR_R15-OV3_18650_NCA_23C_2.5-96.5_0.5-0.5C_c_timeseries_structured.csv</th>\n",
       "      <td>7</td>\n",
       "      <td>7</td>\n",
       "      <td>7</td>\n",
       "      <td>7</td>\n",
       "      <td>68</td>\n",
       "      <td>68</td>\n",
       "      <td>652</td>\n",
       "    </tr>\n",
       "    <tr>\n",
       "      <th>C:\\Users\\BLOODYPROF\\Documents\\oorja.energy\\Structure_demo\\modified_cleaned_UL-PUR_R20-NA8_18650_NCA_23C_2.5-96.5_0.5-0.5C_h_timeseries_structured.csv</th>\n",
       "      <td>641</td>\n",
       "      <td>641</td>\n",
       "      <td>641</td>\n",
       "      <td>641</td>\n",
       "      <td>641</td>\n",
       "      <td>641</td>\n",
       "      <td>641</td>\n",
       "    </tr>\n",
       "  </tbody>\n",
       "</table>\n",
       "</div>"
      ],
      "text/plain": [
       "                                                    capacity_0.98::TrajectoryFastCharge  \\\n",
       "filename                                                                                  \n",
       "C:\\Users\\BLOODYPROF\\Documents\\oorja.energy\\Stru...                                   20   \n",
       "C:\\Users\\BLOODYPROF\\Documents\\oorja.energy\\Stru...                                    2   \n",
       "C:\\Users\\BLOODYPROF\\Documents\\oorja.energy\\Stru...                                   68   \n",
       "C:\\Users\\BLOODYPROF\\Documents\\oorja.energy\\Stru...                                  455   \n",
       "C:\\Users\\BLOODYPROF\\Documents\\oorja.energy\\Stru...                                    7   \n",
       "C:\\Users\\BLOODYPROF\\Documents\\oorja.energy\\Stru...                                  641   \n",
       "\n",
       "                                                    capacity_0.95::TrajectoryFastCharge  \\\n",
       "filename                                                                                  \n",
       "C:\\Users\\BLOODYPROF\\Documents\\oorja.energy\\Stru...                                   20   \n",
       "C:\\Users\\BLOODYPROF\\Documents\\oorja.energy\\Stru...                                    2   \n",
       "C:\\Users\\BLOODYPROF\\Documents\\oorja.energy\\Stru...                                  135   \n",
       "C:\\Users\\BLOODYPROF\\Documents\\oorja.energy\\Stru...                                  455   \n",
       "C:\\Users\\BLOODYPROF\\Documents\\oorja.energy\\Stru...                                    7   \n",
       "C:\\Users\\BLOODYPROF\\Documents\\oorja.energy\\Stru...                                  641   \n",
       "\n",
       "                                                    capacity_0.92::TrajectoryFastCharge  \\\n",
       "filename                                                                                  \n",
       "C:\\Users\\BLOODYPROF\\Documents\\oorja.energy\\Stru...                                   20   \n",
       "C:\\Users\\BLOODYPROF\\Documents\\oorja.energy\\Stru...                                    2   \n",
       "C:\\Users\\BLOODYPROF\\Documents\\oorja.energy\\Stru...                                  209   \n",
       "C:\\Users\\BLOODYPROF\\Documents\\oorja.energy\\Stru...                                  455   \n",
       "C:\\Users\\BLOODYPROF\\Documents\\oorja.energy\\Stru...                                    7   \n",
       "C:\\Users\\BLOODYPROF\\Documents\\oorja.energy\\Stru...                                  641   \n",
       "\n",
       "                                                    capacity_0.89::TrajectoryFastCharge  \\\n",
       "filename                                                                                  \n",
       "C:\\Users\\BLOODYPROF\\Documents\\oorja.energy\\Stru...                                  175   \n",
       "C:\\Users\\BLOODYPROF\\Documents\\oorja.energy\\Stru...                                    2   \n",
       "C:\\Users\\BLOODYPROF\\Documents\\oorja.energy\\Stru...                                  272   \n",
       "C:\\Users\\BLOODYPROF\\Documents\\oorja.energy\\Stru...                                  455   \n",
       "C:\\Users\\BLOODYPROF\\Documents\\oorja.energy\\Stru...                                    7   \n",
       "C:\\Users\\BLOODYPROF\\Documents\\oorja.energy\\Stru...                                  641   \n",
       "\n",
       "                                                    capacity_0.86::TrajectoryFastCharge  \\\n",
       "filename                                                                                  \n",
       "C:\\Users\\BLOODYPROF\\Documents\\oorja.energy\\Stru...                                  175   \n",
       "C:\\Users\\BLOODYPROF\\Documents\\oorja.energy\\Stru...                                   13   \n",
       "C:\\Users\\BLOODYPROF\\Documents\\oorja.energy\\Stru...                                  320   \n",
       "C:\\Users\\BLOODYPROF\\Documents\\oorja.energy\\Stru...                                  455   \n",
       "C:\\Users\\BLOODYPROF\\Documents\\oorja.energy\\Stru...                                   68   \n",
       "C:\\Users\\BLOODYPROF\\Documents\\oorja.energy\\Stru...                                  641   \n",
       "\n",
       "                                                    capacity_0.83::TrajectoryFastCharge  \\\n",
       "filename                                                                                  \n",
       "C:\\Users\\BLOODYPROF\\Documents\\oorja.energy\\Stru...                                  175   \n",
       "C:\\Users\\BLOODYPROF\\Documents\\oorja.energy\\Stru...                                  113   \n",
       "C:\\Users\\BLOODYPROF\\Documents\\oorja.energy\\Stru...                                  320   \n",
       "C:\\Users\\BLOODYPROF\\Documents\\oorja.energy\\Stru...                                  455   \n",
       "C:\\Users\\BLOODYPROF\\Documents\\oorja.energy\\Stru...                                   68   \n",
       "C:\\Users\\BLOODYPROF\\Documents\\oorja.energy\\Stru...                                  641   \n",
       "\n",
       "                                                    capacity_0.8::TrajectoryFastCharge  \n",
       "filename                                                                                \n",
       "C:\\Users\\BLOODYPROF\\Documents\\oorja.energy\\Stru...                                 175  \n",
       "C:\\Users\\BLOODYPROF\\Documents\\oorja.energy\\Stru...                                 202  \n",
       "C:\\Users\\BLOODYPROF\\Documents\\oorja.energy\\Stru...                                 320  \n",
       "C:\\Users\\BLOODYPROF\\Documents\\oorja.energy\\Stru...                                 455  \n",
       "C:\\Users\\BLOODYPROF\\Documents\\oorja.energy\\Stru...                                 652  \n",
       "C:\\Users\\BLOODYPROF\\Documents\\oorja.energy\\Stru...                                 641  "
      ]
     },
     "execution_count": 38,
     "metadata": {},
     "output_type": "execute_result"
    }
   ],
   "source": [
    "train.y"
   ]
  },
  {
   "cell_type": "code",
   "execution_count": 39,
   "id": "4374a2e4",
   "metadata": {},
   "outputs": [
    {
     "name": "stdout",
     "output_type": "stream",
     "text": [
      "2022-10-21 01:17:09 INFO     Training on 6 samples with 11 features predicting 6\n",
      "[[ 2.041 -0.527  0.535  1.56  -1.816  1.65  -0.527  0.336 -0.152  0.162\n",
      "  -0.069]\n",
      " [-1.303  2.235  1.041 -0.47   1.642 -0.518 -0.473  1.143  1.018  1.11\n",
      "  -0.043]\n",
      " [-0.184 -0.427  1.249  0.167  0.044 -1.401 -0.316  1.339  1.403  1.044\n",
      "   0.182]\n",
      " [-0.184 -0.427 -1.455 -0.223  0.044 -0.701 -0.373 -1.177 -1.192  0.239\n",
      "  -1.835]\n",
      " [-0.184 -0.427 -0.771 -1.686  0.044  0.691  2.229 -0.651  0.159 -1.683\n",
      "   1.602]\n",
      " [-0.184 -0.427 -0.599  0.651  0.044  0.278 -0.54  -0.99  -1.236 -0.873\n",
      "   0.164]]\n",
      "                                                    capacity_0.98::TrajectoryFastCharge  \\\n",
      "filename                                                                                  \n",
      "C:\\Users\\BLOODYPROF\\Documents\\oorja.energy\\Stru...                                   20   \n",
      "C:\\Users\\BLOODYPROF\\Documents\\oorja.energy\\Stru...                                    2   \n",
      "C:\\Users\\BLOODYPROF\\Documents\\oorja.energy\\Stru...                                   68   \n",
      "C:\\Users\\BLOODYPROF\\Documents\\oorja.energy\\Stru...                                  455   \n",
      "C:\\Users\\BLOODYPROF\\Documents\\oorja.energy\\Stru...                                    7   \n",
      "C:\\Users\\BLOODYPROF\\Documents\\oorja.energy\\Stru...                                  641   \n",
      "\n",
      "                                                    capacity_0.95::TrajectoryFastCharge  \\\n",
      "filename                                                                                  \n",
      "C:\\Users\\BLOODYPROF\\Documents\\oorja.energy\\Stru...                                   20   \n",
      "C:\\Users\\BLOODYPROF\\Documents\\oorja.energy\\Stru...                                    2   \n",
      "C:\\Users\\BLOODYPROF\\Documents\\oorja.energy\\Stru...                                  135   \n",
      "C:\\Users\\BLOODYPROF\\Documents\\oorja.energy\\Stru...                                  455   \n",
      "C:\\Users\\BLOODYPROF\\Documents\\oorja.energy\\Stru...                                    7   \n",
      "C:\\Users\\BLOODYPROF\\Documents\\oorja.energy\\Stru...                                  641   \n",
      "\n",
      "                                                    capacity_0.92::TrajectoryFastCharge  \\\n",
      "filename                                                                                  \n",
      "C:\\Users\\BLOODYPROF\\Documents\\oorja.energy\\Stru...                                   20   \n",
      "C:\\Users\\BLOODYPROF\\Documents\\oorja.energy\\Stru...                                    2   \n",
      "C:\\Users\\BLOODYPROF\\Documents\\oorja.energy\\Stru...                                  209   \n",
      "C:\\Users\\BLOODYPROF\\Documents\\oorja.energy\\Stru...                                  455   \n",
      "C:\\Users\\BLOODYPROF\\Documents\\oorja.energy\\Stru...                                    7   \n",
      "C:\\Users\\BLOODYPROF\\Documents\\oorja.energy\\Stru...                                  641   \n",
      "\n",
      "                                                    capacity_0.89::TrajectoryFastCharge  \\\n",
      "filename                                                                                  \n",
      "C:\\Users\\BLOODYPROF\\Documents\\oorja.energy\\Stru...                                  175   \n",
      "C:\\Users\\BLOODYPROF\\Documents\\oorja.energy\\Stru...                                    2   \n",
      "C:\\Users\\BLOODYPROF\\Documents\\oorja.energy\\Stru...                                  272   \n",
      "C:\\Users\\BLOODYPROF\\Documents\\oorja.energy\\Stru...                                  455   \n",
      "C:\\Users\\BLOODYPROF\\Documents\\oorja.energy\\Stru...                                    7   \n",
      "C:\\Users\\BLOODYPROF\\Documents\\oorja.energy\\Stru...                                  641   \n",
      "\n",
      "                                                    capacity_0.86::TrajectoryFastCharge  \\\n",
      "filename                                                                                  \n",
      "C:\\Users\\BLOODYPROF\\Documents\\oorja.energy\\Stru...                                  175   \n",
      "C:\\Users\\BLOODYPROF\\Documents\\oorja.energy\\Stru...                                   13   \n",
      "C:\\Users\\BLOODYPROF\\Documents\\oorja.energy\\Stru...                                  320   \n",
      "C:\\Users\\BLOODYPROF\\Documents\\oorja.energy\\Stru...                                  455   \n",
      "C:\\Users\\BLOODYPROF\\Documents\\oorja.energy\\Stru...                                   68   \n",
      "C:\\Users\\BLOODYPROF\\Documents\\oorja.energy\\Stru...                                  641   \n",
      "\n",
      "                                                    capacity_0.83::TrajectoryFastCharge  \\\n",
      "filename                                                                                  \n",
      "C:\\Users\\BLOODYPROF\\Documents\\oorja.energy\\Stru...                                  175   \n",
      "C:\\Users\\BLOODYPROF\\Documents\\oorja.energy\\Stru...                                  113   \n",
      "C:\\Users\\BLOODYPROF\\Documents\\oorja.energy\\Stru...                                  320   \n",
      "C:\\Users\\BLOODYPROF\\Documents\\oorja.energy\\Stru...                                  455   \n",
      "C:\\Users\\BLOODYPROF\\Documents\\oorja.energy\\Stru...                                   68   \n",
      "C:\\Users\\BLOODYPROF\\Documents\\oorja.energy\\Stru...                                  641   \n",
      "\n",
      "                                                    capacity_0.8::TrajectoryFastCharge  \n",
      "filename                                                                                \n",
      "C:\\Users\\BLOODYPROF\\Documents\\oorja.energy\\Stru...                                 175  \n",
      "C:\\Users\\BLOODYPROF\\Documents\\oorja.energy\\Stru...                                 202  \n",
      "C:\\Users\\BLOODYPROF\\Documents\\oorja.energy\\Stru...                                 320  \n",
      "C:\\Users\\BLOODYPROF\\Documents\\oorja.energy\\Stru...                                 455  \n",
      "C:\\Users\\BLOODYPROF\\Documents\\oorja.energy\\Stru...                                 652  \n",
      "C:\\Users\\BLOODYPROF\\Documents\\oorja.energy\\Stru...                                 641  \n"
     ]
    },
    {
     "name": "stderr",
     "output_type": "stream",
     "text": [
      "C:\\Users\\BLOODYPROF\\AppData\\Local\\Programs\\Python\\Python310\\lib\\site-packages\\sklearn\\linear_model\\_base.py:148: FutureWarning: 'normalize' was deprecated in version 1.0 and will be removed in 1.2. Please leave the normalize parameter to its default value to silence this warning. The default behavior of this estimator is to not do any normalization. If normalization is needed please use sklearn.preprocessing.StandardScaler instead.\n",
      "  warnings.warn(\n"
     ]
    }
   ],
   "source": [
    "model,error=train.train(train.X, train.y)"
   ]
  },
  {
   "cell_type": "code",
   "execution_count": 40,
   "id": "78bceced",
   "metadata": {},
   "outputs": [
    {
     "name": "stdout",
     "output_type": "stream",
     "text": [
      "2022-10-21 01:17:21 WARNING  10 extra features not in training set present in prediction set due to fitting with nan threshold (0.95) - these will be dropped: \n",
      "['discharge_capacity_cycle_100::DeltaQFastCharge',\n",
      " 'intercept_discharge_capacity_cycle_number_2:100::DeltaQFastCharge',\n",
      " 'internal_resistance_cycle_2::DeltaQFastCharge',\n",
      " 'internal_resistance_difference_cycles_2:100::DeltaQFastCharge',\n",
      " 'max_discharge_capacity_difference::DeltaQFastCharge',\n",
      " 'max_temperature_cycles_1:100::DeltaQFastCharge',\n",
      " 'min_internal_resistance_cycles_2:100::DeltaQFastCharge',\n",
      " 'min_temperature_cycles_1:100::DeltaQFastCharge',\n",
      " 'nominal_capacity_by_median::DeltaQFastCharge',\n",
      " 'slope_discharge_capacity_cycle_number_2:100::DeltaQFastCharge']\n",
      "['abs_first_discharge_capacity_difference_cycles_2:100::DeltaQFastCharge'\n",
      " 'abs_kurtosis_discharge_capacity_difference_cycles_2:100::DeltaQFastCharge'\n",
      " 'abs_mean_discharge_capacity_difference_cycles_2:100::DeltaQFastCharge'\n",
      " 'abs_min_discharge_capacity_difference_cycles_2:100::DeltaQFastCharge'\n",
      " 'abs_skew_discharge_capacity_difference_cycles_2:100::DeltaQFastCharge'\n",
      " 'abs_variance_discharge_capacity_difference_cycles_2:100::DeltaQFastCharge'\n",
      " 'charge_time_cycles_1:5::DeltaQFastCharge'\n",
      " 'discharge_capacity_cycle_2::DeltaQFastCharge'\n",
      " 'integrated_time_temperature_cycles_1:100::DeltaQFastCharge'\n",
      " 'intercept_discharge_capacity_cycle_number_91:100::DeltaQFastCharge'\n",
      " 'slope_discharge_capacity_cycle_number_91:100::DeltaQFastCharge']\n",
      "before dropped\n",
      "2022-10-21 01:17:21 WARNING  6 samples dropped due to nan sample threshold of 0.75. List of those dropped indices is returned by .predict().\n"
     ]
    }
   ],
   "source": [
    "y_predict, _ = train.predict(feature_matrix=f_m)"
   ]
  },
  {
   "cell_type": "code",
   "execution_count": 41,
   "id": "4d95dd89",
   "metadata": {},
   "outputs": [
    {
     "data": {
      "text/html": [
       "<div>\n",
       "<style scoped>\n",
       "    .dataframe tbody tr th:only-of-type {\n",
       "        vertical-align: middle;\n",
       "    }\n",
       "\n",
       "    .dataframe tbody tr th {\n",
       "        vertical-align: top;\n",
       "    }\n",
       "\n",
       "    .dataframe thead th {\n",
       "        text-align: right;\n",
       "    }\n",
       "</style>\n",
       "<table border=\"1\" class=\"dataframe\">\n",
       "  <thead>\n",
       "    <tr style=\"text-align: right;\">\n",
       "      <th></th>\n",
       "      <th>capacity_0.98::TrajectoryFastCharge</th>\n",
       "      <th>capacity_0.95::TrajectoryFastCharge</th>\n",
       "      <th>capacity_0.92::TrajectoryFastCharge</th>\n",
       "      <th>capacity_0.89::TrajectoryFastCharge</th>\n",
       "      <th>capacity_0.86::TrajectoryFastCharge</th>\n",
       "      <th>capacity_0.83::TrajectoryFastCharge</th>\n",
       "      <th>capacity_0.8::TrajectoryFastCharge</th>\n",
       "    </tr>\n",
       "    <tr>\n",
       "      <th>filename</th>\n",
       "      <th></th>\n",
       "      <th></th>\n",
       "      <th></th>\n",
       "      <th></th>\n",
       "      <th></th>\n",
       "      <th></th>\n",
       "      <th></th>\n",
       "    </tr>\n",
       "  </thead>\n",
       "  <tbody>\n",
       "    <tr>\n",
       "      <th>C:\\Users\\BLOODYPROF\\Documents\\oorja.energy\\Structure_demo\\modified_cleaned_UL-PUR_N10-NA7_18650_NCA_23C_0-100_0.5-0.5C_g_timeseries_structured.csv</th>\n",
       "      <td>173.959134</td>\n",
       "      <td>183.855382</td>\n",
       "      <td>194.785566</td>\n",
       "      <td>278.378653</td>\n",
       "      <td>290.454286</td>\n",
       "      <td>293.355865</td>\n",
       "      <td>340.615329</td>\n",
       "    </tr>\n",
       "    <tr>\n",
       "      <th>C:\\Users\\BLOODYPROF\\Documents\\oorja.energy\\Structure_demo\\modified_cleaned_UL-PUR_N15-OV3_18650_NCA_23C_0-100_0.5-0.5C_c_timeseries_structured.csv</th>\n",
       "      <td>111.960600</td>\n",
       "      <td>128.302617</td>\n",
       "      <td>146.352009</td>\n",
       "      <td>166.215782</td>\n",
       "      <td>188.033709</td>\n",
       "      <td>235.494769</td>\n",
       "      <td>324.546026</td>\n",
       "    </tr>\n",
       "    <tr>\n",
       "      <th>C:\\Users\\BLOODYPROF\\Documents\\oorja.energy\\Structure_demo\\modified_cleaned_UL-PUR_N20-EX2_18650_NCA_23C_0-100_0.5-0.5C_b_timeseries_structured.csv</th>\n",
       "      <td>113.042534</td>\n",
       "      <td>138.326800</td>\n",
       "      <td>166.252706</td>\n",
       "      <td>212.921704</td>\n",
       "      <td>238.333429</td>\n",
       "      <td>262.724554</td>\n",
       "      <td>328.611780</td>\n",
       "    </tr>\n",
       "  </tbody>\n",
       "</table>\n",
       "</div>"
      ],
      "text/plain": [
       "                                                    capacity_0.98::TrajectoryFastCharge  \\\n",
       "filename                                                                                  \n",
       "C:\\Users\\BLOODYPROF\\Documents\\oorja.energy\\Stru...                           173.959134   \n",
       "C:\\Users\\BLOODYPROF\\Documents\\oorja.energy\\Stru...                           111.960600   \n",
       "C:\\Users\\BLOODYPROF\\Documents\\oorja.energy\\Stru...                           113.042534   \n",
       "\n",
       "                                                    capacity_0.95::TrajectoryFastCharge  \\\n",
       "filename                                                                                  \n",
       "C:\\Users\\BLOODYPROF\\Documents\\oorja.energy\\Stru...                           183.855382   \n",
       "C:\\Users\\BLOODYPROF\\Documents\\oorja.energy\\Stru...                           128.302617   \n",
       "C:\\Users\\BLOODYPROF\\Documents\\oorja.energy\\Stru...                           138.326800   \n",
       "\n",
       "                                                    capacity_0.92::TrajectoryFastCharge  \\\n",
       "filename                                                                                  \n",
       "C:\\Users\\BLOODYPROF\\Documents\\oorja.energy\\Stru...                           194.785566   \n",
       "C:\\Users\\BLOODYPROF\\Documents\\oorja.energy\\Stru...                           146.352009   \n",
       "C:\\Users\\BLOODYPROF\\Documents\\oorja.energy\\Stru...                           166.252706   \n",
       "\n",
       "                                                    capacity_0.89::TrajectoryFastCharge  \\\n",
       "filename                                                                                  \n",
       "C:\\Users\\BLOODYPROF\\Documents\\oorja.energy\\Stru...                           278.378653   \n",
       "C:\\Users\\BLOODYPROF\\Documents\\oorja.energy\\Stru...                           166.215782   \n",
       "C:\\Users\\BLOODYPROF\\Documents\\oorja.energy\\Stru...                           212.921704   \n",
       "\n",
       "                                                    capacity_0.86::TrajectoryFastCharge  \\\n",
       "filename                                                                                  \n",
       "C:\\Users\\BLOODYPROF\\Documents\\oorja.energy\\Stru...                           290.454286   \n",
       "C:\\Users\\BLOODYPROF\\Documents\\oorja.energy\\Stru...                           188.033709   \n",
       "C:\\Users\\BLOODYPROF\\Documents\\oorja.energy\\Stru...                           238.333429   \n",
       "\n",
       "                                                    capacity_0.83::TrajectoryFastCharge  \\\n",
       "filename                                                                                  \n",
       "C:\\Users\\BLOODYPROF\\Documents\\oorja.energy\\Stru...                           293.355865   \n",
       "C:\\Users\\BLOODYPROF\\Documents\\oorja.energy\\Stru...                           235.494769   \n",
       "C:\\Users\\BLOODYPROF\\Documents\\oorja.energy\\Stru...                           262.724554   \n",
       "\n",
       "                                                    capacity_0.8::TrajectoryFastCharge  \n",
       "filename                                                                                \n",
       "C:\\Users\\BLOODYPROF\\Documents\\oorja.energy\\Stru...                          340.615329  \n",
       "C:\\Users\\BLOODYPROF\\Documents\\oorja.energy\\Stru...                          324.546026  \n",
       "C:\\Users\\BLOODYPROF\\Documents\\oorja.energy\\Stru...                          328.611780  "
      ]
     },
     "execution_count": 41,
     "metadata": {},
     "output_type": "execute_result"
    }
   ],
   "source": [
    "y_predict"
   ]
  },
  {
   "cell_type": "code",
   "execution_count": 43,
   "id": "442dbd01",
   "metadata": {
    "scrolled": true
   },
   "outputs": [
    {
     "data": {
      "text/html": [
       "<div>\n",
       "<style scoped>\n",
       "    .dataframe tbody tr th:only-of-type {\n",
       "        vertical-align: middle;\n",
       "    }\n",
       "\n",
       "    .dataframe tbody tr th {\n",
       "        vertical-align: top;\n",
       "    }\n",
       "\n",
       "    .dataframe thead th {\n",
       "        text-align: right;\n",
       "    }\n",
       "</style>\n",
       "<table border=\"1\" class=\"dataframe\">\n",
       "  <thead>\n",
       "    <tr style=\"text-align: right;\">\n",
       "      <th></th>\n",
       "      <th>capacity_0.98::TrajectoryFastCharge</th>\n",
       "      <th>capacity_0.95::TrajectoryFastCharge</th>\n",
       "      <th>capacity_0.92::TrajectoryFastCharge</th>\n",
       "      <th>capacity_0.89::TrajectoryFastCharge</th>\n",
       "      <th>capacity_0.86::TrajectoryFastCharge</th>\n",
       "      <th>capacity_0.83::TrajectoryFastCharge</th>\n",
       "      <th>capacity_0.8::TrajectoryFastCharge</th>\n",
       "    </tr>\n",
       "    <tr>\n",
       "      <th>filename</th>\n",
       "      <th></th>\n",
       "      <th></th>\n",
       "      <th></th>\n",
       "      <th></th>\n",
       "      <th></th>\n",
       "      <th></th>\n",
       "      <th></th>\n",
       "    </tr>\n",
       "  </thead>\n",
       "  <tbody>\n",
       "    <tr>\n",
       "      <th>C:\\Users\\BLOODYPROF\\Documents\\oorja.energy\\Structure_demo\\modified_cleaned_UL-PUR_N10-NA7_18650_NCA_23C_0-100_0.5-0.5C_g_timeseries_structured.csv</th>\n",
       "      <td>20</td>\n",
       "      <td>20</td>\n",
       "      <td>20</td>\n",
       "      <td>175</td>\n",
       "      <td>175</td>\n",
       "      <td>175</td>\n",
       "      <td>175</td>\n",
       "    </tr>\n",
       "    <tr>\n",
       "      <th>C:\\Users\\BLOODYPROF\\Documents\\oorja.energy\\Structure_demo\\modified_cleaned_UL-PUR_N15-OV3_18650_NCA_23C_0-100_0.5-0.5C_c_timeseries_structured.csv</th>\n",
       "      <td>2</td>\n",
       "      <td>2</td>\n",
       "      <td>2</td>\n",
       "      <td>2</td>\n",
       "      <td>13</td>\n",
       "      <td>113</td>\n",
       "      <td>202</td>\n",
       "    </tr>\n",
       "    <tr>\n",
       "      <th>C:\\Users\\BLOODYPROF\\Documents\\oorja.energy\\Structure_demo\\modified_cleaned_UL-PUR_N20-EX2_18650_NCA_23C_0-100_0.5-0.5C_b_timeseries_structured.csv</th>\n",
       "      <td>68</td>\n",
       "      <td>135</td>\n",
       "      <td>209</td>\n",
       "      <td>272</td>\n",
       "      <td>320</td>\n",
       "      <td>320</td>\n",
       "      <td>320</td>\n",
       "    </tr>\n",
       "    <tr>\n",
       "      <th>C:\\Users\\BLOODYPROF\\Documents\\oorja.energy\\Structure_demo\\modified_cleaned_UL-PUR_R10-NA11_18650_NCA_23C_2.5-96.5_0.5-0.5C_k_timeseries_structured.csv</th>\n",
       "      <td>455</td>\n",
       "      <td>455</td>\n",
       "      <td>455</td>\n",
       "      <td>455</td>\n",
       "      <td>455</td>\n",
       "      <td>455</td>\n",
       "      <td>455</td>\n",
       "    </tr>\n",
       "    <tr>\n",
       "      <th>C:\\Users\\BLOODYPROF\\Documents\\oorja.energy\\Structure_demo\\modified_cleaned_UL-PUR_R15-OV3_18650_NCA_23C_2.5-96.5_0.5-0.5C_c_timeseries_structured.csv</th>\n",
       "      <td>7</td>\n",
       "      <td>7</td>\n",
       "      <td>7</td>\n",
       "      <td>7</td>\n",
       "      <td>68</td>\n",
       "      <td>68</td>\n",
       "      <td>652</td>\n",
       "    </tr>\n",
       "    <tr>\n",
       "      <th>C:\\Users\\BLOODYPROF\\Documents\\oorja.energy\\Structure_demo\\modified_cleaned_UL-PUR_R20-NA8_18650_NCA_23C_2.5-96.5_0.5-0.5C_h_timeseries_structured.csv</th>\n",
       "      <td>641</td>\n",
       "      <td>641</td>\n",
       "      <td>641</td>\n",
       "      <td>641</td>\n",
       "      <td>641</td>\n",
       "      <td>641</td>\n",
       "      <td>641</td>\n",
       "    </tr>\n",
       "  </tbody>\n",
       "</table>\n",
       "</div>"
      ],
      "text/plain": [
       "                                                    capacity_0.98::TrajectoryFastCharge  \\\n",
       "filename                                                                                  \n",
       "C:\\Users\\BLOODYPROF\\Documents\\oorja.energy\\Stru...                                   20   \n",
       "C:\\Users\\BLOODYPROF\\Documents\\oorja.energy\\Stru...                                    2   \n",
       "C:\\Users\\BLOODYPROF\\Documents\\oorja.energy\\Stru...                                   68   \n",
       "C:\\Users\\BLOODYPROF\\Documents\\oorja.energy\\Stru...                                  455   \n",
       "C:\\Users\\BLOODYPROF\\Documents\\oorja.energy\\Stru...                                    7   \n",
       "C:\\Users\\BLOODYPROF\\Documents\\oorja.energy\\Stru...                                  641   \n",
       "\n",
       "                                                    capacity_0.95::TrajectoryFastCharge  \\\n",
       "filename                                                                                  \n",
       "C:\\Users\\BLOODYPROF\\Documents\\oorja.energy\\Stru...                                   20   \n",
       "C:\\Users\\BLOODYPROF\\Documents\\oorja.energy\\Stru...                                    2   \n",
       "C:\\Users\\BLOODYPROF\\Documents\\oorja.energy\\Stru...                                  135   \n",
       "C:\\Users\\BLOODYPROF\\Documents\\oorja.energy\\Stru...                                  455   \n",
       "C:\\Users\\BLOODYPROF\\Documents\\oorja.energy\\Stru...                                    7   \n",
       "C:\\Users\\BLOODYPROF\\Documents\\oorja.energy\\Stru...                                  641   \n",
       "\n",
       "                                                    capacity_0.92::TrajectoryFastCharge  \\\n",
       "filename                                                                                  \n",
       "C:\\Users\\BLOODYPROF\\Documents\\oorja.energy\\Stru...                                   20   \n",
       "C:\\Users\\BLOODYPROF\\Documents\\oorja.energy\\Stru...                                    2   \n",
       "C:\\Users\\BLOODYPROF\\Documents\\oorja.energy\\Stru...                                  209   \n",
       "C:\\Users\\BLOODYPROF\\Documents\\oorja.energy\\Stru...                                  455   \n",
       "C:\\Users\\BLOODYPROF\\Documents\\oorja.energy\\Stru...                                    7   \n",
       "C:\\Users\\BLOODYPROF\\Documents\\oorja.energy\\Stru...                                  641   \n",
       "\n",
       "                                                    capacity_0.89::TrajectoryFastCharge  \\\n",
       "filename                                                                                  \n",
       "C:\\Users\\BLOODYPROF\\Documents\\oorja.energy\\Stru...                                  175   \n",
       "C:\\Users\\BLOODYPROF\\Documents\\oorja.energy\\Stru...                                    2   \n",
       "C:\\Users\\BLOODYPROF\\Documents\\oorja.energy\\Stru...                                  272   \n",
       "C:\\Users\\BLOODYPROF\\Documents\\oorja.energy\\Stru...                                  455   \n",
       "C:\\Users\\BLOODYPROF\\Documents\\oorja.energy\\Stru...                                    7   \n",
       "C:\\Users\\BLOODYPROF\\Documents\\oorja.energy\\Stru...                                  641   \n",
       "\n",
       "                                                    capacity_0.86::TrajectoryFastCharge  \\\n",
       "filename                                                                                  \n",
       "C:\\Users\\BLOODYPROF\\Documents\\oorja.energy\\Stru...                                  175   \n",
       "C:\\Users\\BLOODYPROF\\Documents\\oorja.energy\\Stru...                                   13   \n",
       "C:\\Users\\BLOODYPROF\\Documents\\oorja.energy\\Stru...                                  320   \n",
       "C:\\Users\\BLOODYPROF\\Documents\\oorja.energy\\Stru...                                  455   \n",
       "C:\\Users\\BLOODYPROF\\Documents\\oorja.energy\\Stru...                                   68   \n",
       "C:\\Users\\BLOODYPROF\\Documents\\oorja.energy\\Stru...                                  641   \n",
       "\n",
       "                                                    capacity_0.83::TrajectoryFastCharge  \\\n",
       "filename                                                                                  \n",
       "C:\\Users\\BLOODYPROF\\Documents\\oorja.energy\\Stru...                                  175   \n",
       "C:\\Users\\BLOODYPROF\\Documents\\oorja.energy\\Stru...                                  113   \n",
       "C:\\Users\\BLOODYPROF\\Documents\\oorja.energy\\Stru...                                  320   \n",
       "C:\\Users\\BLOODYPROF\\Documents\\oorja.energy\\Stru...                                  455   \n",
       "C:\\Users\\BLOODYPROF\\Documents\\oorja.energy\\Stru...                                   68   \n",
       "C:\\Users\\BLOODYPROF\\Documents\\oorja.energy\\Stru...                                  641   \n",
       "\n",
       "                                                    capacity_0.8::TrajectoryFastCharge  \n",
       "filename                                                                                \n",
       "C:\\Users\\BLOODYPROF\\Documents\\oorja.energy\\Stru...                                 175  \n",
       "C:\\Users\\BLOODYPROF\\Documents\\oorja.energy\\Stru...                                 202  \n",
       "C:\\Users\\BLOODYPROF\\Documents\\oorja.energy\\Stru...                                 320  \n",
       "C:\\Users\\BLOODYPROF\\Documents\\oorja.energy\\Stru...                                 455  \n",
       "C:\\Users\\BLOODYPROF\\Documents\\oorja.energy\\Stru...                                 652  \n",
       "C:\\Users\\BLOODYPROF\\Documents\\oorja.energy\\Stru...                                 641  "
      ]
     },
     "execution_count": 43,
     "metadata": {},
     "output_type": "execute_result"
    }
   ],
   "source": [
    "train.y"
   ]
  },
  {
   "cell_type": "markdown",
   "id": "a84fcbaa",
   "metadata": {},
   "source": [
    "## Plotting Data"
   ]
  },
  {
   "cell_type": "code",
   "execution_count": 50,
   "id": "ff4fb3f8",
   "metadata": {},
   "outputs": [
    {
     "data": {
      "text/html": [
       "<div>\n",
       "<style scoped>\n",
       "    .dataframe tbody tr th:only-of-type {\n",
       "        vertical-align: middle;\n",
       "    }\n",
       "\n",
       "    .dataframe tbody tr th {\n",
       "        vertical-align: top;\n",
       "    }\n",
       "\n",
       "    .dataframe thead th {\n",
       "        text-align: right;\n",
       "    }\n",
       "</style>\n",
       "<table border=\"1\" class=\"dataframe\">\n",
       "  <thead>\n",
       "    <tr style=\"text-align: right;\">\n",
       "      <th></th>\n",
       "      <th>name</th>\n",
       "      <th>age</th>\n",
       "      <th>math_marks</th>\n",
       "      <th>physics_marks</th>\n",
       "      <th>chem_marks</th>\n",
       "    </tr>\n",
       "  </thead>\n",
       "  <tbody>\n",
       "    <tr>\n",
       "      <th>0</th>\n",
       "      <td>p1</td>\n",
       "      <td>20</td>\n",
       "      <td>20</td>\n",
       "      <td>20</td>\n",
       "      <td>175</td>\n",
       "    </tr>\n",
       "    <tr>\n",
       "      <th>1</th>\n",
       "      <td>p2</td>\n",
       "      <td>2</td>\n",
       "      <td>2</td>\n",
       "      <td>2</td>\n",
       "      <td>2</td>\n",
       "    </tr>\n",
       "    <tr>\n",
       "      <th>2</th>\n",
       "      <td>p3</td>\n",
       "      <td>68</td>\n",
       "      <td>135</td>\n",
       "      <td>209</td>\n",
       "      <td>272</td>\n",
       "    </tr>\n",
       "    <tr>\n",
       "      <th>3</th>\n",
       "      <td>p4</td>\n",
       "      <td>455</td>\n",
       "      <td>455</td>\n",
       "      <td>455</td>\n",
       "      <td>455</td>\n",
       "    </tr>\n",
       "    <tr>\n",
       "      <th>4</th>\n",
       "      <td>p5</td>\n",
       "      <td>7</td>\n",
       "      <td>7</td>\n",
       "      <td>7</td>\n",
       "      <td>7</td>\n",
       "    </tr>\n",
       "  </tbody>\n",
       "</table>\n",
       "</div>"
      ],
      "text/plain": [
       "  name  age  math_marks  physics_marks  chem_marks\n",
       "0   p1   20          20             20         175\n",
       "1   p2    2           2              2           2\n",
       "2   p3   68         135            209         272\n",
       "3   p4  455         455            455         455\n",
       "4   p5    7           7              7           7"
      ]
     },
     "execution_count": 50,
     "metadata": {},
     "output_type": "execute_result"
    }
   ],
   "source": [
    "import pandas as pd\n",
    "import matplotlib.pyplot as plt\n",
    "  \n",
    "# A dictionary which represents data\n",
    "data_dict1 = { 'name':['p1','p2','p3','p4','p5','p6'],\n",
    "              'age':[20,2,68,455,7,641],\n",
    "              'math_marks':[20,2,135,455,7,641],\n",
    "              'physics_marks':[20,2,209,455,7,641],\n",
    "              'chem_marks' :[175,2,272,455,7, 641]\n",
    "              }\n",
    "  \n",
    "# creating a data frame object\n",
    "df1 = pd.DataFrame(data_dict)\n",
    "  \n",
    "# first five rows from top\n",
    "df1.head()"
   ]
  },
  {
   "cell_type": "code",
   "execution_count": 51,
   "id": "aa138d14",
   "metadata": {},
   "outputs": [
    {
     "data": {
      "text/html": [
       "<div>\n",
       "<style scoped>\n",
       "    .dataframe tbody tr th:only-of-type {\n",
       "        vertical-align: middle;\n",
       "    }\n",
       "\n",
       "    .dataframe tbody tr th {\n",
       "        vertical-align: top;\n",
       "    }\n",
       "\n",
       "    .dataframe thead th {\n",
       "        text-align: right;\n",
       "    }\n",
       "</style>\n",
       "<table border=\"1\" class=\"dataframe\">\n",
       "  <thead>\n",
       "    <tr style=\"text-align: right;\">\n",
       "      <th></th>\n",
       "      <th>name</th>\n",
       "      <th>age</th>\n",
       "      <th>math_marks</th>\n",
       "      <th>physics_marks</th>\n",
       "      <th>chem_marks</th>\n",
       "    </tr>\n",
       "  </thead>\n",
       "  <tbody>\n",
       "    <tr>\n",
       "      <th>0</th>\n",
       "      <td>p1</td>\n",
       "      <td>20</td>\n",
       "      <td>22</td>\n",
       "      <td>23</td>\n",
       "      <td>170</td>\n",
       "    </tr>\n",
       "    <tr>\n",
       "      <th>1</th>\n",
       "      <td>p2</td>\n",
       "      <td>2</td>\n",
       "      <td>3</td>\n",
       "      <td>4</td>\n",
       "      <td>5</td>\n",
       "    </tr>\n",
       "    <tr>\n",
       "      <th>2</th>\n",
       "      <td>p3</td>\n",
       "      <td>68</td>\n",
       "      <td>138</td>\n",
       "      <td>215</td>\n",
       "      <td>279</td>\n",
       "    </tr>\n",
       "    <tr>\n",
       "      <th>3</th>\n",
       "      <td>p4</td>\n",
       "      <td>455</td>\n",
       "      <td>456</td>\n",
       "      <td>457</td>\n",
       "      <td>458</td>\n",
       "    </tr>\n",
       "    <tr>\n",
       "      <th>4</th>\n",
       "      <td>p5</td>\n",
       "      <td>7</td>\n",
       "      <td>8</td>\n",
       "      <td>9</td>\n",
       "      <td>9</td>\n",
       "    </tr>\n",
       "    <tr>\n",
       "      <th>5</th>\n",
       "      <td>p6</td>\n",
       "      <td>641</td>\n",
       "      <td>648</td>\n",
       "      <td>650</td>\n",
       "      <td>651</td>\n",
       "    </tr>\n",
       "  </tbody>\n",
       "</table>\n",
       "</div>"
      ],
      "text/plain": [
       "  name  age  math_marks  physics_marks  chem_marks\n",
       "0   p1   20          22             23         170\n",
       "1   p2    2           3              4           5\n",
       "2   p3   68         138            215         279\n",
       "3   p4  455         456            457         458\n",
       "4   p5    7           8              9           9\n",
       "5   p6  641         648            650         651"
      ]
     },
     "execution_count": 51,
     "metadata": {},
     "output_type": "execute_result"
    }
   ],
   "source": [
    "# A dictionary which represents data\n",
    "data_dict2 = { 'name':['p1','p2','p3','p4','p5','p6'],\n",
    "              'age':[20,2,68,455,7,641],\n",
    "              'math_marks':[22,3,138,456,8,648],\n",
    "              'physics_marks':[23,4,215,457,9,650],\n",
    "              'chem_marks' :[170,5,279,458,9, 651]\n",
    "              }\n",
    "  \n",
    "# creating a data frame object\n",
    "df2 = pd.DataFrame(data_dict2)\n",
    "  \n",
    "# first 6 rows from top\n",
    "df2.head(6)"
   ]
  },
  {
   "cell_type": "code",
   "execution_count": 60,
   "id": "c810dec0",
   "metadata": {},
   "outputs": [
    {
     "data": {
      "image/png": "[encoded data removed]",
      "text/plain": [
       "<Figure size 432x288 with 1 Axes>"
      ]
     },
     "metadata": {
      "needs_background": "light"
     },
     "output_type": "display_data"
    },
    {
     "data": {
      "image/png": "[encoded data removed]",
      "text/plain": [
       "<Figure size 432x288 with 1 Axes>"
      ]
     },
     "metadata": {
      "needs_background": "light"
     },
     "output_type": "display_data"
    },
    {
     "data": {
      "image/png": "[encoded data removed]",
      "text/plain": [
       "<Figure size 432x288 with 1 Axes>"
      ]
     },
     "metadata": {
      "needs_background": "light"
     },
     "output_type": "display_data"
    },
    {
     "data": {
      "image/png": "[encoded data removed]",
      "text/plain": [
       "<Figure size 432x288 with 1 Axes>"
      ]
     },
     "metadata": {
      "needs_background": "light"
     },
     "output_type": "display_data"
    },
    {
     "data": {
      "image/png": "[encoded data removed]",
      "text/plain": [
       "<Figure size 432x288 with 1 Axes>"
      ]
     },
     "metadata": {
      "needs_background": "light"
     },
     "output_type": "display_data"
    },
    {
     "data": {
      "image/png": "[encoded data removed]",
      "text/plain": [
       "<Figure size 432x288 with 1 Axes>"
      ]
     },
     "metadata": {
      "needs_background": "light"
     },
     "output_type": "display_data"
    }
   ],
   "source": [
    "y=[1,2,3,4]\n",
    "\n",
    "for i in range(df.shape[0]):\n",
    "    \n",
    "    x1=list(df1.iloc[i,1:])\n",
    "    x2=list(df2.iloc[i,1:])\n",
    "    plt.plot(x1,y)\n",
    "    plt.plot(x2,y)\n",
    "\n",
    "#     print(df1.iloc[i,0],df2.iloc[i,0])\n",
    "    plt.xlabel('Cycle') \n",
    "    plt.ylabel('Discharge_Capacity') \n",
    "    plt.title(df1.iloc[i,0] + '\\n Cycle vs Discharge_Capacity')\n",
    "#     plt.legend(df1.iloc[i,0])\n",
    "    plt.show()"
   ]
  },
  {
   "cell_type": "code",
   "execution_count": null,
   "id": "85c978fa",
   "metadata": {},
   "outputs": [],
   "source": []
  }
 ],
 "metadata": {
  "kernelspec": {
   "display_name": "Python 3 (ipykernel)",
   "language": "python",
   "name": "python3"
  },
  "language_info": {
   "codemirror_mode": {
    "name": "ipython",
    "version": 3
   },
   "file_extension": ".py",
   "mimetype": "text/x-python",
   "name": "python",
   "nbconvert_exporter": "python",
   "pygments_lexer": "ipython3",
   "version": "3.10.4"
  },
  "vscode": {
   "interpreter": {
    "hash": "f0041f93a488064df38cabb1e81bbfe5c24ed1cefee7216126153c8918b86701"
   }
  }
 },
 "nbformat": 4,
 "nbformat_minor": 5
}
