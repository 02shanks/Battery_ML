{
 "cells": [
  {
   "cell_type": "code",
   "execution_count": 88,
   "id": "0951421a",
   "metadata": {},
   "outputs": [
    {
     "name": "stdout",
     "output_type": "stream",
     "text": [
      "   Time (s)  Power (W)\n",
      "0         0        0.0\n",
      "1         1        0.0\n",
      "2         2        0.0\n",
      "3         3        0.0\n",
      "4         4        0.0\n",
      "power vs time\n"
     ]
    }
   ],
   "source": [
    "import pandas as pd\n",
    "\n",
    "df = pd.read_csv(\"DC2.csv\")\n",
    "print(df.head())\n",
    "\n",
    "if np.where(df.columns.str.lower().str.contains('velocity')==True)[0].size != 0 and np.where(df.columns.str.lower().str.contains('time')==True)[0].size != 0: \n",
    "    print(\"velocity vs time\")\n",
    "if np.where(df.columns.str.lower().str.contains('power')==True)[0].size != 0 and np.where(df.columns.str.lower().str.contains('time')==True)[0].size != 0:\n",
    "    print(\"power vs time\")\n",
    "if np.where(df.columns.str.lower().str.contains('current')==True)[0].size != 0 and np.where(df.columns.str.lower().str.contains('time')==True)[0].size != 0:\n",
    "    print(\"current vs time\")"
   ]
  }
 ],
 "metadata": {
  "kernelspec": {
   "display_name": "Python 3 (ipykernel)",
   "language": "python",
   "name": "python3"
  },
  "language_info": {
   "codemirror_mode": {
    "name": "ipython",
    "version": 3
   },
   "file_extension": ".py",
   "mimetype": "text/x-python",
   "name": "python",
   "nbconvert_exporter": "python",
   "pygments_lexer": "ipython3",
   "version": "3.10.4"
  }
 },
 "nbformat": 4,
 "nbformat_minor": 5
}
