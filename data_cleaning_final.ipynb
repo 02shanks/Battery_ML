{
 "cells": [
  {
   "cell_type": "code",
   "execution_count": 1,
   "id": "78ddcf4e",
   "metadata": {},
   "outputs": [],
   "source": [
    "import pandas as pd\n",
    "import numpy as np\n",
    "import matplotlib.pyplot as plt"
   ]
  },
  {
   "cell_type": "code",
   "execution_count": 127,
   "id": "90d082f4",
   "metadata": {},
   "outputs": [],
   "source": [
    "df = pd.read_csv(\"Cleaned_SNL_18650_LFP_15C_0-100_0.5-1C_a_timeseries.csv\")\n",
    "df['Cycle_Index'] = pd.to_numeric(df['Cycle_Index'])\n"
   ]
  },
  {
   "cell_type": "code",
   "execution_count": 128,
   "id": "48748dc2",
   "metadata": {},
   "outputs": [],
   "source": [
    "err_idx=[] #For errornous indicies : Cycle number didn't got reset\n",
    "miss_idx=[] #Missed Index\n",
    "for i in range(1,len(df)-1):\n",
    "    if (df['Current (A)'][i]==0 and df['Current (A)'][i+1]>0 and df['Current (A)'][i-1]<0 and (df['Cycle_Index'][i+1]==df['Cycle_Index'][i-1])):\n",
    "        err_idx.append(i)\n",
    "    if(df['Cycle_Index'][i+1]-df['Cycle_Index'][i]>1):\n",
    "        miss_idx.append(i)\n"
   ]
  },
  {
   "cell_type": "code",
   "execution_count": 129,
   "id": "2c7ae17f",
   "metadata": {},
   "outputs": [],
   "source": [
    "def relative_to_first(data_frame, column_name, i):\n",
    "    col_data = data_frame[data_frame['Cycle_Index']==i+1][column_name]\n",
    "    print(col_data.iloc[0])\n",
    "    data_frame.loc[data_frame['Cycle_Index']==i+1,column_name] = col_data - col_data.iloc[0]"
   ]
  },
  {
   "cell_type": "code",
   "execution_count": 130,
   "id": "c85d4b98",
   "metadata": {},
   "outputs": [],
   "source": [
    "for i in miss_idx:\n",
    "    df.loc[df.index >= i,'Cycle_Index'] = df.loc[df.index >= i,'Cycle_Index'] - 1\n",
    "for i in err_idx:\n",
    "    df.loc[df.index >= i,'Cycle_Index'] = df.loc[df.index >= i,'Cycle_Index'] + 1\n"
   ]
  },
  {
   "cell_type": "code",
   "execution_count": 131,
   "id": "7f72a166",
   "metadata": {},
   "outputs": [],
   "source": [
    "t=df.groupby('Cycle_Index').first()['Charge_Capacity (Ah)']\n",
    "nonzeroind =np.where(t>0.5)"
   ]
  },
  {
   "cell_type": "code",
   "execution_count": 132,
   "id": "eb40207f",
   "metadata": {},
   "outputs": [
    {
     "name": "stdout",
     "output_type": "stream",
     "text": [
      "1.038\n",
      "1.032\n",
      "3.511\n",
      "3.207\n",
      "1.036\n",
      "1.029\n",
      "3.527\n",
      "3.145\n",
      "1.023\n",
      "1.016\n",
      "3.5\n",
      "3.069\n",
      "1.015\n",
      "1.008\n",
      "3.427\n",
      "3.14\n",
      "1.005\n",
      "0.998\n",
      "3.392\n",
      "3.113\n",
      "0.996\n",
      "0.987\n",
      "3.342\n",
      "3.109\n",
      "0.995\n",
      "0.986\n",
      "3.338\n",
      "3.105\n",
      "0.986\n",
      "0.977\n",
      "3.31\n",
      "3.074\n",
      "0.979\n",
      "0.97\n",
      "3.291\n",
      "3.044\n",
      "0.968\n",
      "0.959\n",
      "3.253\n",
      "3.011\n"
     ]
    }
   ],
   "source": [
    "for i in (nonzeroind[0]):\n",
    "    relative_to_first(df, 'Charge_Capacity (Ah)', i)\n",
    "    relative_to_first(df, 'Discharge_Capacity (Ah)', i)\n",
    "    relative_to_first(df, 'Charge_Energy (Wh)', i)\n",
    "    relative_to_first(df, 'Discharge_Energy (Wh)', i)"
   ]
  },
  {
   "cell_type": "code",
   "execution_count": 133,
   "id": "fd58828b",
   "metadata": {},
   "outputs": [
    {
     "data": {
      "image/png": "[encoded data removed]",
      "text/plain": [
       "<Figure size 432x288 with 1 Axes>"
      ]
     },
     "metadata": {
      "needs_background": "light"
     },
     "output_type": "display_data"
    }
   ],
   "source": [
    "s = df.groupby('Cycle_Index')['Charge_Capacity (Ah)'].max()\n",
    "s.plot()\n",
    "plt.show()"
   ]
  },
  {
   "cell_type": "code",
   "execution_count": 134,
   "id": "235534e3",
   "metadata": {},
   "outputs": [],
   "source": [
    "idx_ls=[]\n",
    "s = df.groupby('Cycle_Index')['Charge_Capacity (Ah)'].max()\n",
    "thresh = s.mean()*(0.8)\n",
    "s.drop(s.index[-1])\n",
    "for i in range(len(s)):\n",
    "    if (s.iloc[i]<thresh):\n",
    "        idx_ls.append(i)\n"
   ]
  },
  {
   "cell_type": "code",
   "execution_count": 135,
   "id": "d9e69ea1",
   "metadata": {},
   "outputs": [
    {
     "data": {
      "image/png": "[encoded data removed]",
      "text/plain": [
       "<Figure size 432x288 with 1 Axes>"
      ]
     },
     "metadata": {
      "needs_background": "light"
     },
     "output_type": "display_data"
    }
   ],
   "source": [
    "s.drop(s.index[idx_ls],inplace = True)\n",
    "s.plot()\n",
    "plt.show()"
   ]
  },
  {
   "cell_type": "code",
   "execution_count": null,
   "id": "ea0759d8",
   "metadata": {},
   "outputs": [],
   "source": []
  },
  {
   "cell_type": "code",
   "execution_count": null,
   "id": "c10c8e83",
   "metadata": {},
   "outputs": [],
   "source": []
  },
  {
   "cell_type": "code",
   "execution_count": null,
   "id": "7f9e1c59",
   "metadata": {},
   "outputs": [],
   "source": []
  },
  {
   "cell_type": "code",
   "execution_count": null,
   "id": "69082c9d",
   "metadata": {},
   "outputs": [],
   "source": []
  },
  {
   "cell_type": "code",
   "execution_count": null,
   "id": "4aa07b24",
   "metadata": {},
   "outputs": [],
   "source": []
  },
  {
   "cell_type": "code",
   "execution_count": null,
   "id": "0a64d791",
   "metadata": {},
   "outputs": [],
   "source": []
  },
  {
   "cell_type": "code",
   "execution_count": null,
   "id": "329e677d",
   "metadata": {},
   "outputs": [],
   "source": []
  },
  {
   "cell_type": "code",
   "execution_count": null,
   "id": "2444c1f3",
   "metadata": {},
   "outputs": [],
   "source": []
  },
  {
   "cell_type": "code",
   "execution_count": null,
   "id": "8d198783",
   "metadata": {},
   "outputs": [],
   "source": []
  },
  {
   "cell_type": "code",
   "execution_count": null,
   "id": "80e9eea8",
   "metadata": {},
   "outputs": [],
   "source": []
  }
 ],
 "metadata": {
  "kernelspec": {
   "display_name": "Python 3.10.5 64-bit",
   "language": "python",
   "name": "python3"
  },
  "language_info": {
   "codemirror_mode": {
    "name": "ipython",
    "version": 3
   },
   "file_extension": ".py",
   "mimetype": "text/x-python",
   "name": "python",
   "nbconvert_exporter": "python",
   "pygments_lexer": "ipython3",
   "version": "3.10.5"
  },
  "vscode": {
   "interpreter": {
    "hash": "f0041f93a488064df38cabb1e81bbfe5c24ed1cefee7216126153c8918b86701"
   }
  }
 },
 "nbformat": 4,
 "nbformat_minor": 5
}
